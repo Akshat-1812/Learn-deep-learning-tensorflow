{
 "cells": [
  {
   "cell_type": "markdown",
   "id": "26c328f5",
   "metadata": {},
   "source": [
    "# Boston-Pricing"
   ]
  },
  {
   "cell_type": "markdown",
   "id": "8203f07a",
   "metadata": {},
   "source": [
    "This is a dataset taken from the StatLib library which is maintained at Carnegie Mellon University.\n",
    "\n",
    "Samples contain 13 attributes of houses at different locations around the Boston suburbs in the late 1970s. Targets are the median values of the houses at a location (in k$).\n",
    "\n",
    "The attributes themselves are defined in the StatLib website."
   ]
  },
  {
   "cell_type": "code",
   "execution_count": 1,
   "id": "2ba764ac",
   "metadata": {},
   "outputs": [],
   "source": [
    "import pandas as pd\n",
    "import numpy as np\n",
    "import matplotlib.pyplot as plt\n",
    "import seaborn as sns\n",
    "\n",
    "%matplotlib inline"
   ]
  },
  {
   "cell_type": "code",
   "execution_count": 2,
   "id": "302a8211",
   "metadata": {},
   "outputs": [],
   "source": [
    "from sklearn.preprocessing import MinMaxScaler, OneHotEncoder"
   ]
  },
  {
   "cell_type": "code",
   "execution_count": 3,
   "id": "c804527c",
   "metadata": {},
   "outputs": [],
   "source": [
    "import tensorflow as tf\n",
    "from tensorflow.keras import Sequential\n",
    "from tensorflow.keras.layers import Dense"
   ]
  },
  {
   "cell_type": "markdown",
   "id": "18f724e4",
   "metadata": {},
   "source": [
    "## About Data\n",
    "**Variables in order:**\n",
    "- CRIM  =>   per capita crime rate by town\n",
    "- ZN    =>   proportion of residential land zoned for lots over 25,000 sq.ft.\n",
    "- INDUS =>   proportion of non-retail business acres per town\n",
    "- CHAS  =>   Charles River dummy variable (= 1 if tract bounds river; 0 otherwise)\n",
    "- NOX   =>   nitric oxides concentration (parts per 10 million)\n",
    "- RM    =>   average number of rooms per dwelling\n",
    "- AGE   =>   proportion of owner-occupied units built prior to 1940\n",
    "- DIS   =>   weighted distances to five Boston employment centres\n",
    "- RAD   =>   index of accessibility to radial highways\n",
    "- TAX   =>   full-value property-tax rate per `$ 10,000`\n",
    "- PTRATIO => pupil-teacher ratio by town\n",
    "- B       => 1000(Bk - 0.63)^2 where Bk is the proportion of blacks by town\n",
    "- LSTAT  =>  % lower status of the population\n",
    "- MEDV   =>  Median value of owner-occupied homes in $1000's"
   ]
  },
  {
   "cell_type": "markdown",
   "id": "b4a41e29",
   "metadata": {},
   "source": [
    "### 1. Load Data"
   ]
  },
  {
   "cell_type": "code",
   "execution_count": 4,
   "id": "cdcc4bfb",
   "metadata": {},
   "outputs": [],
   "source": [
    "(X_train, y_train), (X_test, y_test) = tf.keras.datasets.boston_housing.load_data(path='boston_housing.npz',\n",
    "                                            test_split=0.2, \n",
    "                                            seed=113)"
   ]
  },
  {
   "cell_type": "code",
   "execution_count": 5,
   "id": "3fa3dcf0",
   "metadata": {},
   "outputs": [
    {
     "data": {
      "text/plain": [
       "((404, 13), (102, 13), (404,), (102,))"
      ]
     },
     "execution_count": 5,
     "metadata": {},
     "output_type": "execute_result"
    }
   ],
   "source": [
    "X_train.shape, X_test.shape, y_train.shape, y_test.shape"
   ]
  },
  {
   "cell_type": "code",
   "execution_count": 6,
   "id": "94397509",
   "metadata": {},
   "outputs": [
    {
     "data": {
      "text/plain": [
       "13"
      ]
     },
     "execution_count": 6,
     "metadata": {},
     "output_type": "execute_result"
    }
   ],
   "source": [
    "len(X_train[0])"
   ]
  },
  {
   "cell_type": "code",
   "execution_count": 7,
   "id": "fd82b28e",
   "metadata": {},
   "outputs": [
    {
     "data": {
      "text/plain": [
       "15.2"
      ]
     },
     "execution_count": 7,
     "metadata": {},
     "output_type": "execute_result"
    }
   ],
   "source": [
    "y_train[0]"
   ]
  },
  {
   "cell_type": "markdown",
   "id": "ec0e0d6f",
   "metadata": {},
   "source": [
    "**Note** All our features don't have categorical values hence skip to sacling"
   ]
  },
  {
   "cell_type": "markdown",
   "id": "09a12167",
   "metadata": {},
   "source": [
    "### 2. Scaling"
   ]
  },
  {
   "cell_type": "code",
   "execution_count": 8,
   "id": "fef80102",
   "metadata": {},
   "outputs": [
    {
     "data": {
      "text/plain": [
       "((404, 13), (102, 13))"
      ]
     },
     "execution_count": 8,
     "metadata": {},
     "output_type": "execute_result"
    }
   ],
   "source": [
    "scale = MinMaxScaler()\n",
    "\n",
    "scale.fit(X_train)\n",
    "\n",
    "X_train_normal = scale.transform(X_train)\n",
    "X_test_normal = scale.transform(X_test)\n",
    "\n",
    "X_train_normal.shape, X_test_normal.shape"
   ]
  },
  {
   "cell_type": "code",
   "execution_count": 9,
   "id": "4cbaeb5e",
   "metadata": {},
   "outputs": [
    {
     "data": {
      "text/plain": [
       "array([0.01378163, 0.        , 0.28152493, 0.        , 0.31481481,\n",
       "       0.49980635, 0.91452111, 0.29719123, 0.13043478, 0.22753346,\n",
       "       0.89361702, 1.        , 0.46881898])"
      ]
     },
     "execution_count": 9,
     "metadata": {},
     "output_type": "execute_result"
    }
   ],
   "source": [
    "X_train_normal[0]"
   ]
  },
  {
   "cell_type": "markdown",
   "id": "6418d2a7",
   "metadata": {},
   "source": [
    "### 3. Modeling"
   ]
  },
  {
   "cell_type": "code",
   "execution_count": 10,
   "id": "21320f16",
   "metadata": {},
   "outputs": [
    {
     "name": "stdout",
     "output_type": "stream",
     "text": [
      "Epoch 1/100\n",
      "13/13 [==============================] - 0s 2ms/step - loss: 22.1787 - mae: 22.1787\n",
      "Epoch 2/100\n",
      "13/13 [==============================] - 0s 1ms/step - loss: 21.6707 - mae: 21.6707\n",
      "Epoch 3/100\n",
      "13/13 [==============================] - 0s 2ms/step - loss: 20.6250 - mae: 20.6250\n",
      "Epoch 4/100\n",
      "13/13 [==============================] - 0s 2ms/step - loss: 18.2817 - mae: 18.2817\n",
      "Epoch 5/100\n",
      "13/13 [==============================] - 0s 2ms/step - loss: 13.3356 - mae: 13.3356\n",
      "Epoch 6/100\n",
      "13/13 [==============================] - 0s 2ms/step - loss: 9.5894 - mae: 9.5894\n",
      "Epoch 7/100\n",
      "13/13 [==============================] - 0s 2ms/step - loss: 8.8006 - mae: 8.8006\n",
      "Epoch 8/100\n",
      "13/13 [==============================] - ETA: 0s - loss: 7.0256 - mae: 7.025 - 0s 2ms/step - loss: 7.9177 - mae: 7.9177\n",
      "Epoch 9/100\n",
      "13/13 [==============================] - 0s 2ms/step - loss: 7.2362 - mae: 7.2362\n",
      "Epoch 10/100\n",
      "13/13 [==============================] - 0s 2ms/step - loss: 6.4523 - mae: 6.4523\n",
      "Epoch 11/100\n",
      "13/13 [==============================] - 0s 2ms/step - loss: 6.0443 - mae: 6.0443\n",
      "Epoch 12/100\n",
      "13/13 [==============================] - 0s 2ms/step - loss: 5.7898 - mae: 5.7898\n",
      "Epoch 13/100\n",
      "13/13 [==============================] - 0s 2ms/step - loss: 5.3974 - mae: 5.3974\n",
      "Epoch 14/100\n",
      "13/13 [==============================] - 0s 2ms/step - loss: 5.3370 - mae: 5.3370\n",
      "Epoch 15/100\n",
      "13/13 [==============================] - 0s 2ms/step - loss: 5.3316 - mae: 5.3316\n",
      "Epoch 16/100\n",
      "13/13 [==============================] - 0s 1ms/step - loss: 5.3246 - mae: 5.3246\n",
      "Epoch 17/100\n",
      "13/13 [==============================] - 0s 2ms/step - loss: 4.9777 - mae: 4.9777\n",
      "Epoch 18/100\n",
      "13/13 [==============================] - 0s 1ms/step - loss: 4.8692 - mae: 4.8692\n",
      "Epoch 19/100\n",
      "13/13 [==============================] - 0s 2ms/step - loss: 4.8453 - mae: 4.8453\n",
      "Epoch 20/100\n",
      "13/13 [==============================] - 0s 2ms/step - loss: 4.8765 - mae: 4.8765\n",
      "Epoch 21/100\n",
      "13/13 [==============================] - 0s 2ms/step - loss: 4.7556 - mae: 4.7556\n",
      "Epoch 22/100\n",
      "13/13 [==============================] - 0s 2ms/step - loss: 4.9268 - mae: 4.9268\n",
      "Epoch 23/100\n",
      "13/13 [==============================] - 0s 2ms/step - loss: 4.5278 - mae: 4.5278\n",
      "Epoch 24/100\n",
      "13/13 [==============================] - 0s 2ms/step - loss: 4.5265 - mae: 4.5265\n",
      "Epoch 25/100\n",
      "13/13 [==============================] - 0s 2ms/step - loss: 4.3527 - mae: 4.3527\n",
      "Epoch 26/100\n",
      "13/13 [==============================] - 0s 2ms/step - loss: 4.5629 - mae: 4.5629\n",
      "Epoch 27/100\n",
      "13/13 [==============================] - 0s 2ms/step - loss: 4.2376 - mae: 4.2376\n",
      "Epoch 28/100\n",
      "13/13 [==============================] - 0s 1ms/step - loss: 4.1720 - mae: 4.1720\n",
      "Epoch 29/100\n",
      "13/13 [==============================] - 0s 3ms/step - loss: 3.9891 - mae: 3.9891\n",
      "Epoch 30/100\n",
      "13/13 [==============================] - 0s 2ms/step - loss: 4.1218 - mae: 4.1218\n",
      "Epoch 31/100\n",
      "13/13 [==============================] - 0s 2ms/step - loss: 4.2195 - mae: 4.2195\n",
      "Epoch 32/100\n",
      "13/13 [==============================] - 0s 3ms/step - loss: 3.9213 - mae: 3.9213\n",
      "Epoch 33/100\n",
      "13/13 [==============================] - 0s 3ms/step - loss: 3.7016 - mae: 3.7016\n",
      "Epoch 34/100\n",
      "13/13 [==============================] - 0s 3ms/step - loss: 3.6716 - mae: 3.6716\n",
      "Epoch 35/100\n",
      "13/13 [==============================] - 0s 3ms/step - loss: 3.9645 - mae: 3.9645\n",
      "Epoch 36/100\n",
      "13/13 [==============================] - 0s 4ms/step - loss: 3.5052 - mae: 3.5052\n",
      "Epoch 37/100\n",
      "13/13 [==============================] - 0s 3ms/step - loss: 3.4646 - mae: 3.4646\n",
      "Epoch 38/100\n",
      "13/13 [==============================] - 0s 2ms/step - loss: 3.4745 - mae: 3.4745\n",
      "Epoch 39/100\n",
      "13/13 [==============================] - 0s 1ms/step - loss: 3.5352 - mae: 3.5352\n",
      "Epoch 40/100\n",
      "13/13 [==============================] - 0s 2ms/step - loss: 3.4781 - mae: 3.4781\n",
      "Epoch 41/100\n",
      "13/13 [==============================] - 0s 2ms/step - loss: 3.5513 - mae: 3.5513\n",
      "Epoch 42/100\n",
      "13/13 [==============================] - 0s 2ms/step - loss: 3.5546 - mae: 3.5546\n",
      "Epoch 43/100\n",
      "13/13 [==============================] - 0s 1ms/step - loss: 3.6219 - mae: 3.6219\n",
      "Epoch 44/100\n",
      "13/13 [==============================] - 0s 2ms/step - loss: 3.3385 - mae: 3.3385\n",
      "Epoch 45/100\n",
      "13/13 [==============================] - 0s 2ms/step - loss: 3.5543 - mae: 3.5543\n",
      "Epoch 46/100\n",
      "13/13 [==============================] - 0s 2ms/step - loss: 3.4624 - mae: 3.4624\n",
      "Epoch 47/100\n",
      "13/13 [==============================] - 0s 2ms/step - loss: 3.4564 - mae: 3.4564\n",
      "Epoch 48/100\n",
      "13/13 [==============================] - 0s 2ms/step - loss: 3.4052 - mae: 3.4052\n",
      "Epoch 49/100\n",
      "13/13 [==============================] - 0s 2ms/step - loss: 3.4895 - mae: 3.4895\n",
      "Epoch 50/100\n",
      "13/13 [==============================] - 0s 2ms/step - loss: 3.5684 - mae: 3.5684\n",
      "Epoch 51/100\n",
      "13/13 [==============================] - 0s 2ms/step - loss: 3.1266 - mae: 3.1266\n",
      "Epoch 52/100\n",
      "13/13 [==============================] - 0s 2ms/step - loss: 3.3970 - mae: 3.3970\n",
      "Epoch 53/100\n",
      "13/13 [==============================] - 0s 1ms/step - loss: 3.2881 - mae: 3.2881\n",
      "Epoch 54/100\n",
      "13/13 [==============================] - 0s 2ms/step - loss: 3.3787 - mae: 3.3787\n",
      "Epoch 55/100\n",
      "13/13 [==============================] - 0s 1ms/step - loss: 3.2475 - mae: 3.2475\n",
      "Epoch 56/100\n",
      "13/13 [==============================] - 0s 2ms/step - loss: 3.1283 - mae: 3.1283\n",
      "Epoch 57/100\n",
      "13/13 [==============================] - 0s 1ms/step - loss: 3.3717 - mae: 3.3717\n",
      "Epoch 58/100\n",
      "13/13 [==============================] - 0s 1ms/step - loss: 3.1310 - mae: 3.1310\n",
      "Epoch 59/100\n",
      "13/13 [==============================] - 0s 2ms/step - loss: 3.2672 - mae: 3.2672\n",
      "Epoch 60/100\n",
      "13/13 [==============================] - 0s 3ms/step - loss: 3.2056 - mae: 3.2056\n",
      "Epoch 61/100\n",
      "13/13 [==============================] - 0s 3ms/step - loss: 3.1523 - mae: 3.1523\n",
      "Epoch 62/100\n",
      "13/13 [==============================] - 0s 3ms/step - loss: 3.0029 - mae: 3.0029\n",
      "Epoch 63/100\n",
      "13/13 [==============================] - 0s 2ms/step - loss: 3.2309 - mae: 3.2309\n",
      "Epoch 64/100\n",
      "13/13 [==============================] - 0s 3ms/step - loss: 3.1273 - mae: 3.1273\n",
      "Epoch 65/100\n",
      "13/13 [==============================] - 0s 2ms/step - loss: 3.0747 - mae: 3.0747\n",
      "Epoch 66/100\n",
      "13/13 [==============================] - 0s 1ms/step - loss: 3.1298 - mae: 3.1298\n",
      "Epoch 67/100\n",
      "13/13 [==============================] - 0s 1ms/step - loss: 3.0225 - mae: 3.0225\n",
      "Epoch 68/100\n",
      "13/13 [==============================] - 0s 1ms/step - loss: 3.0648 - mae: 3.0648\n",
      "Epoch 69/100\n",
      "13/13 [==============================] - 0s 1ms/step - loss: 3.0478 - mae: 3.0478\n",
      "Epoch 70/100\n",
      "13/13 [==============================] - 0s 1ms/step - loss: 3.0047 - mae: 3.0047\n",
      "Epoch 71/100\n",
      "13/13 [==============================] - 0s 1ms/step - loss: 2.9923 - mae: 2.9923\n",
      "Epoch 72/100\n",
      "13/13 [==============================] - 0s 1ms/step - loss: 3.2168 - mae: 3.2168\n",
      "Epoch 73/100\n",
      "13/13 [==============================] - 0s 1ms/step - loss: 2.9368 - mae: 2.9368\n",
      "Epoch 74/100\n",
      "13/13 [==============================] - 0s 2ms/step - loss: 3.2952 - mae: 3.2952\n",
      "Epoch 75/100\n",
      "13/13 [==============================] - 0s 4ms/step - loss: 3.1323 - mae: 3.1323\n",
      "Epoch 76/100\n",
      "13/13 [==============================] - 0s 3ms/step - loss: 3.0259 - mae: 3.0259\n",
      "Epoch 77/100\n",
      "13/13 [==============================] - 0s 3ms/step - loss: 2.8724 - mae: 2.8724\n",
      "Epoch 78/100\n",
      "13/13 [==============================] - 0s 3ms/step - loss: 2.9120 - mae: 2.9120\n",
      "Epoch 79/100\n",
      "13/13 [==============================] - 0s 2ms/step - loss: 3.0171 - mae: 3.0171\n",
      "Epoch 80/100\n",
      "13/13 [==============================] - 0s 2ms/step - loss: 2.9156 - mae: 2.9156\n",
      "Epoch 81/100\n",
      "13/13 [==============================] - 0s 3ms/step - loss: 2.9315 - mae: 2.9315\n",
      "Epoch 82/100\n",
      "13/13 [==============================] - 0s 2ms/step - loss: 2.9495 - mae: 2.9495\n",
      "Epoch 83/100\n",
      "13/13 [==============================] - 0s 1ms/step - loss: 2.8573 - mae: 2.8573\n",
      "Epoch 84/100\n",
      "13/13 [==============================] - 0s 1ms/step - loss: 2.9225 - mae: 2.9225\n",
      "Epoch 85/100\n",
      "13/13 [==============================] - 0s 1ms/step - loss: 3.0903 - mae: 3.0903\n",
      "Epoch 86/100\n"
     ]
    },
    {
     "name": "stdout",
     "output_type": "stream",
     "text": [
      "13/13 [==============================] - 0s 2ms/step - loss: 2.9853 - mae: 2.9853\n",
      "Epoch 87/100\n",
      "13/13 [==============================] - ETA: 0s - loss: 2.6163 - mae: 2.616 - 0s 3ms/step - loss: 2.8007 - mae: 2.8007\n",
      "Epoch 88/100\n",
      "13/13 [==============================] - 0s 3ms/step - loss: 2.9075 - mae: 2.9075\n",
      "Epoch 89/100\n",
      "13/13 [==============================] - 0s 3ms/step - loss: 3.1324 - mae: 3.1324\n",
      "Epoch 90/100\n",
      "13/13 [==============================] - 0s 4ms/step - loss: 2.7927 - mae: 2.7927\n",
      "Epoch 91/100\n",
      "13/13 [==============================] - 0s 2ms/step - loss: 2.6975 - mae: 2.6975\n",
      "Epoch 92/100\n",
      "13/13 [==============================] - 0s 2ms/step - loss: 2.7952 - mae: 2.7952\n",
      "Epoch 93/100\n",
      "13/13 [==============================] - 0s 1ms/step - loss: 2.9454 - mae: 2.9454\n",
      "Epoch 94/100\n",
      "13/13 [==============================] - 0s 1ms/step - loss: 2.7739 - mae: 2.7739\n",
      "Epoch 95/100\n",
      "13/13 [==============================] - 0s 1ms/step - loss: 2.8236 - mae: 2.8236\n",
      "Epoch 96/100\n",
      "13/13 [==============================] - 0s 1ms/step - loss: 2.7927 - mae: 2.7927\n",
      "Epoch 97/100\n",
      "13/13 [==============================] - 0s 1ms/step - loss: 2.8291 - mae: 2.8291\n",
      "Epoch 98/100\n",
      "13/13 [==============================] - 0s 2ms/step - loss: 2.7618 - mae: 2.7618\n",
      "Epoch 99/100\n",
      "13/13 [==============================] - 0s 3ms/step - loss: 2.7422 - mae: 2.7422\n",
      "Epoch 100/100\n",
      "13/13 [==============================] - 0s 4ms/step - loss: 2.9087 - mae: 2.9087\n"
     ]
    }
   ],
   "source": [
    "# Set seed\n",
    "tf.random.set_seed(42)\n",
    "\n",
    "# Build a model\n",
    "model_1 = Sequential([\n",
    "    \n",
    "    Dense(100, activation='relu'),\n",
    "    Dense(50, activation='relu'),\n",
    "    tf.keras.layers.Dropout(0.2),\n",
    "    Dense(25, activation='relu'),\n",
    "    Dense(1)\n",
    "])\n",
    "\n",
    "# Compile a model\n",
    "model_1.compile(loss = 'mae',\n",
    "                optimizer = 'adam',\n",
    "                metrics = ['mae'])\n",
    "\n",
    "# Fit a model\n",
    "history = model_1.fit(X_train_normal, y_train, epochs=100)"
   ]
  },
  {
   "cell_type": "code",
   "execution_count": 11,
   "id": "2b8228ec",
   "metadata": {},
   "outputs": [
    {
     "name": "stdout",
     "output_type": "stream",
     "text": [
      "4/4 [==============================] - 0s 1ms/step - loss: 3.0998 - mae: 3.0998\n"
     ]
    }
   ],
   "source": [
    "# Evaluate our model_1\n",
    "model_1_loss, model_1_mae = model_1.evaluate(X_test_normal, y_test)"
   ]
  },
  {
   "cell_type": "code",
   "execution_count": 12,
   "id": "de41b2d9",
   "metadata": {},
   "outputs": [
    {
     "data": {
      "image/png": "[encoded data removed]",
      "text/plain": [
       "<Figure size 432x288 with 1 Axes>"
      ]
     },
     "metadata": {
      "needs_background": "light"
     },
     "output_type": "display_data"
    }
   ],
   "source": [
    "# Plot a learning curve\n",
    "pd.DataFrame(history.history).plot()\n",
    "plt.ylabel(\"loss\")\n",
    "plt.xlabel(\"epochs\");"
   ]
  },
  {
   "cell_type": "markdown",
   "id": "8daac31a",
   "metadata": {},
   "source": [
    "#### Let's create a model 2 and try to minimize the loss\n",
    "- chnages lr"
   ]
  },
  {
   "cell_type": "code",
   "execution_count": 13,
   "id": "9cd452c5",
   "metadata": {},
   "outputs": [
    {
     "name": "stdout",
     "output_type": "stream",
     "text": [
      "Epoch 1/100\n",
      "13/13 [==============================] - 0s 2ms/step - loss: 17.0288 - mae: 17.0288\n",
      "Epoch 2/100\n",
      "13/13 [==============================] - 0s 2ms/step - loss: 8.6212 - mae: 8.6212\n",
      "Epoch 3/100\n",
      "13/13 [==============================] - 0s 2ms/step - loss: 5.9965 - mae: 5.9965\n",
      "Epoch 4/100\n",
      "13/13 [==============================] - 0s 2ms/step - loss: 4.9783 - mae: 4.9783\n",
      "Epoch 5/100\n",
      "13/13 [==============================] - 0s 1ms/step - loss: 4.6655 - mae: 4.6655\n",
      "Epoch 6/100\n",
      "13/13 [==============================] - 0s 2ms/step - loss: 4.3947 - mae: 4.3947\n",
      "Epoch 7/100\n",
      "13/13 [==============================] - 0s 1ms/step - loss: 3.9228 - mae: 3.9228\n",
      "Epoch 8/100\n",
      "13/13 [==============================] - 0s 3ms/step - loss: 3.4632 - mae: 3.4632\n",
      "Epoch 9/100\n",
      "13/13 [==============================] - 0s 3ms/step - loss: 3.3766 - mae: 3.3766\n",
      "Epoch 10/100\n",
      "13/13 [==============================] - 0s 3ms/step - loss: 3.1259 - mae: 3.1259\n",
      "Epoch 11/100\n",
      "13/13 [==============================] - 0s 3ms/step - loss: 3.3918 - mae: 3.3918\n",
      "Epoch 12/100\n",
      "13/13 [==============================] - 0s 3ms/step - loss: 3.0544 - mae: 3.0544\n",
      "Epoch 13/100\n",
      "13/13 [==============================] - 0s 3ms/step - loss: 3.2634 - mae: 3.2634\n",
      "Epoch 14/100\n",
      "13/13 [==============================] - 0s 3ms/step - loss: 3.1172 - mae: 3.1172\n",
      "Epoch 15/100\n",
      "13/13 [==============================] - 0s 3ms/step - loss: 2.9714 - mae: 2.9714\n",
      "Epoch 16/100\n",
      "13/13 [==============================] - 0s 3ms/step - loss: 2.9153 - mae: 2.9153\n",
      "Epoch 17/100\n",
      "13/13 [==============================] - 0s 3ms/step - loss: 2.9768 - mae: 2.9768\n",
      "Epoch 18/100\n",
      "13/13 [==============================] - 0s 3ms/step - loss: 2.7869 - mae: 2.7869\n",
      "Epoch 19/100\n",
      "13/13 [==============================] - 0s 2ms/step - loss: 2.6699 - mae: 2.6699\n",
      "Epoch 20/100\n",
      "13/13 [==============================] - 0s 2ms/step - loss: 2.7884 - mae: 2.7884\n",
      "Epoch 21/100\n",
      "13/13 [==============================] - 0s 2ms/step - loss: 2.8169 - mae: 2.8169\n",
      "Epoch 22/100\n",
      "13/13 [==============================] - 0s 2ms/step - loss: 2.8622 - mae: 2.8622\n",
      "Epoch 23/100\n",
      "13/13 [==============================] - 0s 2ms/step - loss: 2.6344 - mae: 2.6344\n",
      "Epoch 24/100\n",
      "13/13 [==============================] - 0s 2ms/step - loss: 2.6751 - mae: 2.6751\n",
      "Epoch 25/100\n",
      "13/13 [==============================] - 0s 2ms/step - loss: 2.6346 - mae: 2.6346\n",
      "Epoch 26/100\n",
      "13/13 [==============================] - 0s 2ms/step - loss: 2.6687 - mae: 2.6687\n",
      "Epoch 27/100\n",
      "13/13 [==============================] - 0s 2ms/step - loss: 2.7367 - mae: 2.7367\n",
      "Epoch 28/100\n",
      "13/13 [==============================] - 0s 1ms/step - loss: 2.7262 - mae: 2.7262\n",
      "Epoch 29/100\n",
      "13/13 [==============================] - 0s 2ms/step - loss: 2.5531 - mae: 2.5531\n",
      "Epoch 30/100\n",
      "13/13 [==============================] - 0s 2ms/step - loss: 2.5286 - mae: 2.5286\n",
      "Epoch 31/100\n",
      "13/13 [==============================] - 0s 2ms/step - loss: 2.5799 - mae: 2.5799\n",
      "Epoch 32/100\n",
      "13/13 [==============================] - 0s 3ms/step - loss: 2.5127 - mae: 2.5127\n",
      "Epoch 33/100\n",
      "13/13 [==============================] - 0s 2ms/step - loss: 2.6181 - mae: 2.6181\n",
      "Epoch 34/100\n",
      "13/13 [==============================] - 0s 5ms/step - loss: 2.9810 - mae: 2.9810\n",
      "Epoch 35/100\n",
      "13/13 [==============================] - 0s 2ms/step - loss: 2.7579 - mae: 2.7579\n",
      "Epoch 36/100\n",
      "13/13 [==============================] - 0s 2ms/step - loss: 2.5127 - mae: 2.5127\n",
      "Epoch 37/100\n",
      "13/13 [==============================] - 0s 2ms/step - loss: 2.6156 - mae: 2.6156\n",
      "Epoch 38/100\n",
      "13/13 [==============================] - 0s 2ms/step - loss: 2.5190 - mae: 2.5190\n",
      "Epoch 39/100\n",
      "13/13 [==============================] - 0s 2ms/step - loss: 2.3870 - mae: 2.3870\n",
      "Epoch 40/100\n",
      "13/13 [==============================] - 0s 2ms/step - loss: 2.4168 - mae: 2.4168\n",
      "Epoch 41/100\n",
      "13/13 [==============================] - 0s 2ms/step - loss: 2.4369 - mae: 2.4369\n",
      "Epoch 42/100\n",
      "13/13 [==============================] - 0s 3ms/step - loss: 2.3752 - mae: 2.3752\n",
      "Epoch 43/100\n",
      "13/13 [==============================] - 0s 2ms/step - loss: 2.3839 - mae: 2.3839\n",
      "Epoch 44/100\n",
      "13/13 [==============================] - 0s 4ms/step - loss: 2.3252 - mae: 2.3252\n",
      "Epoch 45/100\n",
      "13/13 [==============================] - 0s 3ms/step - loss: 2.3567 - mae: 2.3567\n",
      "Epoch 46/100\n",
      "13/13 [==============================] - 0s 2ms/step - loss: 2.3669 - mae: 2.3669\n",
      "Epoch 47/100\n",
      "13/13 [==============================] - 0s 2ms/step - loss: 2.2966 - mae: 2.2966\n",
      "Epoch 48/100\n",
      "13/13 [==============================] - 0s 2ms/step - loss: 2.2122 - mae: 2.2122\n",
      "Epoch 49/100\n",
      "13/13 [==============================] - 0s 2ms/step - loss: 2.2846 - mae: 2.2846\n",
      "Epoch 50/100\n",
      "13/13 [==============================] - 0s 2ms/step - loss: 2.4014 - mae: 2.4014\n",
      "Epoch 51/100\n",
      "13/13 [==============================] - 0s 2ms/step - loss: 2.1823 - mae: 2.1823\n",
      "Epoch 52/100\n",
      "13/13 [==============================] - 0s 2ms/step - loss: 2.2011 - mae: 2.2011\n",
      "Epoch 53/100\n",
      "13/13 [==============================] - 0s 3ms/step - loss: 2.2859 - mae: 2.2859\n",
      "Epoch 54/100\n",
      "13/13 [==============================] - 0s 4ms/step - loss: 2.2117 - mae: 2.2117\n",
      "Epoch 55/100\n",
      "13/13 [==============================] - 0s 4ms/step - loss: 2.2654 - mae: 2.2654\n",
      "Epoch 56/100\n",
      "13/13 [==============================] - 0s 2ms/step - loss: 2.1022 - mae: 2.1022\n",
      "Epoch 57/100\n",
      "13/13 [==============================] - 0s 3ms/step - loss: 2.3625 - mae: 2.3625\n",
      "Epoch 58/100\n",
      "13/13 [==============================] - 0s 1ms/step - loss: 2.4943 - mae: 2.4943\n",
      "Epoch 59/100\n",
      "13/13 [==============================] - 0s 1ms/step - loss: 2.6185 - mae: 2.6185\n",
      "Epoch 60/100\n",
      "13/13 [==============================] - 0s 1ms/step - loss: 2.3726 - mae: 2.3726\n",
      "Epoch 61/100\n",
      "13/13 [==============================] - 0s 1ms/step - loss: 2.2434 - mae: 2.2434\n",
      "Epoch 62/100\n",
      "13/13 [==============================] - 0s 1ms/step - loss: 2.2781 - mae: 2.2781\n",
      "Epoch 63/100\n",
      "13/13 [==============================] - 0s 1ms/step - loss: 2.1686 - mae: 2.1686\n",
      "Epoch 64/100\n",
      "13/13 [==============================] - 0s 1ms/step - loss: 2.2099 - mae: 2.2099\n",
      "Epoch 65/100\n",
      "13/13 [==============================] - 0s 1ms/step - loss: 2.2607 - mae: 2.2607\n",
      "Epoch 66/100\n",
      "13/13 [==============================] - 0s 1ms/step - loss: 2.2032 - mae: 2.2032\n",
      "Epoch 67/100\n",
      "13/13 [==============================] - 0s 1ms/step - loss: 2.1998 - mae: 2.1998\n",
      "Epoch 68/100\n",
      "13/13 [==============================] - 0s 2ms/step - loss: 2.1431 - mae: 2.1431\n",
      "Epoch 69/100\n",
      "13/13 [==============================] - 0s 1ms/step - loss: 2.1913 - mae: 2.1913\n",
      "Epoch 70/100\n",
      "13/13 [==============================] - 0s 1ms/step - loss: 2.0927 - mae: 2.0927\n",
      "Epoch 71/100\n",
      "13/13 [==============================] - 0s 1ms/step - loss: 2.2121 - mae: 2.2121\n",
      "Epoch 72/100\n",
      "13/13 [==============================] - 0s 1ms/step - loss: 2.2121 - mae: 2.2121\n",
      "Epoch 73/100\n",
      "13/13 [==============================] - 0s 1ms/step - loss: 2.0615 - mae: 2.0615\n",
      "Epoch 74/100\n",
      "13/13 [==============================] - 0s 1ms/step - loss: 2.1639 - mae: 2.1639\n",
      "Epoch 75/100\n",
      "13/13 [==============================] - 0s 2ms/step - loss: 2.3692 - mae: 2.3692\n",
      "Epoch 76/100\n",
      "13/13 [==============================] - 0s 2ms/step - loss: 2.2338 - mae: 2.2338\n",
      "Epoch 77/100\n",
      "13/13 [==============================] - 0s 4ms/step - loss: 2.0650 - mae: 2.0650\n",
      "Epoch 78/100\n",
      "13/13 [==============================] - 0s 3ms/step - loss: 2.0045 - mae: 2.0045\n",
      "Epoch 79/100\n",
      "13/13 [==============================] - 0s 3ms/step - loss: 1.9211 - mae: 1.9211\n",
      "Epoch 80/100\n",
      "13/13 [==============================] - 0s 5ms/step - loss: 1.9988 - mae: 1.9988\n",
      "Epoch 81/100\n",
      "13/13 [==============================] - 0s 3ms/step - loss: 2.0230 - mae: 2.0230\n",
      "Epoch 82/100\n",
      "13/13 [==============================] - 0s 3ms/step - loss: 1.9042 - mae: 1.9042\n",
      "Epoch 83/100\n",
      "13/13 [==============================] - 0s 2ms/step - loss: 1.9561 - mae: 1.9561\n",
      "Epoch 84/100\n",
      "13/13 [==============================] - 0s 1ms/step - loss: 1.9280 - mae: 1.9280\n",
      "Epoch 85/100\n",
      "13/13 [==============================] - 0s 2ms/step - loss: 1.9005 - mae: 1.9005\n",
      "Epoch 86/100\n",
      "13/13 [==============================] - 0s 2ms/step - loss: 2.0187 - mae: 2.0187\n",
      "Epoch 87/100\n"
     ]
    },
    {
     "name": "stdout",
     "output_type": "stream",
     "text": [
      "13/13 [==============================] - 0s 3ms/step - loss: 1.8109 - mae: 1.8109\n",
      "Epoch 88/100\n",
      "13/13 [==============================] - 0s 5ms/step - loss: 1.9004 - mae: 1.9004\n",
      "Epoch 89/100\n",
      "13/13 [==============================] - 0s 4ms/step - loss: 1.9955 - mae: 1.9955\n",
      "Epoch 90/100\n",
      "13/13 [==============================] - 0s 3ms/step - loss: 1.8124 - mae: 1.8124\n",
      "Epoch 91/100\n",
      "13/13 [==============================] - 0s 3ms/step - loss: 1.8201 - mae: 1.8201\n",
      "Epoch 92/100\n",
      "13/13 [==============================] - 0s 2ms/step - loss: 1.8877 - mae: 1.8877\n",
      "Epoch 93/100\n",
      "13/13 [==============================] - 0s 1ms/step - loss: 1.7827 - mae: 1.7827\n",
      "Epoch 94/100\n",
      "13/13 [==============================] - 0s 1ms/step - loss: 1.7364 - mae: 1.7364\n",
      "Epoch 95/100\n",
      "13/13 [==============================] - 0s 1ms/step - loss: 1.8068 - mae: 1.8068\n",
      "Epoch 96/100\n",
      "13/13 [==============================] - 0s 2ms/step - loss: 1.7798 - mae: 1.7798\n",
      "Epoch 97/100\n",
      "13/13 [==============================] - 0s 1ms/step - loss: 1.8170 - mae: 1.8170\n",
      "Epoch 98/100\n",
      "13/13 [==============================] - 0s 1ms/step - loss: 1.9567 - mae: 1.9567\n",
      "Epoch 99/100\n",
      "13/13 [==============================] - 0s 2ms/step - loss: 1.8175 - mae: 1.8175\n",
      "Epoch 100/100\n",
      "13/13 [==============================] - 0s 2ms/step - loss: 2.0509 - mae: 2.0509\n"
     ]
    }
   ],
   "source": [
    "# Set seed\n",
    "tf.random.set_seed(42)\n",
    "\n",
    "# Build a model\n",
    "model_2 = Sequential([\n",
    "    \n",
    "    Dense(100, activation='relu'),\n",
    "    Dense(50, activation='relu'),\n",
    "    tf.keras.layers.Dropout(0.1),\n",
    "    Dense(25, activation='relu'),\n",
    "    Dense(1)\n",
    "])\n",
    "\n",
    "# Compile a model\n",
    "model_2.compile(loss = 'mae',\n",
    "                optimizer = tf.keras.optimizers.Adam(lr=0.01),\n",
    "                metrics = ['mae'])\n",
    "\n",
    "# Fit a model\n",
    "history_2 = model_2.fit(X_train_normal, y_train, epochs=100)"
   ]
  },
  {
   "cell_type": "code",
   "execution_count": 14,
   "id": "040dd12d",
   "metadata": {},
   "outputs": [
    {
     "name": "stdout",
     "output_type": "stream",
     "text": [
      "4/4 [==============================] - 0s 1ms/step - loss: 3.0257 - mae: 3.0257\n"
     ]
    }
   ],
   "source": [
    "# Evaluate our model_1\n",
    "model_2_loss, model_2_mae = model_2.evaluate(X_test_normal, y_test)"
   ]
  },
  {
   "cell_type": "code",
   "execution_count": 19,
   "id": "9fc36931",
   "metadata": {},
   "outputs": [
    {
     "data": {
      "image/png": "[encoded data removed]",
      "text/plain": [
       "<Figure size 432x288 with 1 Axes>"
      ]
     },
     "metadata": {
      "needs_background": "light"
     },
     "output_type": "display_data"
    }
   ],
   "source": [
    "# plot model\n",
    "# Plot a learning curve\n",
    "pd.DataFrame(history_2.history).plot()\n",
    "plt.ylabel(\"loss\")\n",
    "plt.xlabel(\"epochs\");"
   ]
  },
  {
   "cell_type": "markdown",
   "id": "42fade24",
   "metadata": {},
   "source": [
    "### Let's try SGD with momentum"
   ]
  },
  {
   "cell_type": "code",
   "execution_count": 26,
   "id": "d8f66f6e",
   "metadata": {},
   "outputs": [
    {
     "name": "stdout",
     "output_type": "stream",
     "text": [
      "Epoch 1/120\n",
      "13/13 [==============================] - 0s 2ms/step - loss: 16.7463 - mae: 16.7463\n",
      "Epoch 2/120\n",
      "13/13 [==============================] - 0s 2ms/step - loss: 8.8764 - mae: 8.8764\n",
      "Epoch 3/120\n",
      "13/13 [==============================] - 0s 2ms/step - loss: 5.9488 - mae: 5.9488\n",
      "Epoch 4/120\n",
      "13/13 [==============================] - 0s 2ms/step - loss: 5.2972 - mae: 5.2972\n",
      "Epoch 5/120\n",
      "13/13 [==============================] - 0s 2ms/step - loss: 4.8497 - mae: 4.8497\n",
      "Epoch 6/120\n",
      "13/13 [==============================] - 0s 2ms/step - loss: 4.3048 - mae: 4.3048\n",
      "Epoch 7/120\n",
      "13/13 [==============================] - 0s 2ms/step - loss: 4.0550 - mae: 4.0550\n",
      "Epoch 8/120\n",
      "13/13 [==============================] - 0s 2ms/step - loss: 3.4883 - mae: 3.4883\n",
      "Epoch 9/120\n",
      "13/13 [==============================] - 0s 2ms/step - loss: 3.4880 - mae: 3.4880\n",
      "Epoch 10/120\n",
      "13/13 [==============================] - 0s 2ms/step - loss: 3.4164 - mae: 3.4164\n",
      "Epoch 11/120\n",
      "13/13 [==============================] - 0s 2ms/step - loss: 3.4745 - mae: 3.4745\n",
      "Epoch 12/120\n",
      "13/13 [==============================] - 0s 2ms/step - loss: 3.4304 - mae: 3.4304\n",
      "Epoch 13/120\n",
      "13/13 [==============================] - 0s 2ms/step - loss: 3.3028 - mae: 3.3028\n",
      "Epoch 14/120\n",
      "13/13 [==============================] - 0s 2ms/step - loss: 3.3012 - mae: 3.3012\n",
      "Epoch 15/120\n",
      "13/13 [==============================] - 0s 3ms/step - loss: 3.2672 - mae: 3.2672\n",
      "Epoch 16/120\n",
      "13/13 [==============================] - 0s 3ms/step - loss: 3.3543 - mae: 3.3543\n",
      "Epoch 17/120\n",
      "13/13 [==============================] - 0s 3ms/step - loss: 3.1258 - mae: 3.1258\n",
      "Epoch 18/120\n",
      "13/13 [==============================] - 0s 3ms/step - loss: 2.9574 - mae: 2.9574\n",
      "Epoch 19/120\n",
      "13/13 [==============================] - 0s 3ms/step - loss: 3.3333 - mae: 3.3333\n",
      "Epoch 20/120\n",
      "13/13 [==============================] - 0s 2ms/step - loss: 3.3593 - mae: 3.3593\n",
      "Epoch 21/120\n",
      "13/13 [==============================] - 0s 3ms/step - loss: 3.1912 - mae: 3.1912\n",
      "Epoch 22/120\n",
      "13/13 [==============================] - 0s 2ms/step - loss: 2.7896 - mae: 2.7896\n",
      "Epoch 23/120\n",
      "13/13 [==============================] - 0s 2ms/step - loss: 2.8134 - mae: 2.8134\n",
      "Epoch 24/120\n",
      "13/13 [==============================] - 0s 2ms/step - loss: 3.2395 - mae: 3.2395\n",
      "Epoch 25/120\n",
      "13/13 [==============================] - 0s 2ms/step - loss: 2.9579 - mae: 2.9579\n",
      "Epoch 26/120\n",
      "13/13 [==============================] - 0s 2ms/step - loss: 3.0754 - mae: 3.0754\n",
      "Epoch 27/120\n",
      "13/13 [==============================] - 0s 2ms/step - loss: 2.8413 - mae: 2.8413\n",
      "Epoch 28/120\n",
      "13/13 [==============================] - 0s 2ms/step - loss: 3.0875 - mae: 3.0875\n",
      "Epoch 29/120\n",
      "13/13 [==============================] - 0s 2ms/step - loss: 2.9854 - mae: 2.9854\n",
      "Epoch 30/120\n",
      "13/13 [==============================] - 0s 2ms/step - loss: 2.7382 - mae: 2.7382\n",
      "Epoch 31/120\n",
      "13/13 [==============================] - 0s 2ms/step - loss: 2.6962 - mae: 2.6962\n",
      "Epoch 32/120\n",
      "13/13 [==============================] - 0s 2ms/step - loss: 2.6643 - mae: 2.6643\n",
      "Epoch 33/120\n",
      "13/13 [==============================] - 0s 3ms/step - loss: 2.9946 - mae: 2.9946\n",
      "Epoch 34/120\n",
      "13/13 [==============================] - 0s 2ms/step - loss: 2.8854 - mae: 2.8854\n",
      "Epoch 35/120\n",
      "13/13 [==============================] - 0s 2ms/step - loss: 2.6659 - mae: 2.6659\n",
      "Epoch 36/120\n",
      "13/13 [==============================] - 0s 3ms/step - loss: 2.6178 - mae: 2.6178\n",
      "Epoch 37/120\n",
      "13/13 [==============================] - 0s 1ms/step - loss: 2.9018 - mae: 2.9018\n",
      "Epoch 38/120\n",
      "13/13 [==============================] - 0s 1ms/step - loss: 2.8457 - mae: 2.8457\n",
      "Epoch 39/120\n",
      "13/13 [==============================] - 0s 3ms/step - loss: 2.6977 - mae: 2.6977\n",
      "Epoch 40/120\n",
      "13/13 [==============================] - 0s 3ms/step - loss: 2.7036 - mae: 2.7036\n",
      "Epoch 41/120\n",
      "13/13 [==============================] - 0s 2ms/step - loss: 2.7228 - mae: 2.7228\n",
      "Epoch 42/120\n",
      "13/13 [==============================] - 0s 2ms/step - loss: 2.5908 - mae: 2.5908\n",
      "Epoch 43/120\n",
      "13/13 [==============================] - 0s 2ms/step - loss: 2.6357 - mae: 2.6357\n",
      "Epoch 44/120\n",
      "13/13 [==============================] - 0s 2ms/step - loss: 2.3912 - mae: 2.3912\n",
      "Epoch 45/120\n",
      "13/13 [==============================] - 0s 2ms/step - loss: 2.4452 - mae: 2.4452\n",
      "Epoch 46/120\n",
      "13/13 [==============================] - 0s 2ms/step - loss: 2.7906 - mae: 2.7906\n",
      "Epoch 47/120\n",
      "13/13 [==============================] - 0s 2ms/step - loss: 2.9046 - mae: 2.9046\n",
      "Epoch 48/120\n",
      "13/13 [==============================] - 0s 2ms/step - loss: 2.8287 - mae: 2.8287\n",
      "Epoch 49/120\n",
      "13/13 [==============================] - 0s 2ms/step - loss: 2.6645 - mae: 2.6645\n",
      "Epoch 50/120\n",
      "13/13 [==============================] - 0s 2ms/step - loss: 2.4324 - mae: 2.4324\n",
      "Epoch 51/120\n",
      "13/13 [==============================] - 0s 2ms/step - loss: 2.5405 - mae: 2.5405\n",
      "Epoch 52/120\n",
      "13/13 [==============================] - 0s 3ms/step - loss: 2.6228 - mae: 2.6228\n",
      "Epoch 53/120\n",
      "13/13 [==============================] - 0s 2ms/step - loss: 2.6502 - mae: 2.6502\n",
      "Epoch 54/120\n",
      "13/13 [==============================] - 0s 2ms/step - loss: 2.6006 - mae: 2.6006\n",
      "Epoch 55/120\n",
      "13/13 [==============================] - 0s 3ms/step - loss: 2.5561 - mae: 2.5561\n",
      "Epoch 56/120\n",
      "13/13 [==============================] - 0s 2ms/step - loss: 2.7258 - mae: 2.7258\n",
      "Epoch 57/120\n",
      "13/13 [==============================] - 0s 2ms/step - loss: 2.4133 - mae: 2.4133\n",
      "Epoch 58/120\n",
      "13/13 [==============================] - 0s 2ms/step - loss: 2.4946 - mae: 2.4946\n",
      "Epoch 59/120\n",
      "13/13 [==============================] - 0s 3ms/step - loss: 2.5821 - mae: 2.5821\n",
      "Epoch 60/120\n",
      "13/13 [==============================] - 0s 1ms/step - loss: 2.6214 - mae: 2.6214\n",
      "Epoch 61/120\n",
      "13/13 [==============================] - 0s 2ms/step - loss: 2.5097 - mae: 2.5097\n",
      "Epoch 62/120\n",
      "13/13 [==============================] - 0s 2ms/step - loss: 2.3264 - mae: 2.3264\n",
      "Epoch 63/120\n",
      "13/13 [==============================] - 0s 2ms/step - loss: 2.2894 - mae: 2.2894\n",
      "Epoch 64/120\n",
      "13/13 [==============================] - 0s 2ms/step - loss: 2.3505 - mae: 2.3505\n",
      "Epoch 65/120\n",
      "13/13 [==============================] - 0s 2ms/step - loss: 2.4414 - mae: 2.4414\n",
      "Epoch 66/120\n",
      "13/13 [==============================] - 0s 2ms/step - loss: 2.2358 - mae: 2.2358\n",
      "Epoch 67/120\n",
      "13/13 [==============================] - 0s 2ms/step - loss: 2.4346 - mae: 2.4346\n",
      "Epoch 68/120\n",
      "13/13 [==============================] - 0s 2ms/step - loss: 2.7910 - mae: 2.7910\n",
      "Epoch 69/120\n",
      "13/13 [==============================] - 0s 2ms/step - loss: 2.5325 - mae: 2.5325\n",
      "Epoch 70/120\n",
      "13/13 [==============================] - 0s 2ms/step - loss: 2.2633 - mae: 2.2633\n",
      "Epoch 71/120\n",
      "13/13 [==============================] - 0s 2ms/step - loss: 2.5837 - mae: 2.5837\n",
      "Epoch 72/120\n",
      "13/13 [==============================] - 0s 2ms/step - loss: 2.5443 - mae: 2.5443\n",
      "Epoch 73/120\n",
      "13/13 [==============================] - 0s 2ms/step - loss: 2.5594 - mae: 2.5594\n",
      "Epoch 74/120\n",
      "13/13 [==============================] - 0s 2ms/step - loss: 2.3630 - mae: 2.3630\n",
      "Epoch 75/120\n",
      "13/13 [==============================] - 0s 2ms/step - loss: 2.6414 - mae: 2.6414\n",
      "Epoch 76/120\n",
      "13/13 [==============================] - 0s 2ms/step - loss: 2.7516 - mae: 2.7516\n",
      "Epoch 77/120\n",
      "13/13 [==============================] - 0s 2ms/step - loss: 2.6090 - mae: 2.6090\n",
      "Epoch 78/120\n",
      "13/13 [==============================] - 0s 2ms/step - loss: 2.3406 - mae: 2.3406\n",
      "Epoch 79/120\n",
      "13/13 [==============================] - 0s 2ms/step - loss: 2.5788 - mae: 2.5788\n",
      "Epoch 80/120\n",
      "13/13 [==============================] - 0s 2ms/step - loss: 2.4409 - mae: 2.4409\n",
      "Epoch 81/120\n",
      "13/13 [==============================] - 0s 3ms/step - loss: 2.3805 - mae: 2.3805\n",
      "Epoch 82/120\n",
      "13/13 [==============================] - 0s 3ms/step - loss: 2.6604 - mae: 2.6604\n",
      "Epoch 83/120\n",
      "13/13 [==============================] - 0s 2ms/step - loss: 2.3004 - mae: 2.3004\n",
      "Epoch 84/120\n",
      "13/13 [==============================] - 0s 2ms/step - loss: 2.2606 - mae: 2.2606\n",
      "Epoch 85/120\n",
      "13/13 [==============================] - 0s 3ms/step - loss: 2.2568 - mae: 2.2568\n",
      "Epoch 86/120\n",
      "13/13 [==============================] - 0s 2ms/step - loss: 2.3156 - mae: 2.3156\n",
      "Epoch 87/120\n"
     ]
    },
    {
     "name": "stdout",
     "output_type": "stream",
     "text": [
      "13/13 [==============================] - 0s 1ms/step - loss: 2.7125 - mae: 2.7125\n",
      "Epoch 88/120\n",
      "13/13 [==============================] - 0s 2ms/step - loss: 2.5111 - mae: 2.5111\n",
      "Epoch 89/120\n",
      "13/13 [==============================] - 0s 1ms/step - loss: 2.4770 - mae: 2.4770\n",
      "Epoch 90/120\n",
      "13/13 [==============================] - 0s 2ms/step - loss: 2.2332 - mae: 2.2332\n",
      "Epoch 91/120\n",
      "13/13 [==============================] - 0s 2ms/step - loss: 2.2808 - mae: 2.2808\n",
      "Epoch 92/120\n",
      "13/13 [==============================] - 0s 2ms/step - loss: 2.2815 - mae: 2.2815\n",
      "Epoch 93/120\n",
      "13/13 [==============================] - 0s 2ms/step - loss: 2.5106 - mae: 2.5106\n",
      "Epoch 94/120\n",
      "13/13 [==============================] - 0s 2ms/step - loss: 2.4893 - mae: 2.4893\n",
      "Epoch 95/120\n",
      "13/13 [==============================] - 0s 5ms/step - loss: 2.2790 - mae: 2.2790\n",
      "Epoch 96/120\n",
      "13/13 [==============================] - 0s 3ms/step - loss: 2.3337 - mae: 2.3337\n",
      "Epoch 97/120\n",
      "13/13 [==============================] - 0s 2ms/step - loss: 2.1840 - mae: 2.1840\n",
      "Epoch 98/120\n",
      "13/13 [==============================] - 0s 2ms/step - loss: 2.1938 - mae: 2.1938\n",
      "Epoch 99/120\n",
      "13/13 [==============================] - 0s 2ms/step - loss: 2.2316 - mae: 2.2316\n",
      "Epoch 100/120\n",
      "13/13 [==============================] - 0s 2ms/step - loss: 2.2286 - mae: 2.2286\n",
      "Epoch 101/120\n",
      "13/13 [==============================] - 0s 2ms/step - loss: 2.2391 - mae: 2.2391\n",
      "Epoch 102/120\n",
      "13/13 [==============================] - 0s 2ms/step - loss: 2.1149 - mae: 2.1149\n",
      "Epoch 103/120\n",
      "13/13 [==============================] - 0s 2ms/step - loss: 2.2877 - mae: 2.2877\n",
      "Epoch 104/120\n",
      "13/13 [==============================] - 0s 2ms/step - loss: 2.1020 - mae: 2.1020\n",
      "Epoch 105/120\n",
      "13/13 [==============================] - 0s 2ms/step - loss: 2.2951 - mae: 2.2951\n",
      "Epoch 106/120\n",
      "13/13 [==============================] - 0s 2ms/step - loss: 2.1050 - mae: 2.1050\n",
      "Epoch 107/120\n",
      "13/13 [==============================] - 0s 2ms/step - loss: 2.1612 - mae: 2.1612\n",
      "Epoch 108/120\n",
      "13/13 [==============================] - 0s 2ms/step - loss: 2.1803 - mae: 2.1803\n",
      "Epoch 109/120\n",
      "13/13 [==============================] - 0s 2ms/step - loss: 2.1099 - mae: 2.1099\n",
      "Epoch 110/120\n",
      "13/13 [==============================] - 0s 2ms/step - loss: 2.3957 - mae: 2.3957\n",
      "Epoch 111/120\n",
      "13/13 [==============================] - 0s 2ms/step - loss: 2.3987 - mae: 2.3987\n",
      "Epoch 112/120\n",
      "13/13 [==============================] - 0s 2ms/step - loss: 2.2597 - mae: 2.2597\n",
      "Epoch 113/120\n",
      "13/13 [==============================] - 0s 2ms/step - loss: 2.1962 - mae: 2.1962\n",
      "Epoch 114/120\n",
      "13/13 [==============================] - ETA: 0s - loss: 2.2711 - mae: 2.271 - 0s 2ms/step - loss: 2.2347 - mae: 2.2347\n",
      "Epoch 115/120\n",
      "13/13 [==============================] - 0s 2ms/step - loss: 2.3887 - mae: 2.3887\n",
      "Epoch 116/120\n",
      "13/13 [==============================] - 0s 2ms/step - loss: 2.0944 - mae: 2.0944\n",
      "Epoch 117/120\n",
      "13/13 [==============================] - 0s 2ms/step - loss: 1.9966 - mae: 1.9966\n",
      "Epoch 118/120\n",
      "13/13 [==============================] - 0s 2ms/step - loss: 2.0850 - mae: 2.0850\n",
      "Epoch 119/120\n",
      "13/13 [==============================] - 0s 1ms/step - loss: 2.1323 - mae: 2.1323\n",
      "Epoch 120/120\n",
      "13/13 [==============================] - ETA: 0s - loss: 2.4134 - mae: 2.413 - 0s 2ms/step - loss: 2.1288 - mae: 2.1288\n"
     ]
    }
   ],
   "source": [
    "# Set seed\n",
    "tf.random.set_seed(42)\n",
    "\n",
    "# Build a model\n",
    "model_3 = Sequential([\n",
    "    \n",
    "    Dense(100, activation='relu'),\n",
    "    tf.keras.layers.Dropout(0.1),\n",
    "    Dense(50, activation='relu'),\n",
    "    tf.keras.layers.Dropout(0.1),\n",
    "    Dense(25, activation='relu'),\n",
    "    Dense(1)\n",
    "])\n",
    "\n",
    "# Compile a model\n",
    "model_3.compile(loss = 'mae',\n",
    "                optimizer = tf.keras.optimizers.Adam(lr=0.01),\n",
    "                metrics = ['mae'])\n",
    "\n",
    "# Fit a model\n",
    "history_3 = model_3.fit(X_train_normal, y_train, epochs=120)"
   ]
  },
  {
   "cell_type": "code",
   "execution_count": 27,
   "id": "f5aaf77a",
   "metadata": {},
   "outputs": [
    {
     "name": "stdout",
     "output_type": "stream",
     "text": [
      "4/4 [==============================] - 0s 1ms/step - loss: 3.0403 - mae: 3.0403\n"
     ]
    }
   ],
   "source": [
    "# Evaluate our model_3\n",
    "model_3_loss, model_3_mae = model_3.evaluate(X_test_normal, y_test)"
   ]
  },
  {
   "cell_type": "code",
   "execution_count": 28,
   "id": "f7a0ff57",
   "metadata": {},
   "outputs": [
    {
     "data": {
      "image/png": "[encoded data removed]",
      "text/plain": [
       "<Figure size 432x288 with 1 Axes>"
      ]
     },
     "metadata": {
      "needs_background": "light"
     },
     "output_type": "display_data"
    }
   ],
   "source": [
    "# plot model\n",
    "# Plot a learning curve\n",
    "pd.DataFrame(history_3.history).plot()\n",
    "plt.ylabel(\"loss\")\n",
    "plt.xlabel(\"epochs\");"
   ]
  },
  {
   "cell_type": "code",
   "execution_count": null,
   "id": "1fd54f72",
   "metadata": {},
   "outputs": [],
   "source": []
  }
 ],
 "metadata": {
  "kernelspec": {
   "display_name": "Python 3",
   "language": "python",
   "name": "python3"
  },
  "language_info": {
   "codemirror_mode": {
    "name": "ipython",
    "version": 3
   },
   "file_extension": ".py",
   "mimetype": "text/x-python",
   "name": "python",
   "nbconvert_exporter": "python",
   "pygments_lexer": "ipython3",
   "version": "3.8.8"
  }
 },
 "nbformat": 4,
 "nbformat_minor": 5
}
