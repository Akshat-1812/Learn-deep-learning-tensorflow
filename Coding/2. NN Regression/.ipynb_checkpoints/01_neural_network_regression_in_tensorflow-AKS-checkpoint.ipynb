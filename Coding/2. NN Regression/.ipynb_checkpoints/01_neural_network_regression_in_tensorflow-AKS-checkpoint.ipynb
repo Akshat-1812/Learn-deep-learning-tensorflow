{
 "cells": [
  {
   "cell_type": "markdown",
   "id": "0adeb04e",
   "metadata": {},
   "source": [
    "# 01. Neural Network Regression with TensorFlow\n",
    "\n",
    "There are many definitions for a [regression problem](https://en.wikipedia.org/wiki/Regression_analysis) but in our case, we're going to simplify it to be: predicting a number.\n",
    "\n",
    "For example, you might want to:\n",
    "- Predict the selling price of houses given information about them (such as number of rooms, size, number of bathrooms).\n",
    "- Predict the coordinates of a bounding box of an item in an image.\n",
    "- Predict the cost of medical insurance for an individual given their demographics (age, sex, gender, race).\n",
    "\n",
    "In this notebook, we're going to set the foundations for how you can take a sample of inputs (this is your data), build a neural network to discover patterns in those inputs and then make a prediction (in the form of a number) based on those inputs.\n",
    "\n",
    "## What we're going to cover\n",
    "\n",
    "Specifically, we're going to go through doing the following with TensorFlow:\n",
    "- Architecture of a regression model\n",
    "- Input shapes and output shapes\n",
    "  - `X`: features/data (inputs)\n",
    "  - `y`: labels (outputs)\n",
    "- Creating custom data to view and fit\n",
    "- Steps in modelling\n",
    "  - Creating a model\n",
    "  - Compiling a model\n",
    "    - Defining a loss function\n",
    "    - Setting up an optimizer\n",
    "    - Creating evaluation metrics\n",
    "  - Fitting a model (getting it to find patterns in our data)\n",
    "- Evaluating a model\n",
    "  - Visualizng the model (\"visualize, visualize, visualize\")\n",
    "  - Looking at training curves\n",
    "  - Compare predictions to ground truth (using our evaluation metrics)\n",
    "- Saving a model (so we can use it later)\n",
    "- Loading a model\n",
    "\n",
    "Don't worry if none of these make sense now, we're going to go through each.\n",
    "\n",
    "## How you can use this notebook\n",
    "\n",
    "You can read through the descriptions and the code (it should all run), but there's a better option.\n",
    "\n",
    "Write all of the code yourself.\n",
    "\n",
    "Yes. I'm serious. Create a new notebook, and rewrite each line by yourself. Investigate it, see if you can break it, why does it break?\n",
    "\n",
    "You don't have to write the text descriptions but writing the code yourself is a great way to get hands-on experience.\n",
    "\n",
    "Don't worry if you make mistakes, we all do. The way to get better and make less mistakes is to **write more code**."
   ]
  },
  {
   "cell_type": "markdown",
   "id": "26efd3ac",
   "metadata": {},
   "source": [
    "## Typical architecture of a regresison neural network\n",
    "\n",
    "The word *typical* is on purpose.\n",
    "\n",
    "Why?\n",
    "\n",
    "Because there are many different ways (actually, there's almost an infinite number of ways) to write neural networks.\n",
    "\n",
    "But the following is a generic setup for ingesting a collection of numbers, finding patterns in them and then outputing some kind of target number.\n",
    "\n",
    "Yes, the previous sentence is vague but we'll see this in action shortly.\n",
    "\n",
    "| **Hyperparameter** | **Typical value** |\n",
    "| --- | --- |\n",
    "| Input layer shape | Same shape as number of features (e.g. 3 for # bedrooms, # bathrooms, # car spaces in housing price prediction) |\n",
    "| Hidden layer(s) | Problem specific, minimum = 1, maximum = unlimited |\n",
    "| Neurons per hidden layer | Problem specific, generally 10 to 100 |\n",
    "| Output layer shape | Same shape as desired prediction shape (e.g. 1 for house price) |\n",
    "| Hidden activation | Usually [ReLU](https://www.kaggle.com/dansbecker/rectified-linear-units-relu-in-deep-learning) (rectified linear unit) |\n",
    "| Output activation | None, ReLU, logistic/tanh |\n",
    "| Loss function | [MSE](https://en.wikipedia.org/wiki/Mean_squared_error) (mean square error) or [MAE](https://en.wikipedia.org/wiki/Mean_absolute_error) (mean absolute error)/Huber (combination of MAE/MSE) if outliers |\n",
    "| Optimizer | [SGD](https://www.tensorflow.org/api_docs/python/tf/keras/optimizers/SGD) (stochastic gradient descent), [Adam](https://www.tensorflow.org/api_docs/python/tf/keras/optimizers/Adam) |\n",
    "\n",
    "***Table 1:*** *Typical architecture of a regression network.* ***Source:*** *Adapted from page 293 of [Hands-On Machine Learning with Scikit-Learn, Keras & TensorFlow Book by Aurélien Géron](https://www.oreilly.com/library/view/hands-on-machine-learning/9781492032632/)*\n",
    "\n",
    "Again, if you're new to neural networks and deep learning in general, much of the above table won't make sense. But don't worry, we'll be getting hands-on with all of it soon.\n",
    "\n",
    "> 🔑 **Note:** A **hyperparameter** in machine learning is something a data analyst or developer can set themselves, where as a **parameter** usually describes something a model learns on its own (a value not explicitly set by an analyst).\n",
    "\n",
    "Okay, enough talk, let's get started writing code.\n",
    "\n",
    "To use TensorFlow, we'll import it as the common alias `tf` (short for TensorFlow)."
   ]
  },
  {
   "cell_type": "code",
   "execution_count": 1,
   "id": "38105cc9",
   "metadata": {
    "scrolled": true
   },
   "outputs": [],
   "source": [
    "import pandas as pd\n",
    "import numpy as np\n",
    "import matplotlib.pyplot as plt\n",
    "import seaborn as sns\n",
    "\n",
    "%matplotlib inline"
   ]
  },
  {
   "cell_type": "code",
   "execution_count": 2,
   "id": "c07aedff",
   "metadata": {
    "scrolled": true
   },
   "outputs": [],
   "source": [
    "import tensorflow as tf"
   ]
  },
  {
   "cell_type": "code",
   "execution_count": 3,
   "id": "2b2cdd71",
   "metadata": {
    "scrolled": true
   },
   "outputs": [
    {
     "name": "stdout",
     "output_type": "stream",
     "text": [
      "2.3.0\n"
     ]
    }
   ],
   "source": [
    "print(tf.__version__)"
   ]
  },
  {
   "cell_type": "markdown",
   "id": "f0c92c20",
   "metadata": {},
   "source": [
    "## Creating data to view and fit\n",
    "\n",
    "Since we're working on a **regression problem** (predicting a number) let's create some linear data (a straight line) to model."
   ]
  },
  {
   "cell_type": "code",
   "execution_count": 4,
   "id": "d1d15f12",
   "metadata": {
    "scrolled": true
   },
   "outputs": [
    {
     "data": {
      "image/png": "[encoded data removed]",
      "text/plain": [
       "<Figure size 432x288 with 1 Axes>"
      ]
     },
     "metadata": {
      "needs_background": "light"
     },
     "output_type": "display_data"
    }
   ],
   "source": [
    "# Create features\n",
    "X = np.array([-7.0, -4.0, -1.0, 2.0, 5.0, 8.0, 11.0, 14.0])\n",
    "\n",
    "# Create labels\n",
    "y = np.array([3.0, 6.0, 9.0, 12.0, 15.0, 18.0, 21.0, 24.0])\n",
    "\n",
    "# visualize our data\n",
    "plt.scatter(X,y);"
   ]
  },
  {
   "cell_type": "markdown",
   "id": "49dc0c2b",
   "metadata": {},
   "source": [
    "Before we do any modelling, can you calculate the pattern between `X` and `y`?\n",
    "\n",
    "For example, say I asked you, based on this data what the `y` value would be if `X` was 17.0?\n",
    "\n",
    "Or how about if `X` was -10.0?\n",
    "\n",
    "This kind of pattern discovery is the essence of what we'll be building neural networks to do for us."
   ]
  },
  {
   "cell_type": "markdown",
   "id": "5c1c352e",
   "metadata": {},
   "source": [
    "## Regression input shapes and output shapes\n",
    "\n",
    "One of the most important concepts when working with neural networks are the input and output shapes.\n",
    "\n",
    "The **input shape** is the shape of your data that goes into the model.\n",
    "\n",
    "The **output shape** is the shape of your data you want to come out of your model.\n",
    "\n",
    "These will differ depending on the problem you're working on.\n",
    "\n",
    "Neural networks accept numbers and output numbers. These numbers are typically represented as tensors (or arrays).\n",
    "\n",
    "Before, we created data using NumPy arrays, but we could do the same with tensors."
   ]
  },
  {
   "cell_type": "code",
   "execution_count": 5,
   "id": "0db4cdbc",
   "metadata": {
    "scrolled": true
   },
   "outputs": [
    {
     "data": {
      "text/plain": [
       "(<tf.Tensor: shape=(3,), dtype=string, numpy=array([b'bedroom', b'bathroom', b'garage'], dtype=object)>,\n",
       " <tf.Tensor: shape=(1,), dtype=int32, numpy=array([939700])>)"
      ]
     },
     "execution_count": 5,
     "metadata": {},
     "output_type": "execute_result"
    }
   ],
   "source": [
    "# Example input and output shapes of a regresson model\n",
    "house_info = tf.constant([\"bedroom\", \"bathroom\", \"garage\"])\n",
    "house_price = tf.constant([939700])\n",
    "\n",
    "house_info, house_price"
   ]
  },
  {
   "cell_type": "code",
   "execution_count": 6,
   "id": "987542fc",
   "metadata": {
    "scrolled": true
   },
   "outputs": [
    {
     "data": {
      "text/plain": [
       "TensorShape([3])"
      ]
     },
     "execution_count": 6,
     "metadata": {},
     "output_type": "execute_result"
    }
   ],
   "source": [
    "house_info.shape"
   ]
  },
  {
   "cell_type": "code",
   "execution_count": 7,
   "id": "6a92847b",
   "metadata": {
    "scrolled": true
   },
   "outputs": [
    {
     "data": {
      "image/png": "[encoded data removed]",
      "text/plain": [
       "<Figure size 432x288 with 1 Axes>"
      ]
     },
     "metadata": {
      "needs_background": "light"
     },
     "output_type": "display_data"
    }
   ],
   "source": [
    "# Turn our numpy array into tensors\n",
    "X = tf.cast(tf.constant(X), dtype=tf.float32)\n",
    "y = tf.cast(tf.constant(y), dtype=tf.float32)\n",
    "\n",
    "plt.scatter(X,y);\n",
    "\n",
    "# y = X + 10"
   ]
  },
  {
   "cell_type": "markdown",
   "id": "3dd9b711",
   "metadata": {},
   "source": [
    "Our goal here will be to use `X` to predict `y`.\n",
    "\n",
    "So our **input** will be `X` and our **output** will be `y`.\n",
    "\n",
    "Knowing this, what do you think our input and output shapes will be?\n",
    "\n",
    "Let's take a look."
   ]
  },
  {
   "cell_type": "code",
   "execution_count": 8,
   "id": "ea0c1463",
   "metadata": {
    "scrolled": true
   },
   "outputs": [
    {
     "data": {
      "text/plain": [
       "(TensorShape([]), TensorShape([]))"
      ]
     },
     "execution_count": 8,
     "metadata": {},
     "output_type": "execute_result"
    }
   ],
   "source": [
    "# Take a single example of X\n",
    "input_shape = X[0].shape \n",
    "\n",
    "# Take a single example of y\n",
    "output_shape = y[0].shape\n",
    "\n",
    "input_shape, output_shape # these are both scalars (no shape)"
   ]
  },
  {
   "cell_type": "markdown",
   "id": "40340019",
   "metadata": {},
   "source": [
    "Huh?\n",
    "\n",
    "From this it seems our inputs and outputs have no shape?\n",
    "\n",
    "How could that be?\n",
    "\n",
    "It's because no matter what kind of data we pass to our model, it's always going to take as input and return as ouput some kind of tensor.\n",
    "\n",
    "But in our case because of our dataset (only 2 small lists of numbers), we're looking at a special kind of tensor, more specifically a rank 0 tensor or a scalar."
   ]
  },
  {
   "cell_type": "code",
   "execution_count": 9,
   "id": "17fe37cd",
   "metadata": {
    "scrolled": true
   },
   "outputs": [
    {
     "data": {
      "text/plain": [
       "(<tf.Tensor: shape=(), dtype=float32, numpy=-7.0>,\n",
       " <tf.Tensor: shape=(), dtype=float32, numpy=3.0>)"
      ]
     },
     "execution_count": 9,
     "metadata": {},
     "output_type": "execute_result"
    }
   ],
   "source": [
    "# Let's take a look at the single examples invidually\n",
    "X[0], y[0]"
   ]
  },
  {
   "cell_type": "markdown",
   "id": "1fb57cf6",
   "metadata": {},
   "source": [
    "In our case, we're trying to build a model to predict the pattern between `X[0]` equalling `-7.0` and `y[0]` equalling `3.0`.\n",
    "\n",
    "So now we get our answer, we're trying to use 1 `X` value to predict 1 `y` value.\n",
    "\n",
    "You might be thinking, \"this seems pretty complicated for just predicting a straight line...\".\n",
    "\n",
    "And you'd be right.\n",
    "\n",
    "But the concepts we're covering here, the concepts of input and output shapes to a model are fundamental. \n",
    "\n",
    "In fact, they're probably two of the things you'll spend the most time on when you work with neural networks: **making sure your input and outputs are in the correct shape**.\n",
    "\n",
    "If it doesn't make sense now, we'll see plenty more examples later on (soon you'll notice the input and output shapes can be almost anything you can imagine).\n",
    "\n",
    "![example of input and output shapes for a housing price prediction problem](https://raw.githubusercontent.com/mrdbourke/tensorflow-deep-learning/main/images/01-input-and-output-shapes-housing-prices.png)\n",
    "*If you were working on building a machine learning algorithm for predicting housing prices, your inputs may be number of bedrooms, number of bathrooms and number of garages, giving you an input shape of 3 (3 different features). And since you're trying to predict the price of the house, your output shape would be 1.*"
   ]
  },
  {
   "cell_type": "markdown",
   "id": "22e1a090",
   "metadata": {},
   "source": [
    "## Steps in modelling with TensorFlow\n",
    "\n",
    "Now we know what data we have as well as the input and output shapes, let's see how we'd build a neural network to model it.\n",
    "\n",
    "In TensorFlow, there are typically 3 fundamental steps to creating and training a model.\n",
    "\n",
    "1. **Creating a model** - piece together the layers of a neural network yourself (using the [Functional](https://www.tensorflow.org/guide/keras/functional) or [Sequential API](https://www.tensorflow.org/api_docs/python/tf/keras/Sequential)) or import a previously built model (known as transfer learning).\n",
    "2. **Compiling a model** - defining how a models performance should be measured (loss/metrics) as well as defining how it should improve (optimizer). \n",
    "3. **Fitting a model** - letting the model try to find patterns in the data (how does `X` get to `y`). \n",
    "\n",
    "Let's see these in action using the [Keras Sequential API](https://www.tensorflow.org/api_docs/python/tf/keras/Sequential) to build a model for our regression data. And then we'll step through each.\n",
    "\n",
    "> **Note:** If you're using [TensorFlow 2.7.0](https://github.com/tensorflow/tensorflow/releases/tag/v2.7.0)+, the `fit()` function no longer upscales input data to go from `(batch_size, )` to `(batch_size, 1)`. To fix this, you'll need to expand the dimension of input data using `tf.expand_dims(input_data, axis=-1)`.\n",
    ">\n",
    "> In our case, this means instead of using `model.fit(X, y, epochs=5)`, use `model.fit(tf.expand_dims(X, axis=-1), y, epochs=5)`. "
   ]
  },
  {
   "cell_type": "code",
   "execution_count": 10,
   "id": "5eeb13c8",
   "metadata": {
    "scrolled": true
   },
   "outputs": [
    {
     "name": "stdout",
     "output_type": "stream",
     "text": [
      "Epoch 1/5\n",
      "1/1 [==============================] - 0s 2ms/step - loss: 11.5048 - mae: 11.5048\n",
      "Epoch 2/5\n",
      "1/1 [==============================] - 0s 2ms/step - loss: 11.3723 - mae: 11.3723\n",
      "Epoch 3/5\n",
      "1/1 [==============================] - 0s 3ms/step - loss: 11.2398 - mae: 11.2398\n",
      "Epoch 4/5\n",
      "1/1 [==============================] - 0s 3ms/step - loss: 11.1073 - mae: 11.1073\n",
      "Epoch 5/5\n",
      "1/1 [==============================] - 0s 2ms/step - loss: 10.9748 - mae: 10.9748\n"
     ]
    },
    {
     "data": {
      "text/plain": [
       "<tensorflow.python.keras.callbacks.History at 0x1eb051b6700>"
      ]
     },
     "execution_count": 10,
     "metadata": {},
     "output_type": "execute_result"
    }
   ],
   "source": [
    "# Set random seed\n",
    "tf.random.set_seed(42)\n",
    "\n",
    "# Create a model using Sequential API\n",
    "model = tf.keras.Sequential([\n",
    "    \n",
    "    tf.keras.layers.Dense(1)\n",
    "])\n",
    "\n",
    "# Compile a model\n",
    "model.compile(loss = tf.keras.losses.mae,\n",
    "              optimizer = tf.keras.optimizers.SGD(),\n",
    "              metrics=['mae'])\n",
    "\n",
    "# Fit our model\n",
    "model.fit(X, y, epochs=5)"
   ]
  },
  {
   "cell_type": "markdown",
   "id": "58ba92b2",
   "metadata": {},
   "source": [
    "Boom!\n",
    "\n",
    "We've just trained a model to figure out the patterns between `X` and `y`.\n",
    "\n",
    "How do you think it went?"
   ]
  },
  {
   "cell_type": "code",
   "execution_count": 11,
   "id": "327ab1b6",
   "metadata": {
    "scrolled": true
   },
   "outputs": [
    {
     "data": {
      "text/plain": [
       "(<tf.Tensor: shape=(8,), dtype=float32, numpy=array([-7., -4., -1.,  2.,  5.,  8., 11., 14.], dtype=float32)>,\n",
       " <tf.Tensor: shape=(8,), dtype=float32, numpy=array([ 3.,  6.,  9., 12., 15., 18., 21., 24.], dtype=float32)>)"
      ]
     },
     "execution_count": 11,
     "metadata": {},
     "output_type": "execute_result"
    }
   ],
   "source": [
    "# Check out X and y\n",
    "X, y"
   ]
  },
  {
   "cell_type": "markdown",
   "id": "970b7046",
   "metadata": {},
   "source": [
    "What do you think the outcome should be if we passed our model an `X` value of 17.0?"
   ]
  },
  {
   "cell_type": "code",
   "execution_count": 12,
   "id": "30dcc2ca",
   "metadata": {
    "scrolled": true
   },
   "outputs": [
    {
     "data": {
      "text/plain": [
       "array([[12.716021]], dtype=float32)"
      ]
     },
     "execution_count": 12,
     "metadata": {},
     "output_type": "execute_result"
    }
   ],
   "source": [
    "# Make a prediction with the model\n",
    "model.predict([17.0])"
   ]
  },
  {
   "cell_type": "markdown",
   "id": "1f982991",
   "metadata": {},
   "source": [
    "It doesn't go very well... it should've output something close to 27.0.\n",
    "\n",
    "> 🤔 **Question:** What's Keras? I thought we were working with TensorFlow but every time we write TensorFlow code, `keras` comes after `tf` (e.g. `tf.keras.layers.Dense()`)?\n",
    "\n",
    "Before TensorFlow 2.0+, [Keras](https://keras.io/) was an API designed to be able to build deep learning models with ease. Since TensorFlow 2.0+, its functionality has been tightly integrated within the TensorFlow library."
   ]
  },
  {
   "cell_type": "markdown",
   "id": "ab1b67b2",
   "metadata": {},
   "source": [
    "## Improving a model\n",
    "\n",
    "How do you think you'd improve upon our current model?\n",
    "\n",
    "If you guessed by tweaking some of the things we did above, you'd be correct.\n",
    "\n",
    "To improve our model, we alter almost every part of the 3 steps we went through before.\n",
    "\n",
    "1. **Creating a model** - here you might want to add more layers, increase the number of hidden units (also called neurons) within each layer, change the activation functions of each layer.\n",
    "2. **Compiling a model** - you might want to choose optimization function or perhaps change the **learning rate** of the optimization function.\n",
    "3. **Fitting a model** - perhaps you could fit a model for more **epochs** (leave it training for longer) or on more data (give the model more examples to learn from).\n",
    "\n",
    "![various options you can use to improve a neural network model](https://raw.githubusercontent.com/mrdbourke/tensorflow-deep-learning/main/images/02-improving-a-model-from-model-perspective.png)\n",
    "*There are many different ways to potentially improve a neural network. Some of the most common include: increasing the number of layers (making the network deeper), increasing the number of hidden units (making the network wider) and changing the learning rate. Because these values are all human-changeable, they're referred to as [hyperparameters](https://en.wikipedia.org/wiki/Hyperparameter_(machine_learning)) and the practice of trying to find the best hyperparameters is referred to as [hyperparameter tuning](https://en.wikipedia.org/wiki/Hyperparameter_optimization).*\n",
    "\n",
    "Woah. We just introduced a bunch of possible steps. The important thing to remember is how you alter each of these will depend on the problem you're working on.\n",
    "\n",
    "And the good thing is, over the next few problems, we'll get hands-on with all of them.\n",
    "\n",
    "For now, let's keep it simple, all we'll do is train our model for longer (everything else will stay the same)."
   ]
  },
  {
   "cell_type": "code",
   "execution_count": 13,
   "id": "86ac7859",
   "metadata": {
    "scrolled": true
   },
   "outputs": [
    {
     "name": "stdout",
     "output_type": "stream",
     "text": [
      "Epoch 1/100\n",
      "1/1 [==============================] - 0s 1ms/step - loss: 11.2219 - mae: 11.2219\n",
      "Epoch 2/100\n",
      "1/1 [==============================] - 0s 1ms/step - loss: 11.0894 - mae: 11.0894\n",
      "Epoch 3/100\n",
      "1/1 [==============================] - 0s 999us/step - loss: 10.9569 - mae: 10.9569\n",
      "Epoch 4/100\n",
      "1/1 [==============================] - 0s 1ms/step - loss: 10.8244 - mae: 10.8244\n",
      "Epoch 5/100\n",
      "1/1 [==============================] - 0s 3ms/step - loss: 10.6919 - mae: 10.6919\n",
      "Epoch 6/100\n",
      "1/1 [==============================] - 0s 3ms/step - loss: 10.5594 - mae: 10.5594\n",
      "Epoch 7/100\n",
      "1/1 [==============================] - 0s 1000us/step - loss: 10.4269 - mae: 10.4269\n",
      "Epoch 8/100\n",
      "1/1 [==============================] - 0s 1ms/step - loss: 10.2944 - mae: 10.2944\n",
      "Epoch 9/100\n",
      "1/1 [==============================] - 0s 1ms/step - loss: 10.1619 - mae: 10.1619\n",
      "Epoch 10/100\n",
      "1/1 [==============================] - 0s 999us/step - loss: 10.0294 - mae: 10.0294\n",
      "Epoch 11/100\n",
      "1/1 [==============================] - 0s 999us/step - loss: 9.8969 - mae: 9.8969\n",
      "Epoch 12/100\n",
      "1/1 [==============================] - 0s 4ms/step - loss: 9.7644 - mae: 9.7644\n",
      "Epoch 13/100\n",
      "1/1 [==============================] - 0s 999us/step - loss: 9.6319 - mae: 9.6319\n",
      "Epoch 14/100\n",
      "1/1 [==============================] - 0s 3ms/step - loss: 9.4994 - mae: 9.4994\n",
      "Epoch 15/100\n",
      "1/1 [==============================] - 0s 2ms/step - loss: 9.3669 - mae: 9.3669\n",
      "Epoch 16/100\n",
      "1/1 [==============================] - 0s 3ms/step - loss: 9.2344 - mae: 9.2344\n",
      "Epoch 17/100\n",
      "1/1 [==============================] - 0s 1000us/step - loss: 9.1019 - mae: 9.1019\n",
      "Epoch 18/100\n",
      "1/1 [==============================] - 0s 3ms/step - loss: 8.9694 - mae: 8.9694\n",
      "Epoch 19/100\n",
      "1/1 [==============================] - 0s 2ms/step - loss: 8.8369 - mae: 8.8369\n",
      "Epoch 20/100\n",
      "1/1 [==============================] - 0s 2ms/step - loss: 8.7044 - mae: 8.7044\n",
      "Epoch 21/100\n",
      "1/1 [==============================] - 0s 2ms/step - loss: 8.5719 - mae: 8.5719\n",
      "Epoch 22/100\n",
      "1/1 [==============================] - 0s 2ms/step - loss: 8.4394 - mae: 8.4394\n",
      "Epoch 23/100\n",
      "1/1 [==============================] - 0s 2ms/step - loss: 8.3069 - mae: 8.3069\n",
      "Epoch 24/100\n",
      "1/1 [==============================] - 0s 4ms/step - loss: 8.1744 - mae: 8.1744\n",
      "Epoch 25/100\n",
      "1/1 [==============================] - 0s 2ms/step - loss: 8.0419 - mae: 8.0419\n",
      "Epoch 26/100\n",
      "1/1 [==============================] - 0s 3ms/step - loss: 7.9094 - mae: 7.9094\n",
      "Epoch 27/100\n",
      "1/1 [==============================] - 0s 999us/step - loss: 7.7769 - mae: 7.7769\n",
      "Epoch 28/100\n",
      "1/1 [==============================] - 0s 4ms/step - loss: 7.6444 - mae: 7.6444\n",
      "Epoch 29/100\n",
      "1/1 [==============================] - 0s 2ms/step - loss: 7.5119 - mae: 7.5119\n",
      "Epoch 30/100\n",
      "1/1 [==============================] - 0s 2ms/step - loss: 7.3794 - mae: 7.3794\n",
      "Epoch 31/100\n",
      "1/1 [==============================] - 0s 2ms/step - loss: 7.2750 - mae: 7.2750\n",
      "Epoch 32/100\n",
      "1/1 [==============================] - 0s 1ms/step - loss: 7.2694 - mae: 7.2694\n",
      "Epoch 33/100\n",
      "1/1 [==============================] - 0s 1000us/step - loss: 7.2638 - mae: 7.2638\n",
      "Epoch 34/100\n",
      "1/1 [==============================] - 0s 3ms/step - loss: 7.2581 - mae: 7.2581\n",
      "Epoch 35/100\n",
      "1/1 [==============================] - 0s 5ms/step - loss: 7.2525 - mae: 7.2525\n",
      "Epoch 36/100\n",
      "1/1 [==============================] - 0s 2ms/step - loss: 7.2469 - mae: 7.2469\n",
      "Epoch 37/100\n",
      "1/1 [==============================] - 0s 2ms/step - loss: 7.2412 - mae: 7.2412\n",
      "Epoch 38/100\n",
      "1/1 [==============================] - 0s 4ms/step - loss: 7.2356 - mae: 7.2356\n",
      "Epoch 39/100\n",
      "1/1 [==============================] - 0s 3ms/step - loss: 7.2300 - mae: 7.2300\n",
      "Epoch 40/100\n",
      "1/1 [==============================] - 0s 3ms/step - loss: 7.2244 - mae: 7.2244\n",
      "Epoch 41/100\n",
      "1/1 [==============================] - 0s 2ms/step - loss: 7.2188 - mae: 7.2188\n",
      "Epoch 42/100\n",
      "1/1 [==============================] - 0s 2ms/step - loss: 7.2131 - mae: 7.2131\n",
      "Epoch 43/100\n",
      "1/1 [==============================] - 0s 2ms/step - loss: 7.2075 - mae: 7.2075\n",
      "Epoch 44/100\n",
      "1/1 [==============================] - 0s 13ms/step - loss: 7.2019 - mae: 7.2019\n",
      "Epoch 45/100\n",
      "1/1 [==============================] - 0s 4ms/step - loss: 7.1962 - mae: 7.1962\n",
      "Epoch 46/100\n",
      "1/1 [==============================] - 0s 2ms/step - loss: 7.1906 - mae: 7.1906\n",
      "Epoch 47/100\n",
      "1/1 [==============================] - 0s 2ms/step - loss: 7.1850 - mae: 7.1850\n",
      "Epoch 48/100\n",
      "1/1 [==============================] - 0s 2ms/step - loss: 7.1794 - mae: 7.1794\n",
      "Epoch 49/100\n",
      "1/1 [==============================] - 0s 2ms/step - loss: 7.1737 - mae: 7.1737\n",
      "Epoch 50/100\n",
      "1/1 [==============================] - 0s 2ms/step - loss: 7.1681 - mae: 7.1681\n",
      "Epoch 51/100\n",
      "1/1 [==============================] - 0s 2ms/step - loss: 7.1625 - mae: 7.1625\n",
      "Epoch 52/100\n",
      "1/1 [==============================] - 0s 2ms/step - loss: 7.1569 - mae: 7.1569\n",
      "Epoch 53/100\n",
      "1/1 [==============================] - 0s 2ms/step - loss: 7.1512 - mae: 7.1512\n",
      "Epoch 54/100\n",
      "1/1 [==============================] - 0s 999us/step - loss: 7.1456 - mae: 7.1456\n",
      "Epoch 55/100\n",
      "1/1 [==============================] - 0s 3ms/step - loss: 7.1400 - mae: 7.1400\n",
      "Epoch 56/100\n",
      "1/1 [==============================] - 0s 2ms/step - loss: 7.1344 - mae: 7.1344\n",
      "Epoch 57/100\n",
      "1/1 [==============================] - 0s 3ms/step - loss: 7.1287 - mae: 7.1287\n",
      "Epoch 58/100\n",
      "1/1 [==============================] - 0s 2ms/step - loss: 7.1231 - mae: 7.1231\n",
      "Epoch 59/100\n",
      "1/1 [==============================] - 0s 3ms/step - loss: 7.1175 - mae: 7.1175\n",
      "Epoch 60/100\n",
      "1/1 [==============================] - 0s 2ms/step - loss: 7.1119 - mae: 7.1119\n",
      "Epoch 61/100\n",
      "1/1 [==============================] - 0s 2ms/step - loss: 7.1062 - mae: 7.1062\n",
      "Epoch 62/100\n",
      "1/1 [==============================] - 0s 2ms/step - loss: 7.1006 - mae: 7.1006\n",
      "Epoch 63/100\n",
      "1/1 [==============================] - 0s 3ms/step - loss: 7.0950 - mae: 7.0950\n",
      "Epoch 64/100\n",
      "1/1 [==============================] - 0s 2ms/step - loss: 7.0894 - mae: 7.0894\n",
      "Epoch 65/100\n",
      "1/1 [==============================] - 0s 997us/step - loss: 7.0838 - mae: 7.0838\n",
      "Epoch 66/100\n",
      "1/1 [==============================] - 0s 2ms/step - loss: 7.0781 - mae: 7.0781\n",
      "Epoch 67/100\n",
      "1/1 [==============================] - 0s 2ms/step - loss: 7.0725 - mae: 7.0725\n",
      "Epoch 68/100\n",
      "1/1 [==============================] - 0s 3ms/step - loss: 7.0669 - mae: 7.0669\n",
      "Epoch 69/100\n",
      "1/1 [==============================] - 0s 4ms/step - loss: 7.0613 - mae: 7.0613\n",
      "Epoch 70/100\n",
      "1/1 [==============================] - 0s 2ms/step - loss: 7.0556 - mae: 7.0556\n",
      "Epoch 71/100\n",
      "1/1 [==============================] - 0s 2ms/step - loss: 7.0500 - mae: 7.0500\n",
      "Epoch 72/100\n",
      "1/1 [==============================] - 0s 2ms/step - loss: 7.0444 - mae: 7.0444\n",
      "Epoch 73/100\n",
      "1/1 [==============================] - 0s 2ms/step - loss: 7.0388 - mae: 7.0388\n",
      "Epoch 74/100\n",
      "1/1 [==============================] - 0s 2ms/step - loss: 7.0331 - mae: 7.0331\n",
      "Epoch 75/100\n",
      "1/1 [==============================] - 0s 2ms/step - loss: 7.0275 - mae: 7.0275\n",
      "Epoch 76/100\n",
      "1/1 [==============================] - 0s 4ms/step - loss: 7.0219 - mae: 7.0219\n",
      "Epoch 77/100\n",
      "1/1 [==============================] - 0s 3ms/step - loss: 7.0163 - mae: 7.0163\n",
      "Epoch 78/100\n",
      "1/1 [==============================] - 0s 2ms/step - loss: 7.0106 - mae: 7.0106\n",
      "Epoch 79/100\n",
      "1/1 [==============================] - 0s 2ms/step - loss: 7.0050 - mae: 7.0050\n",
      "Epoch 80/100\n",
      "1/1 [==============================] - 0s 999us/step - loss: 6.9994 - mae: 6.9994\n",
      "Epoch 81/100\n",
      "1/1 [==============================] - 0s 2ms/step - loss: 6.9938 - mae: 6.9938\n",
      "Epoch 82/100\n",
      "1/1 [==============================] - 0s 3ms/step - loss: 6.9881 - mae: 6.9881\n",
      "Epoch 83/100\n",
      "1/1 [==============================] - 0s 999us/step - loss: 6.9825 - mae: 6.9825\n",
      "Epoch 84/100\n",
      "1/1 [==============================] - 0s 2ms/step - loss: 6.9769 - mae: 6.9769\n",
      "Epoch 85/100\n",
      "1/1 [==============================] - 0s 2ms/step - loss: 6.9713 - mae: 6.9713\n",
      "Epoch 86/100\n",
      "1/1 [==============================] - 0s 3ms/step - loss: 6.9656 - mae: 6.9656\n",
      "Epoch 87/100\n",
      "1/1 [==============================] - 0s 2ms/step - loss: 6.9600 - mae: 6.9600\n",
      "Epoch 88/100\n"
     ]
    },
    {
     "name": "stdout",
     "output_type": "stream",
     "text": [
      "1/1 [==============================] - 0s 2ms/step - loss: 6.9544 - mae: 6.9544\n",
      "Epoch 89/100\n",
      "1/1 [==============================] - 0s 2ms/step - loss: 6.9488 - mae: 6.9488\n",
      "Epoch 90/100\n",
      "1/1 [==============================] - 0s 2ms/step - loss: 6.9431 - mae: 6.9431\n",
      "Epoch 91/100\n",
      "1/1 [==============================] - 0s 2ms/step - loss: 6.9375 - mae: 6.9375\n",
      "Epoch 92/100\n",
      "1/1 [==============================] - 0s 3ms/step - loss: 6.9319 - mae: 6.9319\n",
      "Epoch 93/100\n",
      "1/1 [==============================] - 0s 2ms/step - loss: 6.9263 - mae: 6.9263\n",
      "Epoch 94/100\n",
      "1/1 [==============================] - 0s 2ms/step - loss: 6.9206 - mae: 6.9206\n",
      "Epoch 95/100\n",
      "1/1 [==============================] - 0s 4ms/step - loss: 6.9150 - mae: 6.9150\n",
      "Epoch 96/100\n",
      "1/1 [==============================] - 0s 3ms/step - loss: 6.9094 - mae: 6.9094\n",
      "Epoch 97/100\n",
      "1/1 [==============================] - 0s 2ms/step - loss: 6.9038 - mae: 6.9038\n",
      "Epoch 98/100\n",
      "1/1 [==============================] - 0s 2ms/step - loss: 6.8981 - mae: 6.8981\n",
      "Epoch 99/100\n",
      "1/1 [==============================] - 0s 3ms/step - loss: 6.8925 - mae: 6.8925\n",
      "Epoch 100/100\n",
      "1/1 [==============================] - 0s 999us/step - loss: 6.8869 - mae: 6.8869\n"
     ]
    },
    {
     "data": {
      "text/plain": [
       "<tensorflow.python.keras.callbacks.History at 0x1eb06470f40>"
      ]
     },
     "execution_count": 13,
     "metadata": {},
     "output_type": "execute_result"
    }
   ],
   "source": [
    "# lecture - 6\n",
    "model = tf.keras.Sequential([\n",
    "    \n",
    "    tf.keras.layers.Dense(1)\n",
    "])\n",
    "\n",
    "# Compile a model\n",
    "model.compile(loss = tf.keras.losses.mae,\n",
    "              optimizer = tf.keras.optimizers.SGD(),\n",
    "              metrics = ['mae'])\n",
    "\n",
    "# Fit the model for 100 epoches\n",
    "model.fit(X, y, epochs=100)"
   ]
  },
  {
   "cell_type": "code",
   "execution_count": 14,
   "id": "c182cabe",
   "metadata": {
    "scrolled": true
   },
   "outputs": [
    {
     "data": {
      "text/plain": [
       "array([[29.739855]], dtype=float32)"
      ]
     },
     "execution_count": 14,
     "metadata": {},
     "output_type": "execute_result"
    }
   ],
   "source": [
    "# Try and predict what y would be if X was 17.0\n",
    "model.predict([17.0]) # the right answer is 27.0 (y = X + 10)"
   ]
  },
  {
   "cell_type": "markdown",
   "id": "f15057ab",
   "metadata": {},
   "source": [
    "### Best model ⬇⏬"
   ]
  },
  {
   "cell_type": "code",
   "execution_count": 15,
   "id": "c60e3c98",
   "metadata": {
    "scrolled": true
   },
   "outputs": [
    {
     "name": "stdout",
     "output_type": "stream",
     "text": [
      "Epoch 1/100\n",
      "1/1 [==============================] - 0s 2ms/step - loss: 13.7768 - mae: 13.7768\n",
      "Epoch 2/100\n",
      "1/1 [==============================] - 0s 3ms/step - loss: 13.2262 - mae: 13.2262\n",
      "Epoch 3/100\n",
      "1/1 [==============================] - 0s 3ms/step - loss: 12.6900 - mae: 12.6900\n",
      "Epoch 4/100\n",
      "1/1 [==============================] - 0s 3ms/step - loss: 12.1134 - mae: 12.1134\n",
      "Epoch 5/100\n",
      "1/1 [==============================] - 0s 995us/step - loss: 11.4349 - mae: 11.4349\n",
      "Epoch 6/100\n",
      "1/1 [==============================] - 0s 2ms/step - loss: 10.5682 - mae: 10.5682\n",
      "Epoch 7/100\n",
      "1/1 [==============================] - 0s 998us/step - loss: 9.3721 - mae: 9.3721\n",
      "Epoch 8/100\n",
      "1/1 [==============================] - 0s 2ms/step - loss: 7.5839 - mae: 7.5839\n",
      "Epoch 9/100\n",
      "1/1 [==============================] - 0s 1ms/step - loss: 8.6189 - mae: 8.6189\n",
      "Epoch 10/100\n",
      "1/1 [==============================] - 0s 3ms/step - loss: 9.0713 - mae: 9.0713\n",
      "Epoch 11/100\n",
      "1/1 [==============================] - 0s 2ms/step - loss: 7.2100 - mae: 7.2100\n",
      "Epoch 12/100\n",
      "1/1 [==============================] - 0s 1000us/step - loss: 8.9144 - mae: 8.9144\n",
      "Epoch 13/100\n",
      "1/1 [==============================] - 0s 4ms/step - loss: 8.7460 - mae: 8.7460\n",
      "Epoch 14/100\n",
      "1/1 [==============================] - 0s 1ms/step - loss: 6.7837 - mae: 6.7837\n",
      "Epoch 15/100\n",
      "1/1 [==============================] - 0s 2ms/step - loss: 6.7147 - mae: 6.7147\n",
      "Epoch 16/100\n",
      "1/1 [==============================] - 0s 4ms/step - loss: 6.6417 - mae: 6.6417\n",
      "Epoch 17/100\n",
      "1/1 [==============================] - 0s 995us/step - loss: 6.5642 - mae: 6.5642\n",
      "Epoch 18/100\n",
      "1/1 [==============================] - 0s 999us/step - loss: 6.5303 - mae: 6.5303\n",
      "Epoch 19/100\n",
      "1/1 [==============================] - 0s 1ms/step - loss: 7.8043 - mae: 7.8043\n",
      "Epoch 20/100\n",
      "1/1 [==============================] - 0s 2ms/step - loss: 6.7005 - mae: 6.7005\n",
      "Epoch 21/100\n",
      "1/1 [==============================] - 0s 3ms/step - loss: 7.4079 - mae: 7.4079\n",
      "Epoch 22/100\n",
      "1/1 [==============================] - 0s 4ms/step - loss: 6.9019 - mae: 6.9019\n",
      "Epoch 23/100\n",
      "1/1 [==============================] - 0s 2ms/step - loss: 6.9631 - mae: 6.9631\n",
      "Epoch 24/100\n",
      "1/1 [==============================] - 0s 2ms/step - loss: 7.4677 - mae: 7.4677\n",
      "Epoch 25/100\n",
      "1/1 [==============================] - 0s 2ms/step - loss: 8.2305 - mae: 8.2305\n",
      "Epoch 26/100\n",
      "1/1 [==============================] - 0s 2ms/step - loss: 6.0588 - mae: 6.0588\n",
      "Epoch 27/100\n",
      "1/1 [==============================] - 0s 3ms/step - loss: 8.8193 - mae: 8.8193\n",
      "Epoch 28/100\n",
      "1/1 [==============================] - 0s 2ms/step - loss: 7.5960 - mae: 7.5960\n",
      "Epoch 29/100\n",
      "1/1 [==============================] - 0s 999us/step - loss: 5.8389 - mae: 5.8389\n",
      "Epoch 30/100\n",
      "1/1 [==============================] - 0s 2ms/step - loss: 7.0189 - mae: 7.0189\n",
      "Epoch 31/100\n",
      "1/1 [==============================] - 0s 1ms/step - loss: 6.1707 - mae: 6.1707\n",
      "Epoch 32/100\n",
      "1/1 [==============================] - 0s 3ms/step - loss: 8.0414 - mae: 8.0414\n",
      "Epoch 33/100\n",
      "1/1 [==============================] - 0s 2ms/step - loss: 5.8228 - mae: 5.8228\n",
      "Epoch 34/100\n",
      "1/1 [==============================] - 0s 998us/step - loss: 7.9824 - mae: 7.9824\n",
      "Epoch 35/100\n",
      "1/1 [==============================] - 0s 2ms/step - loss: 7.2004 - mae: 7.2004\n",
      "Epoch 36/100\n",
      "1/1 [==============================] - 0s 2ms/step - loss: 5.3092 - mae: 5.3092\n",
      "Epoch 37/100\n",
      "1/1 [==============================] - 0s 2ms/step - loss: 6.4407 - mae: 6.4407\n",
      "Epoch 38/100\n",
      "1/1 [==============================] - 0s 2ms/step - loss: 5.9717 - mae: 5.9717\n",
      "Epoch 39/100\n",
      "1/1 [==============================] - 0s 3ms/step - loss: 7.4547 - mae: 7.4547\n",
      "Epoch 40/100\n",
      "1/1 [==============================] - 0s 2ms/step - loss: 4.8631 - mae: 4.8631\n",
      "Epoch 41/100\n",
      "1/1 [==============================] - 0s 1ms/step - loss: 8.8137 - mae: 8.8137\n",
      "Epoch 42/100\n",
      "1/1 [==============================] - 0s 3ms/step - loss: 7.7748 - mae: 7.7748\n",
      "Epoch 43/100\n",
      "1/1 [==============================] - 0s 998us/step - loss: 5.4332 - mae: 5.4332\n",
      "Epoch 44/100\n",
      "1/1 [==============================] - 0s 5ms/step - loss: 6.6172 - mae: 6.6172\n",
      "Epoch 45/100\n",
      "1/1 [==============================] - 0s 2ms/step - loss: 7.8410 - mae: 7.8410\n",
      "Epoch 46/100\n",
      "1/1 [==============================] - 0s 997us/step - loss: 5.5571 - mae: 5.5571\n",
      "Epoch 47/100\n",
      "1/1 [==============================] - 0s 2ms/step - loss: 5.6628 - mae: 5.6628\n",
      "Epoch 48/100\n",
      "1/1 [==============================] - 0s 2ms/step - loss: 6.5290 - mae: 6.5290\n",
      "Epoch 49/100\n",
      "1/1 [==============================] - 0s 1ms/step - loss: 3.7652 - mae: 3.7652\n",
      "Epoch 50/100\n",
      "1/1 [==============================] - 0s 1ms/step - loss: 5.3186 - mae: 5.3186\n",
      "Epoch 51/100\n",
      "1/1 [==============================] - 0s 3ms/step - loss: 4.9266 - mae: 4.9266\n",
      "Epoch 52/100\n",
      "1/1 [==============================] - 0s 1ms/step - loss: 7.6458 - mae: 7.6458\n",
      "Epoch 53/100\n",
      "1/1 [==============================] - 0s 1000us/step - loss: 4.9981 - mae: 4.9981\n",
      "Epoch 54/100\n",
      "1/1 [==============================] - 0s 2ms/step - loss: 4.7389 - mae: 4.7389\n",
      "Epoch 55/100\n",
      "1/1 [==============================] - 0s 1000us/step - loss: 7.4958 - mae: 7.4958\n",
      "Epoch 56/100\n",
      "1/1 [==============================] - 0s 2ms/step - loss: 3.8073 - mae: 3.8073\n",
      "Epoch 57/100\n",
      "1/1 [==============================] - 0s 1000us/step - loss: 6.6994 - mae: 6.6994\n",
      "Epoch 58/100\n",
      "1/1 [==============================] - 0s 6ms/step - loss: 6.7296 - mae: 6.7296\n",
      "Epoch 59/100\n",
      "1/1 [==============================] - 0s 2ms/step - loss: 2.6947 - mae: 2.6947\n",
      "Epoch 60/100\n",
      "1/1 [==============================] - 0s 997us/step - loss: 8.7562 - mae: 8.7562\n",
      "Epoch 61/100\n",
      "1/1 [==============================] - 0s 2ms/step - loss: 7.1185 - mae: 7.1185\n",
      "Epoch 62/100\n",
      "1/1 [==============================] - 0s 2ms/step - loss: 3.4209 - mae: 3.4209\n",
      "Epoch 63/100\n",
      "1/1 [==============================] - 0s 1ms/step - loss: 5.9792 - mae: 5.9792\n",
      "Epoch 64/100\n",
      "1/1 [==============================] - 0s 998us/step - loss: 7.1573 - mae: 7.1573\n",
      "Epoch 65/100\n",
      "1/1 [==============================] - 0s 2ms/step - loss: 3.4696 - mae: 3.4696\n",
      "Epoch 66/100\n",
      "1/1 [==============================] - 0s 2ms/step - loss: 5.0926 - mae: 5.0926\n",
      "Epoch 67/100\n",
      "1/1 [==============================] - 0s 4ms/step - loss: 7.0807 - mae: 7.0807\n",
      "Epoch 68/100\n",
      "1/1 [==============================] - 0s 999us/step - loss: 3.2619 - mae: 3.2619\n",
      "Epoch 69/100\n",
      "1/1 [==============================] - 0s 1000us/step - loss: 4.8396 - mae: 4.8396\n",
      "Epoch 70/100\n",
      "1/1 [==============================] - 0s 2ms/step - loss: 6.9702 - mae: 6.9702\n",
      "Epoch 71/100\n",
      "1/1 [==============================] - 0s 2ms/step - loss: 2.8364 - mae: 2.8364\n",
      "Epoch 72/100\n",
      "1/1 [==============================] - 0s 2ms/step - loss: 5.3946 - mae: 5.3946\n",
      "Epoch 73/100\n",
      "1/1 [==============================] - 0s 4ms/step - loss: 6.4462 - mae: 6.4462\n",
      "Epoch 74/100\n",
      "1/1 [==============================] - 0s 2ms/step - loss: 2.4438 - mae: 2.4438\n",
      "Epoch 75/100\n",
      "1/1 [==============================] - 0s 1ms/step - loss: 5.4973 - mae: 5.4973\n",
      "Epoch 76/100\n",
      "1/1 [==============================] - 0s 2ms/step - loss: 6.5082 - mae: 6.5082\n",
      "Epoch 77/100\n",
      "1/1 [==============================] - 0s 2ms/step - loss: 1.9467 - mae: 1.9467\n",
      "Epoch 78/100\n",
      "1/1 [==============================] - 0s 3ms/step - loss: 6.1562 - mae: 6.1562\n",
      "Epoch 79/100\n",
      "1/1 [==============================] - 0s 2ms/step - loss: 6.0599 - mae: 6.0599\n",
      "Epoch 80/100\n",
      "1/1 [==============================] - 0s 2ms/step - loss: 1.4427 - mae: 1.4427\n",
      "Epoch 81/100\n",
      "1/1 [==============================] - 0s 2ms/step - loss: 6.7944 - mae: 6.7944\n",
      "Epoch 82/100\n",
      "1/1 [==============================] - 0s 2ms/step - loss: 5.7333 - mae: 5.7333\n",
      "Epoch 83/100\n",
      "1/1 [==============================] - 0s 2ms/step - loss: 1.4518 - mae: 1.4518\n",
      "Epoch 84/100\n",
      "1/1 [==============================] - 0s 1ms/step - loss: 6.4430 - mae: 6.4430\n",
      "Epoch 85/100\n",
      "1/1 [==============================] - ETA: 0s - loss: 5.4389 - mae: 5.438 - 0s 2ms/step - loss: 5.4389 - mae: 5.4389\n",
      "Epoch 86/100\n",
      "1/1 [==============================] - 0s 4ms/step - loss: 1.3028 - mae: 1.3028\n",
      "Epoch 87/100\n",
      "1/1 [==============================] - 0s 3ms/step - loss: 6.4798 - mae: 6.4798\n",
      "Epoch 88/100\n"
     ]
    },
    {
     "name": "stdout",
     "output_type": "stream",
     "text": [
      "1/1 [==============================] - 0s 1000us/step - loss: 5.1781 - mae: 5.1781\n",
      "Epoch 89/100\n",
      "1/1 [==============================] - 0s 2ms/step - loss: 1.0770 - mae: 1.0770\n",
      "Epoch 90/100\n",
      "1/1 [==============================] - 0s 1ms/step - loss: 6.6867 - mae: 6.6867\n",
      "Epoch 91/100\n",
      "1/1 [==============================] - 0s 2ms/step - loss: 4.9480 - mae: 4.9480\n",
      "Epoch 92/100\n",
      "1/1 [==============================] - 0s 2ms/step - loss: 0.8098 - mae: 0.8098\n",
      "Epoch 93/100\n",
      "1/1 [==============================] - 0s 2ms/step - loss: 6.9711 - mae: 6.9711\n",
      "Epoch 94/100\n",
      "1/1 [==============================] - 0s 999us/step - loss: 4.7452 - mae: 4.7452\n",
      "Epoch 95/100\n",
      "1/1 [==============================] - 0s 998us/step - loss: 0.5410 - mae: 0.5410\n",
      "Epoch 96/100\n",
      "1/1 [==============================] - 0s 999us/step - loss: 1.8123 - mae: 1.8123\n",
      "Epoch 97/100\n",
      "1/1 [==============================] - 0s 1ms/step - loss: 5.9680 - mae: 5.9680\n",
      "Epoch 98/100\n",
      "1/1 [==============================] - 0s 2ms/step - loss: 2.0080 - mae: 2.0080\n",
      "Epoch 99/100\n",
      "1/1 [==============================] - 0s 1ms/step - loss: 5.2283 - mae: 5.2283\n",
      "Epoch 100/100\n",
      "1/1 [==============================] - 0s 2ms/step - loss: 4.4528 - mae: 4.4528\n"
     ]
    },
    {
     "data": {
      "text/plain": [
       "<tensorflow.python.keras.callbacks.History at 0x1eb0666f9d0>"
      ]
     },
     "execution_count": 15,
     "metadata": {},
     "output_type": "execute_result"
    }
   ],
   "source": [
    "model = tf.keras.Sequential([\n",
    "    \n",
    "    tf.keras.layers.Dense(50),\n",
    "    tf.keras.layers.Dense(25),\n",
    "    tf.keras.layers.Dense(8),\n",
    "    tf.keras.layers.Dense(4),\n",
    "    tf.keras.layers.Dense(2),\n",
    "    tf.keras.layers.Dense(1)\n",
    "])\n",
    "\n",
    "# Compile a model\n",
    "model.compile(loss = tf.keras.losses.mae,\n",
    "              optimizer = tf.keras.optimizers.SGD(),\n",
    "              metrics=[\"mae\"])\n",
    "\n",
    "# Fit\n",
    "model.fit(X, y, epochs=100)"
   ]
  },
  {
   "cell_type": "code",
   "execution_count": 16,
   "id": "e80338b2",
   "metadata": {
    "scrolled": true
   },
   "outputs": [],
   "source": [
    "# model.predict([17.0])"
   ]
  },
  {
   "cell_type": "code",
   "execution_count": 17,
   "id": "a36a0e2c",
   "metadata": {
    "scrolled": true
   },
   "outputs": [
    {
     "data": {
      "text/plain": [
       "array([[26.311575]], dtype=float32)"
      ]
     },
     "execution_count": 17,
     "metadata": {},
     "output_type": "execute_result"
    }
   ],
   "source": [
    "model.predict([17.0])"
   ]
  },
  {
   "cell_type": "code",
   "execution_count": 18,
   "id": "bd04688d",
   "metadata": {
    "scrolled": true
   },
   "outputs": [
    {
     "data": {
      "text/plain": [
       "array([[65.3604]], dtype=float32)"
      ]
     },
     "execution_count": 18,
     "metadata": {},
     "output_type": "execute_result"
    }
   ],
   "source": [
    "# actual -> 66.0\n",
    "model.predict([56.0])"
   ]
  },
  {
   "cell_type": "code",
   "execution_count": 19,
   "id": "a0092faf",
   "metadata": {
    "collapsed": true
   },
   "outputs": [
    {
     "name": "stdout",
     "output_type": "stream",
     "text": [
      "Epoch 1/100\n",
      "1/1 [==============================] - 0s 1ms/step - loss: 13.1407 - mae: 13.1407\n",
      "Epoch 2/100\n",
      "1/1 [==============================] - 0s 2ms/step - loss: 12.4751 - mae: 12.4751\n",
      "Epoch 3/100\n",
      "1/1 [==============================] - 0s 998us/step - loss: 11.8029 - mae: 11.8029\n",
      "Epoch 4/100\n",
      "1/1 [==============================] - 0s 2ms/step - loss: 11.1216 - mae: 11.1216\n",
      "Epoch 5/100\n",
      "1/1 [==============================] - 0s 4ms/step - loss: 10.4260 - mae: 10.4260\n",
      "Epoch 6/100\n",
      "1/1 [==============================] - 0s 3ms/step - loss: 9.7259 - mae: 9.7259\n",
      "Epoch 7/100\n",
      "1/1 [==============================] - 0s 2ms/step - loss: 8.9961 - mae: 8.9961\n",
      "Epoch 8/100\n",
      "1/1 [==============================] - 0s 999us/step - loss: 8.2333 - mae: 8.2333\n",
      "Epoch 9/100\n",
      "1/1 [==============================] - 0s 1ms/step - loss: 7.4276 - mae: 7.4276\n",
      "Epoch 10/100\n",
      "1/1 [==============================] - 0s 2ms/step - loss: 6.5690 - mae: 6.5690\n",
      "Epoch 11/100\n",
      "1/1 [==============================] - 0s 3ms/step - loss: 5.6583 - mae: 5.6583\n",
      "Epoch 12/100\n",
      "1/1 [==============================] - 0s 1ms/step - loss: 4.6803 - mae: 4.6803\n",
      "Epoch 13/100\n",
      "1/1 [==============================] - 0s 2ms/step - loss: 4.1211 - mae: 4.1211\n",
      "Epoch 14/100\n",
      "1/1 [==============================] - 0s 3ms/step - loss: 4.0120 - mae: 4.0120\n",
      "Epoch 15/100\n",
      "1/1 [==============================] - 0s 998us/step - loss: 4.0106 - mae: 4.0106\n",
      "Epoch 16/100\n",
      "1/1 [==============================] - 0s 2ms/step - loss: 3.9347 - mae: 3.9347\n",
      "Epoch 17/100\n",
      "1/1 [==============================] - 0s 2ms/step - loss: 3.9456 - mae: 3.9456\n",
      "Epoch 18/100\n",
      "1/1 [==============================] - 0s 4ms/step - loss: 3.9462 - mae: 3.9462\n",
      "Epoch 19/100\n",
      "1/1 [==============================] - 0s 2ms/step - loss: 3.9203 - mae: 3.9203\n",
      "Epoch 20/100\n",
      "1/1 [==============================] - 0s 3ms/step - loss: 3.9537 - mae: 3.9537\n",
      "Epoch 21/100\n",
      "1/1 [==============================] - 0s 2ms/step - loss: 3.8948 - mae: 3.8948\n",
      "Epoch 22/100\n",
      "1/1 [==============================] - 0s 2ms/step - loss: 3.9614 - mae: 3.9614\n",
      "Epoch 23/100\n",
      "1/1 [==============================] - 0s 5ms/step - loss: 3.8919 - mae: 3.8919\n",
      "Epoch 24/100\n",
      "1/1 [==============================] - 0s 2ms/step - loss: 3.9462 - mae: 3.9462\n",
      "Epoch 25/100\n",
      "1/1 [==============================] - 0s 1000us/step - loss: 3.9064 - mae: 3.9064\n",
      "Epoch 26/100\n",
      "1/1 [==============================] - 0s 2ms/step - loss: 3.9264 - mae: 3.9264\n",
      "Epoch 27/100\n",
      "1/1 [==============================] - 0s 2ms/step - loss: 3.9140 - mae: 3.9140\n",
      "Epoch 28/100\n",
      "1/1 [==============================] - 0s 2ms/step - loss: 3.9008 - mae: 3.9008\n",
      "Epoch 29/100\n",
      "1/1 [==============================] - 0s 2ms/step - loss: 3.9217 - mae: 3.9217\n",
      "Epoch 30/100\n",
      "1/1 [==============================] - 0s 2ms/step - loss: 3.8752 - mae: 3.8752\n",
      "Epoch 31/100\n",
      "1/1 [==============================] - 0s 1ms/step - loss: 3.9295 - mae: 3.9295\n",
      "Epoch 32/100\n",
      "1/1 [==============================] - 0s 5ms/step - loss: 3.8604 - mae: 3.8604\n",
      "Epoch 33/100\n",
      "1/1 [==============================] - 0s 2ms/step - loss: 3.9299 - mae: 3.9299\n",
      "Epoch 34/100\n",
      "1/1 [==============================] - 0s 999us/step - loss: 3.8752 - mae: 3.8752\n",
      "Epoch 35/100\n",
      "1/1 [==============================] - 0s 3ms/step - loss: 3.9059 - mae: 3.9059\n",
      "Epoch 36/100\n",
      "1/1 [==============================] - 0s 1ms/step - loss: 3.8831 - mae: 3.8831\n",
      "Epoch 37/100\n",
      "1/1 [==============================] - 0s 999us/step - loss: 3.8800 - mae: 3.8800\n",
      "Epoch 38/100\n",
      "1/1 [==============================] - 0s 2ms/step - loss: 3.8911 - mae: 3.8911\n",
      "Epoch 39/100\n",
      "1/1 [==============================] - 0s 999us/step - loss: 3.8541 - mae: 3.8541\n",
      "Epoch 40/100\n",
      "1/1 [==============================] - 0s 3ms/step - loss: 3.8991 - mae: 3.8991\n",
      "Epoch 41/100\n",
      "1/1 [==============================] - 0s 4ms/step - loss: 3.8315 - mae: 3.8315\n",
      "Epoch 42/100\n",
      "1/1 [==============================] - 0s 999us/step - loss: 3.9101 - mae: 3.9101\n",
      "Epoch 43/100\n",
      "1/1 [==============================] - 0s 999us/step - loss: 3.8453 - mae: 3.8453\n",
      "Epoch 44/100\n",
      "1/1 [==============================] - ETA: 0s - loss: 3.8841 - mae: 3.884 - 0s 4ms/step - loss: 3.8841 - mae: 3.8841\n",
      "Epoch 45/100\n",
      "1/1 [==============================] - 0s 2ms/step - loss: 3.8534 - mae: 3.8534\n",
      "Epoch 46/100\n",
      "1/1 [==============================] - 0s 2ms/step - loss: 3.8581 - mae: 3.8581\n",
      "Epoch 47/100\n",
      "1/1 [==============================] - 0s 2ms/step - loss: 3.8616 - mae: 3.8616\n",
      "Epoch 48/100\n",
      "1/1 [==============================] - 0s 1ms/step - loss: 3.8320 - mae: 3.8320\n",
      "Epoch 49/100\n",
      "1/1 [==============================] - 0s 5ms/step - loss: 3.8698 - mae: 3.8698\n",
      "Epoch 50/100\n",
      "1/1 [==============================] - 0s 3ms/step - loss: 3.8099 - mae: 3.8099\n",
      "Epoch 51/100\n",
      "1/1 [==============================] - 0s 3ms/step - loss: 3.8850 - mae: 3.8850\n",
      "Epoch 52/100\n",
      "1/1 [==============================] - 0s 1ms/step - loss: 3.8164 - mae: 3.8164\n",
      "Epoch 53/100\n",
      "1/1 [==============================] - 0s 999us/step - loss: 3.8613 - mae: 3.8613\n",
      "Epoch 54/100\n",
      "1/1 [==============================] - 0s 2ms/step - loss: 3.8247 - mae: 3.8247\n",
      "Epoch 55/100\n",
      "1/1 [==============================] - 0s 1000us/step - loss: 3.8348 - mae: 3.8348\n",
      "Epoch 56/100\n",
      "1/1 [==============================] - 0s 2ms/step - loss: 3.8331 - mae: 3.8331\n",
      "Epoch 57/100\n",
      "1/1 [==============================] - 0s 2ms/step - loss: 3.8084 - mae: 3.8084\n",
      "Epoch 58/100\n",
      "1/1 [==============================] - 0s 3ms/step - loss: 3.8420 - mae: 3.8420\n",
      "Epoch 59/100\n",
      "1/1 [==============================] - 0s 1ms/step - loss: 3.7881 - mae: 3.7881\n",
      "Epoch 60/100\n",
      "1/1 [==============================] - 0s 999us/step - loss: 3.8569 - mae: 3.8569\n",
      "Epoch 61/100\n",
      "1/1 [==============================] - 0s 2ms/step - loss: 3.7887 - mae: 3.7887\n",
      "Epoch 62/100\n",
      "1/1 [==============================] - 0s 2ms/step - loss: 3.8371 - mae: 3.8371\n",
      "Epoch 63/100\n",
      "1/1 [==============================] - 0s 999us/step - loss: 3.7972 - mae: 3.7972\n",
      "Epoch 64/100\n",
      "1/1 [==============================] - 0s 1ms/step - loss: 3.8103 - mae: 3.8103\n",
      "Epoch 65/100\n",
      "1/1 [==============================] - 0s 2ms/step - loss: 3.8058 - mae: 3.8058\n",
      "Epoch 66/100\n",
      "1/1 [==============================] - 0s 1ms/step - loss: 3.7836 - mae: 3.7836\n",
      "Epoch 67/100\n",
      "1/1 [==============================] - 0s 2ms/step - loss: 3.8177 - mae: 3.8177\n",
      "Epoch 68/100\n",
      "1/1 [==============================] - 0s 2ms/step - loss: 3.7629 - mae: 3.7629\n",
      "Epoch 69/100\n",
      "1/1 [==============================] - 0s 996us/step - loss: 3.8300 - mae: 3.8300\n",
      "Epoch 70/100\n",
      "1/1 [==============================] - 0s 997us/step - loss: 3.7620 - mae: 3.7620\n",
      "Epoch 71/100\n",
      "1/1 [==============================] - 0s 9ms/step - loss: 3.8115 - mae: 3.8115\n",
      "Epoch 72/100\n",
      "1/1 [==============================] - 0s 2ms/step - loss: 3.7707 - mae: 3.7707\n",
      "Epoch 73/100\n",
      "1/1 [==============================] - 0s 999us/step - loss: 3.7845 - mae: 3.7845\n",
      "Epoch 74/100\n",
      "1/1 [==============================] - 0s 2ms/step - loss: 3.7796 - mae: 3.7796\n",
      "Epoch 75/100\n",
      "1/1 [==============================] - 0s 2ms/step - loss: 3.7574 - mae: 3.7574\n",
      "Epoch 76/100\n",
      "1/1 [==============================] - 0s 4ms/step - loss: 3.7944 - mae: 3.7944\n",
      "Epoch 77/100\n",
      "1/1 [==============================] - 0s 4ms/step - loss: 3.7364 - mae: 3.7364\n",
      "Epoch 78/100\n",
      "1/1 [==============================] - 0s 2ms/step - loss: 3.8042 - mae: 3.8042\n",
      "Epoch 79/100\n",
      "1/1 [==============================] - 0s 2ms/step - loss: 3.7365 - mae: 3.7365\n",
      "Epoch 80/100\n",
      "1/1 [==============================] - 0s 1ms/step - loss: 3.7846 - mae: 3.7846\n",
      "Epoch 81/100\n",
      "1/1 [==============================] - 0s 998us/step - loss: 3.7454 - mae: 3.7454\n",
      "Epoch 82/100\n",
      "1/1 [==============================] - 0s 2ms/step - loss: 3.7573 - mae: 3.7573\n",
      "Epoch 83/100\n",
      "1/1 [==============================] - 0s 3ms/step - loss: 3.7544 - mae: 3.7544\n",
      "Epoch 84/100\n",
      "1/1 [==============================] - 0s 999us/step - loss: 3.7322 - mae: 3.7322\n",
      "Epoch 85/100\n",
      "1/1 [==============================] - 0s 999us/step - loss: 3.7704 - mae: 3.7704\n",
      "Epoch 86/100\n",
      "1/1 [==============================] - 0s 2ms/step - loss: 3.7085 - mae: 3.7085\n",
      "Epoch 87/100\n",
      "1/1 [==============================] - 0s 998us/step - loss: 3.7794 - mae: 3.7794\n",
      "Epoch 88/100\n"
     ]
    },
    {
     "name": "stdout",
     "output_type": "stream",
     "text": [
      "1/1 [==============================] - 0s 2ms/step - loss: 3.7120 - mae: 3.7120\n",
      "Epoch 89/100\n",
      "1/1 [==============================] - 0s 1000us/step - loss: 3.7563 - mae: 3.7563\n",
      "Epoch 90/100\n",
      "1/1 [==============================] - 0s 2ms/step - loss: 3.7211 - mae: 3.7211\n",
      "Epoch 91/100\n",
      "1/1 [==============================] - 0s 2ms/step - loss: 3.7287 - mae: 3.7287\n",
      "Epoch 92/100\n",
      "1/1 [==============================] - 0s 1000us/step - loss: 3.7304 - mae: 3.7304\n",
      "Epoch 93/100\n",
      "1/1 [==============================] - 0s 1000us/step - loss: 3.7058 - mae: 3.7058\n",
      "Epoch 94/100\n",
      "1/1 [==============================] - 0s 2ms/step - loss: 3.7464 - mae: 3.7464\n",
      "Epoch 95/100\n",
      "1/1 [==============================] - 0s 1ms/step - loss: 3.6795 - mae: 3.6795\n",
      "Epoch 96/100\n",
      "1/1 [==============================] - 0s 2ms/step - loss: 3.7544 - mae: 3.7544\n",
      "Epoch 97/100\n",
      "1/1 [==============================] - 0s 999us/step - loss: 3.6886 - mae: 3.6886\n",
      "Epoch 98/100\n",
      "1/1 [==============================] - 0s 3ms/step - loss: 3.7266 - mae: 3.7266\n",
      "Epoch 99/100\n",
      "1/1 [==============================] - 0s 999us/step - loss: 3.6979 - mae: 3.6979\n",
      "Epoch 100/100\n",
      "1/1 [==============================] - 0s 999us/step - loss: 3.6986 - mae: 3.6986\n"
     ]
    },
    {
     "data": {
      "text/plain": [
       "<tensorflow.python.keras.callbacks.History at 0x1eb06b4ca30>"
      ]
     },
     "execution_count": 19,
     "metadata": {},
     "output_type": "execute_result"
    }
   ],
   "source": [
    "# Create a model\n",
    "model = tf.keras.Sequential([\n",
    "    tf.keras.layers.Dense(100, activation='relu'),\n",
    "    tf.keras.layers.Dense(1)\n",
    "])\n",
    "\n",
    "model.compile(loss = \"mae\",\n",
    "              optimizer = 'sgd',\n",
    "              metrics=[\"mae\"]\n",
    "              )\n",
    "\n",
    "model.fit(X, y, epochs=100)"
   ]
  },
  {
   "cell_type": "code",
   "execution_count": 20,
   "id": "33abd3ca",
   "metadata": {
    "scrolled": true
   },
   "outputs": [
    {
     "data": {
      "text/plain": [
       "array([[32.624386]], dtype=float32)"
      ]
     },
     "execution_count": 20,
     "metadata": {},
     "output_type": "execute_result"
    }
   ],
   "source": [
    "model.predict([17.0])"
   ]
  },
  {
   "cell_type": "code",
   "execution_count": 21,
   "id": "9b99f661",
   "metadata": {
    "scrolled": true
   },
   "outputs": [
    {
     "name": "stdout",
     "output_type": "stream",
     "text": [
      "Epoch 1/100\n",
      "1/1 [==============================] - 0s 2ms/step - loss: 12.3469 - mae: 12.3469\n",
      "Epoch 2/100\n",
      "1/1 [==============================] - 0s 3ms/step - loss: 11.6170 - mae: 11.6170\n",
      "Epoch 3/100\n",
      "1/1 [==============================] - 0s 2ms/step - loss: 10.8837 - mae: 10.8837\n",
      "Epoch 4/100\n",
      "1/1 [==============================] - 0s 4ms/step - loss: 10.1465 - mae: 10.1465\n",
      "Epoch 5/100\n",
      "1/1 [==============================] - 0s 2ms/step - loss: 9.4040 - mae: 9.4040\n",
      "Epoch 6/100\n",
      "1/1 [==============================] - 0s 3ms/step - loss: 8.6532 - mae: 8.6532\n",
      "Epoch 7/100\n",
      "1/1 [==============================] - 0s 1ms/step - loss: 7.8904 - mae: 7.8904\n",
      "Epoch 8/100\n",
      "1/1 [==============================] - 0s 2ms/step - loss: 7.1120 - mae: 7.1120\n",
      "Epoch 9/100\n",
      "1/1 [==============================] - 0s 1ms/step - loss: 6.8174 - mae: 6.8174\n",
      "Epoch 10/100\n",
      "1/1 [==============================] - 0s 2ms/step - loss: 7.1412 - mae: 7.1412\n",
      "Epoch 11/100\n",
      "1/1 [==============================] - 0s 3ms/step - loss: 7.4160 - mae: 7.4160\n",
      "Epoch 12/100\n",
      "1/1 [==============================] - 0s 2ms/step - loss: 7.7229 - mae: 7.7229\n",
      "Epoch 13/100\n",
      "1/1 [==============================] - 0s 1ms/step - loss: 7.7818 - mae: 7.7818\n",
      "Epoch 14/100\n",
      "1/1 [==============================] - 0s 2ms/step - loss: 7.6395 - mae: 7.6395\n",
      "Epoch 15/100\n",
      "1/1 [==============================] - 0s 1ms/step - loss: 7.3493 - mae: 7.3493\n",
      "Epoch 16/100\n",
      "1/1 [==============================] - 0s 2ms/step - loss: 7.0024 - mae: 7.0024\n",
      "Epoch 17/100\n",
      "1/1 [==============================] - 0s 2ms/step - loss: 6.7269 - mae: 6.7269\n",
      "Epoch 18/100\n",
      "1/1 [==============================] - 0s 4ms/step - loss: 6.4364 - mae: 6.4364\n",
      "Epoch 19/100\n",
      "1/1 [==============================] - 0s 1000us/step - loss: 6.1431 - mae: 6.1431\n",
      "Epoch 20/100\n",
      "1/1 [==============================] - 0s 2ms/step - loss: 6.0919 - mae: 6.0919\n",
      "Epoch 21/100\n",
      "1/1 [==============================] - 0s 997us/step - loss: 6.0366 - mae: 6.0366\n",
      "Epoch 22/100\n",
      "1/1 [==============================] - 0s 2ms/step - loss: 6.1774 - mae: 6.1774\n",
      "Epoch 23/100\n",
      "1/1 [==============================] - 0s 4ms/step - loss: 6.2159 - mae: 6.2159\n",
      "Epoch 24/100\n",
      "1/1 [==============================] - 0s 1ms/step - loss: 6.1539 - mae: 6.1539\n",
      "Epoch 25/100\n",
      "1/1 [==============================] - 0s 2ms/step - loss: 6.0036 - mae: 6.0036\n",
      "Epoch 26/100\n",
      "1/1 [==============================] - 0s 2ms/step - loss: 5.7739 - mae: 5.7739\n",
      "Epoch 27/100\n",
      "1/1 [==============================] - 0s 4ms/step - loss: 5.5313 - mae: 5.5313\n",
      "Epoch 28/100\n",
      "1/1 [==============================] - 0s 2ms/step - loss: 5.4211 - mae: 5.4211\n",
      "Epoch 29/100\n",
      "1/1 [==============================] - 0s 2ms/step - loss: 5.3081 - mae: 5.3081\n",
      "Epoch 30/100\n",
      "1/1 [==============================] - 0s 1ms/step - loss: 5.2965 - mae: 5.2965\n",
      "Epoch 31/100\n",
      "1/1 [==============================] - 0s 2ms/step - loss: 5.2780 - mae: 5.2780\n",
      "Epoch 32/100\n",
      "1/1 [==============================] - 0s 2ms/step - loss: 5.2141 - mae: 5.2141\n",
      "Epoch 33/100\n",
      "1/1 [==============================] - 0s 2ms/step - loss: 5.1082 - mae: 5.1082\n",
      "Epoch 34/100\n",
      "1/1 [==============================] - 0s 2ms/step - loss: 4.9639 - mae: 4.9639\n",
      "Epoch 35/100\n",
      "1/1 [==============================] - 0s 2ms/step - loss: 4.7844 - mae: 4.7844\n",
      "Epoch 36/100\n",
      "1/1 [==============================] - 0s 997us/step - loss: 4.5777 - mae: 4.5777\n",
      "Epoch 37/100\n",
      "1/1 [==============================] - 0s 2ms/step - loss: 4.4758 - mae: 4.4758\n",
      "Epoch 38/100\n",
      "1/1 [==============================] - 0s 2ms/step - loss: 4.3666 - mae: 4.3666\n",
      "Epoch 39/100\n",
      "1/1 [==============================] - 0s 2ms/step - loss: 4.2498 - mae: 4.2498\n",
      "Epoch 40/100\n",
      "1/1 [==============================] - 0s 4ms/step - loss: 4.1323 - mae: 4.1323\n",
      "Epoch 41/100\n",
      "1/1 [==============================] - 0s 999us/step - loss: 3.9836 - mae: 3.9836\n",
      "Epoch 42/100\n",
      "1/1 [==============================] - 0s 999us/step - loss: 3.8347 - mae: 3.8347\n",
      "Epoch 43/100\n",
      "1/1 [==============================] - 0s 2ms/step - loss: 3.6784 - mae: 3.6784\n",
      "Epoch 44/100\n",
      "1/1 [==============================] - 0s 3ms/step - loss: 3.5146 - mae: 3.5146\n",
      "Epoch 45/100\n",
      "1/1 [==============================] - 0s 3ms/step - loss: 3.3429 - mae: 3.3429\n",
      "Epoch 46/100\n",
      "1/1 [==============================] - 0s 999us/step - loss: 3.1692 - mae: 3.1692\n",
      "Epoch 47/100\n",
      "1/1 [==============================] - 0s 2ms/step - loss: 2.9985 - mae: 2.9985\n",
      "Epoch 48/100\n",
      "1/1 [==============================] - 0s 2ms/step - loss: 2.8128 - mae: 2.8128\n",
      "Epoch 49/100\n",
      "1/1 [==============================] - 0s 1ms/step - loss: 2.6285 - mae: 2.6285\n",
      "Epoch 50/100\n",
      "1/1 [==============================] - 0s 2ms/step - loss: 2.4338 - mae: 2.4338\n",
      "Epoch 51/100\n",
      "1/1 [==============================] - 0s 2ms/step - loss: 2.2285 - mae: 2.2285\n",
      "Epoch 52/100\n",
      "1/1 [==============================] - 0s 4ms/step - loss: 2.0123 - mae: 2.0123\n",
      "Epoch 53/100\n",
      "1/1 [==============================] - 0s 3ms/step - loss: 1.7852 - mae: 1.7852\n",
      "Epoch 54/100\n",
      "1/1 [==============================] - 0s 999us/step - loss: 1.5469 - mae: 1.5469\n",
      "Epoch 55/100\n",
      "1/1 [==============================] - 0s 3ms/step - loss: 1.2972 - mae: 1.2972\n",
      "Epoch 56/100\n",
      "1/1 [==============================] - 0s 1ms/step - loss: 1.0368 - mae: 1.0368\n",
      "Epoch 57/100\n",
      "1/1 [==============================] - 0s 999us/step - loss: 0.7763 - mae: 0.7763\n",
      "Epoch 58/100\n",
      "1/1 [==============================] - 0s 2ms/step - loss: 0.5451 - mae: 0.5451\n",
      "Epoch 59/100\n",
      "1/1 [==============================] - 0s 5ms/step - loss: 0.2720 - mae: 0.2720\n",
      "Epoch 60/100\n",
      "1/1 [==============================] - 0s 1ms/step - loss: 0.0768 - mae: 0.0768\n",
      "Epoch 61/100\n",
      "1/1 [==============================] - 0s 2ms/step - loss: 0.3693 - mae: 0.3693\n",
      "Epoch 62/100\n",
      "1/1 [==============================] - 0s 1ms/step - loss: 0.4941 - mae: 0.4941\n",
      "Epoch 63/100\n",
      "1/1 [==============================] - 0s 2ms/step - loss: 0.5882 - mae: 0.5882\n",
      "Epoch 64/100\n",
      "1/1 [==============================] - 0s 996us/step - loss: 0.7020 - mae: 0.7020\n",
      "Epoch 65/100\n",
      "1/1 [==============================] - 0s 2ms/step - loss: 0.6968 - mae: 0.6968\n",
      "Epoch 66/100\n",
      "1/1 [==============================] - 0s 2ms/step - loss: 0.7073 - mae: 0.7073\n",
      "Epoch 67/100\n",
      "1/1 [==============================] - 0s 998us/step - loss: 0.6074 - mae: 0.6074\n",
      "Epoch 68/100\n",
      "1/1 [==============================] - 0s 1ms/step - loss: 0.5281 - mae: 0.5281\n",
      "Epoch 69/100\n",
      "1/1 [==============================] - 0s 1ms/step - loss: 0.4097 - mae: 0.4097\n",
      "Epoch 70/100\n",
      "1/1 [==============================] - 0s 1000us/step - loss: 0.2869 - mae: 0.2869\n",
      "Epoch 71/100\n",
      "1/1 [==============================] - 0s 4ms/step - loss: 0.2769 - mae: 0.2769\n",
      "Epoch 72/100\n",
      "1/1 [==============================] - 0s 2ms/step - loss: 0.0608 - mae: 0.0608\n",
      "Epoch 73/100\n",
      "1/1 [==============================] - 0s 2ms/step - loss: 0.4015 - mae: 0.4015\n",
      "Epoch 74/100\n",
      "1/1 [==============================] - 0s 2ms/step - loss: 0.4353 - mae: 0.4353\n",
      "Epoch 75/100\n",
      "1/1 [==============================] - 0s 1000us/step - loss: 0.2603 - mae: 0.2603\n",
      "Epoch 76/100\n",
      "1/1 [==============================] - 0s 2ms/step - loss: 0.3222 - mae: 0.3222\n",
      "Epoch 77/100\n",
      "1/1 [==============================] - 0s 2ms/step - loss: 0.2612 - mae: 0.2612\n",
      "Epoch 78/100\n",
      "1/1 [==============================] - 0s 1000us/step - loss: 0.2212 - mae: 0.2212\n",
      "Epoch 79/100\n",
      "1/1 [==============================] - 0s 3ms/step - loss: 0.1594 - mae: 0.1594\n",
      "Epoch 80/100\n",
      "1/1 [==============================] - 0s 998us/step - loss: 0.0904 - mae: 0.0904\n",
      "Epoch 81/100\n",
      "1/1 [==============================] - 0s 2ms/step - loss: 0.1716 - mae: 0.1716\n",
      "Epoch 82/100\n",
      "1/1 [==============================] - 0s 1ms/step - loss: 0.1388 - mae: 0.1388\n",
      "Epoch 83/100\n",
      "1/1 [==============================] - 0s 1ms/step - loss: 0.2165 - mae: 0.2165\n",
      "Epoch 84/100\n",
      "1/1 [==============================] - 0s 2ms/step - loss: 0.1966 - mae: 0.1966\n",
      "Epoch 85/100\n",
      "1/1 [==============================] - 0s 2ms/step - loss: 0.1677 - mae: 0.1677\n",
      "Epoch 86/100\n",
      "1/1 [==============================] - 0s 1000us/step - loss: 0.1395 - mae: 0.1395\n",
      "Epoch 87/100\n",
      "1/1 [==============================] - 0s 999us/step - loss: 0.0454 - mae: 0.0454\n",
      "Epoch 88/100\n"
     ]
    },
    {
     "name": "stdout",
     "output_type": "stream",
     "text": [
      "1/1 [==============================] - 0s 2ms/step - loss: 0.1130 - mae: 0.1130\n",
      "Epoch 89/100\n",
      "1/1 [==============================] - 0s 1ms/step - loss: 0.1426 - mae: 0.1426\n",
      "Epoch 90/100\n",
      "1/1 [==============================] - 0s 2ms/step - loss: 0.1916 - mae: 0.1916\n",
      "Epoch 91/100\n",
      "1/1 [==============================] - 0s 7ms/step - loss: 0.1534 - mae: 0.1534\n",
      "Epoch 92/100\n",
      "1/1 [==============================] - 0s 3ms/step - loss: 0.1144 - mae: 0.1144\n",
      "Epoch 93/100\n",
      "1/1 [==============================] - 0s 2ms/step - loss: 0.0577 - mae: 0.0577\n",
      "Epoch 94/100\n",
      "1/1 [==============================] - 0s 2ms/step - loss: 0.1123 - mae: 0.1123\n",
      "Epoch 95/100\n",
      "1/1 [==============================] - 0s 999us/step - loss: 0.1674 - mae: 0.1674\n",
      "Epoch 96/100\n",
      "1/1 [==============================] - 0s 2ms/step - loss: 0.1911 - mae: 0.1911\n",
      "Epoch 97/100\n",
      "1/1 [==============================] - 0s 1000us/step - loss: 0.1582 - mae: 0.1582\n",
      "Epoch 98/100\n",
      "1/1 [==============================] - 0s 2ms/step - loss: 0.1128 - mae: 0.1128\n",
      "Epoch 99/100\n",
      "1/1 [==============================] - 0s 2ms/step - loss: 0.1844 - mae: 0.1844\n",
      "Epoch 100/100\n",
      "1/1 [==============================] - 0s 2ms/step - loss: 0.0933 - mae: 0.0933\n"
     ]
    },
    {
     "data": {
      "text/plain": [
       "<tensorflow.python.keras.callbacks.History at 0x1eb07d89e20>"
      ]
     },
     "execution_count": 21,
     "metadata": {},
     "output_type": "execute_result"
    }
   ],
   "source": [
    "# Create a model\n",
    "model = tf.keras.Sequential([\n",
    "    tf.keras.layers.Dense(50),\n",
    "    tf.keras.layers.Dense(1)\n",
    "])\n",
    "\n",
    "model.compile(loss = \"mae\",\n",
    "              optimizer = tf.keras.optimizers.Adam(lr=0.01),\n",
    "              metrics=[\"mae\"]\n",
    "              )\n",
    "\n",
    "model.fit(X, y, epochs=100)"
   ]
  },
  {
   "cell_type": "code",
   "execution_count": 22,
   "id": "2930d36c",
   "metadata": {
    "collapsed": true
   },
   "outputs": [
    {
     "name": "stdout",
     "output_type": "stream",
     "text": [
      "WARNING:tensorflow:5 out of the last 6 calls to <function Model.make_predict_function.<locals>.predict_function at 0x000001EB0801D280> triggered tf.function retracing. Tracing is expensive and the excessive number of tracings could be due to (1) creating @tf.function repeatedly in a loop, (2) passing tensors with different shapes, (3) passing Python objects instead of tensors. For (1), please define your @tf.function outside of the loop. For (2), @tf.function has experimental_relax_shapes=True option that relaxes argument shapes that can avoid unnecessary retracing. For (3), please refer to https://www.tensorflow.org/tutorials/customization/performance#python_or_tensor_args and https://www.tensorflow.org/api_docs/python/tf/function for  more details.\n"
     ]
    },
    {
     "data": {
      "text/plain": [
       "array([[26.209171]], dtype=float32)"
      ]
     },
     "execution_count": 22,
     "metadata": {},
     "output_type": "execute_result"
    }
   ],
   "source": [
    "model.predict([17.0])"
   ]
  },
  {
   "cell_type": "code",
   "execution_count": 23,
   "id": "4ce03e54",
   "metadata": {
    "scrolled": true
   },
   "outputs": [
    {
     "data": {
      "text/plain": [
       "array([[63.611385]], dtype=float32)"
      ]
     },
     "execution_count": 23,
     "metadata": {},
     "output_type": "execute_result"
    }
   ],
   "source": [
    "model.predict([56.0])"
   ]
  },
  {
   "cell_type": "markdown",
   "id": "724ae6f9",
   "metadata": {},
   "source": [
    "## Evaluating a model \n",
    "\n",
    "A typical workflow you'll go through when building neural networks is:\n",
    "\n",
    "```\n",
    "Build a model -> evaluate it -> build (tweak) a model -> evaulate it -> build (tweak) a model -> evaluate it...\n",
    "```\n",
    "\n",
    "The tweaking comes from maybe not building a model from scratch but adjusting an existing one.\n",
    "\n",
    "### Visualize, visualize, visualize\n",
    "\n",
    "When it comes to evaluation, you'll want to remember the words: \"visualize, visualize, visualize.\" \n",
    "\n",
    "This is because you're probably better looking at something (doing) than you are thinking about something.\n",
    "\n",
    "It's a good idea to visualize:\n",
    "* **The data** - what data are you working with? What does it look like?\n",
    "* **The model itself** - what does the architecture look like? What are the different shapes?\n",
    "* **The training of a model** - how does a model perform while it learns?\n",
    "* **The predictions of a model** - how do the predictions of a model line up against the ground truth (the original labels)?\n",
    "\n",
    "Let's start by visualizing the model.\n",
    "\n",
    "But first, we'll create a little bit of a bigger dataset and a new model we can use (it'll be the same as before, but the more practice the better).\n"
   ]
  },
  {
   "cell_type": "code",
   "execution_count": 24,
   "id": "c54e3c35",
   "metadata": {
    "scrolled": true
   },
   "outputs": [
    {
     "data": {
      "text/plain": [
       "array([-100,  -96,  -92,  -88,  -84,  -80,  -76,  -72,  -68,  -64,  -60,\n",
       "        -56,  -52,  -48,  -44,  -40,  -36,  -32,  -28,  -24,  -20,  -16,\n",
       "        -12,   -8,   -4,    0,    4,    8,   12,   16,   20,   24,   28,\n",
       "         32,   36,   40,   44,   48,   52,   56,   60,   64,   68,   72,\n",
       "         76,   80,   84,   88,   92,   96])"
      ]
     },
     "execution_count": 24,
     "metadata": {},
     "output_type": "execute_result"
    }
   ],
   "source": [
    "# Make a bigger dataset\n",
    "X = np.arange(-100, 100, 4)\n",
    "X"
   ]
  },
  {
   "cell_type": "code",
   "execution_count": 25,
   "id": "7e396f97",
   "metadata": {
    "scrolled": true
   },
   "outputs": [
    {
     "data": {
      "text/plain": [
       "array([-90, -86, -82, -78, -74, -70, -66, -62, -58, -54, -50, -46, -42,\n",
       "       -38, -34, -30, -26, -22, -18, -14, -10,  -6,  -2,   2,   6,  10,\n",
       "        14,  18,  22,  26,  30,  34,  38,  42,  46,  50,  54,  58,  62,\n",
       "        66,  70,  74,  78,  82,  86,  90,  94,  98, 102, 106])"
      ]
     },
     "execution_count": 25,
     "metadata": {},
     "output_type": "execute_result"
    }
   ],
   "source": [
    "# Make labels for data set\n",
    "y = X+10\n",
    "y"
   ]
  },
  {
   "cell_type": "code",
   "execution_count": 26,
   "id": "bc5a47fc",
   "metadata": {
    "scrolled": true
   },
   "outputs": [
    {
     "data": {
      "text/plain": [
       "<matplotlib.collections.PathCollection at 0x1eb080ce430>"
      ]
     },
     "execution_count": 26,
     "metadata": {},
     "output_type": "execute_result"
    },
    {
     "data": {
      "image/png": "[encoded data removed]",
      "text/plain": [
       "<Figure size 432x288 with 1 Axes>"
      ]
     },
     "metadata": {
      "needs_background": "light"
     },
     "output_type": "display_data"
    }
   ],
   "source": [
    "# Visualize the data\n",
    "plt.scatter(X, y)"
   ]
  },
  {
   "cell_type": "markdown",
   "id": "9d2aed36",
   "metadata": {},
   "source": [
    "## Split data into training/test set\n",
    "\n",
    "One of the other most common and important steps in a machine learning project is creating a training and test set (and when required, a validation set).\n",
    "\n",
    "Each set serves a specific purpose:\n",
    "* **Training set** - the model learns from this data, which is typically 70-80% of the total data available (like the course materials you study during the semester).\n",
    "* **Validation set** - the model gets tuned on this data, which is typically 10-15% of the total data available (like the practice exam you take before the final exam).\n",
    "* **Test set** - the model gets evaluated on this data to test what it has learned, it's typically 10-15% of the total data available (like the final exam you take at the end of the semester).\n",
    "\n",
    "For now, we'll just use a training and test set, this means we'll have a dataset for our model to learn on as well as be evaluated on.\n",
    "\n",
    "We can create them by splitting our `X` and `y` arrays.\n",
    "\n",
    "> 🔑 **Note:** When dealing with real-world data, this step is typically done right at the start of a project (the test set should always be kept separate from all other data). We want our model to learn on training data and then evaluate it on test data to get an indication of how well it **generalizes** to unseen examples."
   ]
  },
  {
   "cell_type": "code",
   "execution_count": 27,
   "id": "8c72d8a1",
   "metadata": {
    "scrolled": true
   },
   "outputs": [
    {
     "data": {
      "text/plain": [
       "(40, 10)"
      ]
     },
     "execution_count": 27,
     "metadata": {},
     "output_type": "execute_result"
    }
   ],
   "source": [
    "# from sklearn.model_selection import train_test_split\n",
    "\n",
    "# X_train, X_test, y_train, y_test = train_test_split(X, y, test_size=0.2)\n",
    "\n",
    "# X_train.shape, X_test.shape, y_train.shape, y_test.shape\n",
    "\n",
    "# Split data into train and test sets\n",
    "X_train = X[:40] # first 40 examples (80% of data)\n",
    "y_train = y[:40]\n",
    "\n",
    "X_test = X[40:] # last 10 examples (20% of data)\n",
    "y_test = y[40:]\n",
    "\n",
    "len(X_train), len(X_test)"
   ]
  },
  {
   "cell_type": "code",
   "execution_count": 28,
   "id": "8a0e3b06",
   "metadata": {
    "scrolled": true
   },
   "outputs": [
    {
     "data": {
      "text/plain": [
       "array([60, 64, 68, 72, 76, 80, 84, 88, 92, 96])"
      ]
     },
     "execution_count": 28,
     "metadata": {},
     "output_type": "execute_result"
    }
   ],
   "source": [
    "X_test"
   ]
  },
  {
   "cell_type": "markdown",
   "id": "bdaec20a",
   "metadata": {},
   "source": [
    "## Visualizing the data\n",
    "\n",
    "Now we've got our training and test data, it's a good idea to visualize it.\n",
    "\n",
    "Let's plot it with some nice colours to differentiate what's what."
   ]
  },
  {
   "cell_type": "code",
   "execution_count": 29,
   "id": "f26cc1e4",
   "metadata": {
    "scrolled": true
   },
   "outputs": [
    {
     "data": {
      "image/png": "[encoded data removed]",
      "text/plain": [
       "<Figure size 720x504 with 1 Axes>"
      ]
     },
     "metadata": {
      "needs_background": "light"
     },
     "output_type": "display_data"
    }
   ],
   "source": [
    "plt.figure(figsize=(10,7))\n",
    "\n",
    "# Training Data\n",
    "plt.scatter(X_train, y_train, c='b', label='Training Data')\n",
    "\n",
    "# Test data\n",
    "plt.scatter(X_test, y_test, c='g', label='Testing Data')\n",
    "\n",
    "plt.legend();"
   ]
  },
  {
   "cell_type": "markdown",
   "id": "a7dcfa8e",
   "metadata": {},
   "source": [
    "Beautiful! Any time you can visualize your data, your model, your anything, it's a good idea. \n",
    "\n",
    "With this graph in mind, what we'll be trying to do is build a model which learns the pattern in the blue dots (`X_train`) to draw the green dots (`X_test`).\n",
    "\n",
    "Time to build a model. We'll make the exact same one from before (the one we trained for longer)."
   ]
  },
  {
   "cell_type": "code",
   "execution_count": 30,
   "id": "dec79d68",
   "metadata": {
    "scrolled": true
   },
   "outputs": [],
   "source": [
    "model = tf.keras.Sequential([\n",
    "    \n",
    "    tf.keras.layers.Dense(50),\n",
    "    tf.keras.layers.Dense(25),\n",
    "    tf.keras.layers.Dense(8),\n",
    "    tf.keras.layers.Dense(4),\n",
    "    tf.keras.layers.Dense(2),\n",
    "    tf.keras.layers.Dense(1)\n",
    "])\n",
    "\n",
    "# Compile a model\n",
    "model.compile(loss = tf.keras.losses.mae,\n",
    "              optimizer = tf.keras.optimizers.SGD(),\n",
    "              metrics=[\"mae\"])\n",
    "\n",
    "# Fit\n",
    "# model.fit(X, y, epochs=100)"
   ]
  },
  {
   "cell_type": "markdown",
   "id": "c8f11506",
   "metadata": {},
   "source": [
    "## Visualizing the model\n",
    "\n",
    "After you've built a model, you might want to take a look at it (especially if you haven't built many before).\n",
    "\n",
    "You can take a look at the layers and shapes of your model by calling [`summary()`](https://www.tensorflow.org/api_docs/python/tf/keras/Model#summary) on it.\n",
    "\n",
    "> 🔑 **Note:** Visualizing a model is particularly helpful when you run into input and output shape mismatches."
   ]
  },
  {
   "cell_type": "code",
   "execution_count": 31,
   "id": "e266735b",
   "metadata": {
    "scrolled": true
   },
   "outputs": [
    {
     "ename": "ValueError",
     "evalue": "This model has not yet been built. Build the model first by calling `build()` or calling `fit()` with some data, or specify an `input_shape` argument in the first layer(s) for automatic build.",
     "output_type": "error",
     "traceback": [
      "\u001b[1;31m---------------------------------------------------------------------------\u001b[0m",
      "\u001b[1;31mValueError\u001b[0m                                Traceback (most recent call last)",
      "\u001b[1;32m<ipython-input-31-7d09d31d4e66>\u001b[0m in \u001b[0;36m<module>\u001b[1;34m\u001b[0m\n\u001b[0;32m      1\u001b[0m \u001b[1;31m# Doesn't work (model not fit/built)\u001b[0m\u001b[1;33m\u001b[0m\u001b[1;33m\u001b[0m\u001b[1;33m\u001b[0m\u001b[0m\n\u001b[1;32m----> 2\u001b[1;33m \u001b[0mmodel\u001b[0m\u001b[1;33m.\u001b[0m\u001b[0msummary\u001b[0m\u001b[1;33m(\u001b[0m\u001b[1;33m)\u001b[0m\u001b[1;33m\u001b[0m\u001b[1;33m\u001b[0m\u001b[0m\n\u001b[0m",
      "\u001b[1;32mE:\\Anaconda3\\lib\\site-packages\\tensorflow\\python\\keras\\engine\\training.py\u001b[0m in \u001b[0;36msummary\u001b[1;34m(self, line_length, positions, print_fn)\u001b[0m\n\u001b[0;32m   2349\u001b[0m     \"\"\"\n\u001b[0;32m   2350\u001b[0m     \u001b[1;32mif\u001b[0m \u001b[1;32mnot\u001b[0m \u001b[0mself\u001b[0m\u001b[1;33m.\u001b[0m\u001b[0mbuilt\u001b[0m\u001b[1;33m:\u001b[0m\u001b[1;33m\u001b[0m\u001b[1;33m\u001b[0m\u001b[0m\n\u001b[1;32m-> 2351\u001b[1;33m       raise ValueError('This model has not yet been built. '\n\u001b[0m\u001b[0;32m   2352\u001b[0m                        \u001b[1;34m'Build the model first by calling `build()` or calling '\u001b[0m\u001b[1;33m\u001b[0m\u001b[1;33m\u001b[0m\u001b[0m\n\u001b[0;32m   2353\u001b[0m                        \u001b[1;34m'`fit()` with some data, or specify '\u001b[0m\u001b[1;33m\u001b[0m\u001b[1;33m\u001b[0m\u001b[0m\n",
      "\u001b[1;31mValueError\u001b[0m: This model has not yet been built. Build the model first by calling `build()` or calling `fit()` with some data, or specify an `input_shape` argument in the first layer(s) for automatic build."
     ]
    }
   ],
   "source": [
    "# Doesn't work (model not fit/built)\n",
    "model.summary()"
   ]
  },
  {
   "cell_type": "markdown",
   "id": "de2aa4ca",
   "metadata": {},
   "source": [
    "Ahh, the cell above errors because we haven't fit our built our model.\n",
    "\n",
    "We also haven't told it what input shape it should be expecting.\n",
    "\n",
    "Remember above, how we discussed the input shape was just one number?\n",
    "\n",
    "We can let our model know the input shape of our data using the `input_shape` parameter to the first layer (usually if `input_shape` isn't defined, Keras tries to figure it out automatically)."
   ]
  },
  {
   "cell_type": "code",
   "execution_count": 32,
   "id": "9c6f0308",
   "metadata": {
    "scrolled": true
   },
   "outputs": [],
   "source": [
    "model = tf.keras.Sequential([\n",
    "    \n",
    "    tf.keras.layers.Dense(10, input_shape=[1]),\n",
    "    tf.keras.layers.Dense(1)\n",
    "   \n",
    "])\n",
    "\n",
    "# Compile a model\n",
    "model.compile(loss = tf.keras.losses.mae,\n",
    "              optimizer = tf.keras.optimizers.SGD(),\n",
    "              metrics=[\"mae\"])\n",
    "\n",
    "# Fit\n",
    "# model.fit(X, y, epochs=100)"
   ]
  },
  {
   "cell_type": "code",
   "execution_count": 33,
   "id": "6f5c4366",
   "metadata": {
    "scrolled": true
   },
   "outputs": [
    {
     "name": "stdout",
     "output_type": "stream",
     "text": [
      "Model: \"sequential_6\"\n",
      "_________________________________________________________________\n",
      "Layer (type)                 Output Shape              Param #   \n",
      "=================================================================\n",
      "dense_18 (Dense)             (None, 10)                20        \n",
      "_________________________________________________________________\n",
      "dense_19 (Dense)             (None, 1)                 11        \n",
      "=================================================================\n",
      "Total params: 31\n",
      "Trainable params: 31\n",
      "Non-trainable params: 0\n",
      "_________________________________________________________________\n"
     ]
    }
   ],
   "source": [
    "model.summary()"
   ]
  },
  {
   "cell_type": "markdown",
   "id": "5599a2be",
   "metadata": {},
   "source": [
    "Calling `summary()` on our model shows us the layers it contains, the output shape and the number of parameters.\n",
    "* **Total params** - total number of parameters in the model.\n",
    "* **Trainable parameters** - these are the parameters (patterns) the model can update as it trains.\n",
    "* **Non-trainable parameters** - these parameters aren't updated during training (this is typical when you bring in the already learned patterns from other models during transfer learning).\n",
    "\n",
    "> 📖 **Resource:** For a more in-depth overview of the trainable parameters within a layer, check out [MIT's introduction to deep learning video](https://youtu.be/njKP3FqW3Sk).\n",
    "\n",
    "> 🛠 **Exercise:** Try playing around with the number of hidden units in the `Dense` layer (e.g. `Dense(2)`, `Dense(3)`). How does this change the Total/Trainable params? Investigate what's causing the change.\n",
    "\n",
    "For now, all you need to think about these parameters is that their learnable patterns in the data.\n",
    "\n",
    "Let's fit our model to the training data."
   ]
  },
  {
   "cell_type": "code",
   "execution_count": 34,
   "id": "53013bab",
   "metadata": {
    "scrolled": true
   },
   "outputs": [
    {
     "data": {
      "text/plain": [
       "<tensorflow.python.keras.callbacks.History at 0x1eb06489940>"
      ]
     },
     "execution_count": 34,
     "metadata": {},
     "output_type": "execute_result"
    }
   ],
   "source": [
    "# Fit the model to the training data\n",
    "model.fit(X_train, y_train, epochs=100, verbose=0) # verbose controls how much gets output"
   ]
  },
  {
   "cell_type": "code",
   "execution_count": 35,
   "id": "3530576b",
   "metadata": {
    "scrolled": true
   },
   "outputs": [
    {
     "name": "stdout",
     "output_type": "stream",
     "text": [
      "Model: \"sequential_6\"\n",
      "_________________________________________________________________\n",
      "Layer (type)                 Output Shape              Param #   \n",
      "=================================================================\n",
      "dense_18 (Dense)             (None, 10)                20        \n",
      "_________________________________________________________________\n",
      "dense_19 (Dense)             (None, 1)                 11        \n",
      "=================================================================\n",
      "Total params: 31\n",
      "Trainable params: 31\n",
      "Non-trainable params: 0\n",
      "_________________________________________________________________\n"
     ]
    }
   ],
   "source": [
    "# Check the model summary\n",
    "model.summary()"
   ]
  },
  {
   "cell_type": "markdown",
   "id": "bb6e7513",
   "metadata": {},
   "source": [
    "Alongside summary, you can also view a 2D plot of the model using [`plot_model()`](https://www.tensorflow.org/api_docs/python/tf/keras/utils/plot_model)."
   ]
  },
  {
   "cell_type": "code",
   "execution_count": 36,
   "id": "5278f8ce",
   "metadata": {
    "scrolled": true
   },
   "outputs": [],
   "source": [
    "# ! pip install GraphViz"
   ]
  },
  {
   "cell_type": "code",
   "execution_count": 37,
   "id": "d2349f57",
   "metadata": {
    "scrolled": true
   },
   "outputs": [],
   "source": [
    "# ! pip install pydot"
   ]
  },
  {
   "cell_type": "code",
   "execution_count": 38,
   "id": "42caa706",
   "metadata": {
    "scrolled": true
   },
   "outputs": [
    {
     "name": "stdout",
     "output_type": "stream",
     "text": [
      "('Failed to import pydot. You must `pip install pydot` and install graphviz (https://graphviz.gitlab.io/download/), ', 'for `pydotprint` to work.')\n"
     ]
    }
   ],
   "source": [
    "from tensorflow.keras.utils import plot_model\n",
    "\n",
    "plot_model(model, show_shapes=True)"
   ]
  },
  {
   "cell_type": "markdown",
   "id": "22636a06",
   "metadata": {},
   "source": [
    " ## Visualizing the predictions\n",
    "\n",
    "Now we've got a trained model, let's visualize some predictions.\n",
    "\n",
    "To visualize predictions, it's always a good idea to plot them against the ground truth labels.\n",
    "\n",
    "Often you'll see this in the form of `y_test` vs. `y_pred` (ground truth vs. predictions).\n",
    "\n",
    "First, we'll make some predictions on the test data (`X_test`), remember the model has never seen the test data."
   ]
  },
  {
   "cell_type": "code",
   "execution_count": 39,
   "id": "d8c4fb6f",
   "metadata": {
    "scrolled": true
   },
   "outputs": [
    {
     "name": "stdout",
     "output_type": "stream",
     "text": [
      "WARNING:tensorflow:6 out of the last 8 calls to <function Model.make_predict_function.<locals>.predict_function at 0x000001EB082D7040> triggered tf.function retracing. Tracing is expensive and the excessive number of tracings could be due to (1) creating @tf.function repeatedly in a loop, (2) passing tensors with different shapes, (3) passing Python objects instead of tensors. For (1), please define your @tf.function outside of the loop. For (2), @tf.function has experimental_relax_shapes=True option that relaxes argument shapes that can avoid unnecessary retracing. For (3), please refer to https://www.tensorflow.org/tutorials/customization/performance#python_or_tensor_args and https://www.tensorflow.org/api_docs/python/tf/function for  more details.\n"
     ]
    },
    {
     "data": {
      "text/plain": [
       "array([[29.23156]], dtype=float32)"
      ]
     },
     "execution_count": 39,
     "metadata": {},
     "output_type": "execute_result"
    }
   ],
   "source": [
    "model.predict([24.0])"
   ]
  },
  {
   "cell_type": "code",
   "execution_count": 40,
   "id": "01027804",
   "metadata": {
    "scrolled": true
   },
   "outputs": [
    {
     "name": "stdout",
     "output_type": "stream",
     "text": [
      "WARNING:tensorflow:7 out of the last 9 calls to <function Model.make_predict_function.<locals>.predict_function at 0x000001EB082D7040> triggered tf.function retracing. Tracing is expensive and the excessive number of tracings could be due to (1) creating @tf.function repeatedly in a loop, (2) passing tensors with different shapes, (3) passing Python objects instead of tensors. For (1), please define your @tf.function outside of the loop. For (2), @tf.function has experimental_relax_shapes=True option that relaxes argument shapes that can avoid unnecessary retracing. For (3), please refer to https://www.tensorflow.org/tutorials/customization/performance#python_or_tensor_args and https://www.tensorflow.org/api_docs/python/tf/function for  more details.\n"
     ]
    }
   ],
   "source": [
    "# Make predictions\n",
    "y_preds = model.predict(X_test)"
   ]
  },
  {
   "cell_type": "code",
   "execution_count": 41,
   "id": "ae5c3449",
   "metadata": {
    "scrolled": true
   },
   "outputs": [
    {
     "data": {
      "text/plain": [
       "array([[ 70.46816 ],\n",
       "       [ 75.05001 ],\n",
       "       [ 79.63185 ],\n",
       "       [ 84.2137  ],\n",
       "       [ 88.79554 ],\n",
       "       [ 93.377396],\n",
       "       [ 97.959236],\n",
       "       [102.541084],\n",
       "       [107.12293 ],\n",
       "       [111.704765]], dtype=float32)"
      ]
     },
     "execution_count": 41,
     "metadata": {},
     "output_type": "execute_result"
    }
   ],
   "source": [
    "# View the predictions\n",
    "y_preds"
   ]
  },
  {
   "cell_type": "code",
   "execution_count": 42,
   "id": "8a607374",
   "metadata": {
    "scrolled": true
   },
   "outputs": [
    {
     "data": {
      "text/plain": [
       "array([ 70,  74,  78,  82,  86,  90,  94,  98, 102, 106])"
      ]
     },
     "execution_count": 42,
     "metadata": {},
     "output_type": "execute_result"
    }
   ],
   "source": [
    "y_test"
   ]
  },
  {
   "cell_type": "code",
   "execution_count": 43,
   "id": "ec210325",
   "metadata": {
    "id": "56euC69rZvNJ",
    "scrolled": true
   },
   "outputs": [],
   "source": [
    "def plot_predictions(train_data=X_train, \n",
    "                     train_labels=y_train, \n",
    "                     test_data=X_test, \n",
    "                     test_labels=y_test, \n",
    "                     predictions=y_preds):\n",
    "    \"\"\"\n",
    "    Plots training data, test data and compares predictions.\n",
    "    \"\"\"\n",
    "    plt.figure(figsize=(10, 7))\n",
    "    # Plot training data in blue\n",
    "    plt.scatter(train_data, train_labels, c=\"b\", label=\"Training data\")\n",
    "    # Plot test data in green\n",
    "    plt.scatter(test_data, test_labels, c=\"g\", label=\"Testing data\")\n",
    "    # Plot the predictions in red (predictions were made on the test data)\n",
    "    plt.scatter(test_data, predictions, c=\"r\", label=\"Predictions\")\n",
    "    # Show the legend\n",
    "    plt.legend();"
   ]
  },
  {
   "cell_type": "code",
   "execution_count": 44,
   "id": "cceccf2c",
   "metadata": {
    "colab": {
     "base_uri": "https://localhost:8080/",
     "height": 428
    },
    "id": "Fug5_B6Ab7Ah",
    "outputId": "8ab057a0-528a-43ad-cdee-078608c58da4",
    "scrolled": true
   },
   "outputs": [
    {
     "data": {
      "image/png": "[encoded data removed]",
      "text/plain": [
       "<Figure size 720x504 with 1 Axes>"
      ]
     },
     "metadata": {
      "needs_background": "light"
     },
     "output_type": "display_data"
    }
   ],
   "source": [
    "plot_predictions(train_data=X_train,\n",
    "                 train_labels=y_train,\n",
    "                 test_data=X_test,\n",
    "                 test_labels=y_test,\n",
    "                 predictions=y_preds)"
   ]
  },
  {
   "cell_type": "markdown",
   "id": "cc9bd636",
   "metadata": {},
   "source": [
    "## Evaluating predictions\n",
    "\n",
    "Alongisde visualizations, evaulation metrics are your alternative best option for evaluating your model.\n",
    "\n",
    "Depending on the problem you're working on, different models have different evaluation metrics. \n",
    "\n",
    "Two of the main metrics used for regression problems are:\n",
    "* **Mean absolute error (MAE)** - the mean difference between each of the predictions.\n",
    "* **Mean squared error (MSE)** - the squared mean difference between of the predictions (use if larger errors are more detrimental than smaller errors).\n",
    "\n",
    "The lower each of these values, the better.\n",
    "\n",
    "You can also use [`model.evaluate()`](https://www.tensorflow.org/api_docs/python/tf/keras/Model#evaluate) which will return the loss of the model as well as any metrics setup during the compile step."
   ]
  },
  {
   "cell_type": "code",
   "execution_count": 45,
   "id": "7d7520d4",
   "metadata": {
    "scrolled": true
   },
   "outputs": [
    {
     "name": "stdout",
     "output_type": "stream",
     "text": [
      "1/1 [==============================] - 0s 1ms/step - loss: 3.0865 - mae: 3.0865\n"
     ]
    },
    {
     "data": {
      "text/plain": [
       "[3.086468458175659, 3.086468458175659]"
      ]
     },
     "execution_count": 45,
     "metadata": {},
     "output_type": "execute_result"
    }
   ],
   "source": [
    "# Evaluate the model on the test set\n",
    "model.evaluate(X_test, y_test)"
   ]
  },
  {
   "cell_type": "markdown",
   "id": "f9bf853c",
   "metadata": {},
   "source": [
    "In our case, since we used MAE for the loss function as well as MAE for the metrics, `model.evaulate()` returns them both.\n",
    "\n",
    "TensorFlow also has built in functions for MSE and MAE.\n",
    "\n",
    "For many evaluation functions, the premise is the same: compare predictions to the ground truth labels."
   ]
  },
  {
   "cell_type": "code",
   "execution_count": 46,
   "id": "06570f25",
   "metadata": {
    "scrolled": false
   },
   "outputs": [
    {
     "data": {
      "text/plain": [
       "<tf.Tensor: shape=(10,), dtype=float32, numpy=\n",
       "array([17.62547 , 14.169993, 11.747259, 10.35726 , 10.      , 10.675479,\n",
       "       12.383695, 15.232867, 19.122929, 23.70477 ], dtype=float32)>"
      ]
     },
     "execution_count": 46,
     "metadata": {},
     "output_type": "execute_result"
    }
   ],
   "source": [
    "# Calculate the mean absolute error\n",
    "mae = tf.metrics.mean_absolute_error(y_true=y_test, \n",
    "                                     y_pred=y_preds)\n",
    "mae"
   ]
  },
  {
   "cell_type": "markdown",
   "id": "efd7f73d",
   "metadata": {},
   "source": [
    "Huh? That's strange, MAE should be a single output.\n",
    "\n",
    "Instead, we get 10 values.\n",
    "\n",
    "This is because our `y_test` and `y_preds` tensors are different shapes."
   ]
  },
  {
   "cell_type": "code",
   "execution_count": 47,
   "id": "d4e6911c",
   "metadata": {
    "scrolled": true
   },
   "outputs": [
    {
     "data": {
      "text/plain": [
       "array([ 70,  74,  78,  82,  86,  90,  94,  98, 102, 106])"
      ]
     },
     "execution_count": 47,
     "metadata": {},
     "output_type": "execute_result"
    }
   ],
   "source": [
    "# Check the test label tensor values\n",
    "y_test"
   ]
  },
  {
   "cell_type": "code",
   "execution_count": 48,
   "id": "b596b66d",
   "metadata": {
    "scrolled": true
   },
   "outputs": [
    {
     "data": {
      "text/plain": [
       "array([[ 70.46816 ],\n",
       "       [ 75.05001 ],\n",
       "       [ 79.63185 ],\n",
       "       [ 84.2137  ],\n",
       "       [ 88.79554 ],\n",
       "       [ 93.377396],\n",
       "       [ 97.959236],\n",
       "       [102.541084],\n",
       "       [107.12293 ],\n",
       "       [111.704765]], dtype=float32)"
      ]
     },
     "execution_count": 48,
     "metadata": {},
     "output_type": "execute_result"
    }
   ],
   "source": [
    "# Check the predictions tensor values (notice the extra square brackets)\n",
    "y_preds"
   ]
  },
  {
   "cell_type": "code",
   "execution_count": 49,
   "id": "a3167e5a",
   "metadata": {
    "scrolled": true
   },
   "outputs": [
    {
     "data": {
      "text/plain": [
       "((10,), (10, 1))"
      ]
     },
     "execution_count": 49,
     "metadata": {},
     "output_type": "execute_result"
    }
   ],
   "source": [
    "# Check the tensor shapes\n",
    "y_test.shape, y_preds.shape"
   ]
  },
  {
   "cell_type": "markdown",
   "id": "8d88870e",
   "metadata": {},
   "source": [
    "Remember how we discussed dealing with different input and output shapes is one the most common issues you'll come across, this is one of those times.\n",
    "\n",
    "But not to worry.\n",
    "\n",
    "We can fix it using [`squeeze()`](https://www.tensorflow.org/api_docs/python/tf/squeeze), it'll remove the the `1` dimension from our `y_preds` tensor, making it the same shape as `y_test`.\n",
    "\n",
    "> 🔑 **Note:** If you're comparing two tensors, it's important to make sure they're the right shape(s) (you won't always have to manipulate the shapes, but always be on the look out, *many* errors are the result of mismatched tensors, especially mismatched input and output shapes)."
   ]
  },
  {
   "cell_type": "code",
   "execution_count": 50,
   "id": "bc6d2a47",
   "metadata": {
    "scrolled": true
   },
   "outputs": [
    {
     "data": {
      "text/plain": [
       "(10, 1)"
      ]
     },
     "execution_count": 50,
     "metadata": {},
     "output_type": "execute_result"
    }
   ],
   "source": [
    "# shape before squeez\n",
    "y_preds.shape"
   ]
  },
  {
   "cell_type": "code",
   "execution_count": 51,
   "id": "7c612462",
   "metadata": {
    "scrolled": true
   },
   "outputs": [
    {
     "data": {
      "text/plain": [
       "(10,)"
      ]
     },
     "execution_count": 51,
     "metadata": {},
     "output_type": "execute_result"
    }
   ],
   "source": [
    "# Shape after squeeze() (remove dimension)\n",
    "y_preds.squeeze().shape"
   ]
  },
  {
   "cell_type": "code",
   "execution_count": 52,
   "id": "efcf4edb",
   "metadata": {
    "scrolled": true
   },
   "outputs": [
    {
     "data": {
      "text/plain": [
       "<tf.Tensor: shape=(), dtype=float32, numpy=3.0864677>"
      ]
     },
     "execution_count": 52,
     "metadata": {},
     "output_type": "execute_result"
    }
   ],
   "source": [
    "# Calculate MAE\n",
    "mae = tf.metrics.mean_absolute_error(y_true = y_test,\n",
    "                                     y_pred = y_preds.squeeze())\n",
    "mae"
   ]
  },
  {
   "cell_type": "code",
   "execution_count": 53,
   "id": "16aeb7bb",
   "metadata": {
    "scrolled": true
   },
   "outputs": [
    {
     "data": {
      "text/plain": [
       "<tf.Tensor: shape=(), dtype=float32, numpy=12.319273>"
      ]
     },
     "execution_count": 53,
     "metadata": {},
     "output_type": "execute_result"
    }
   ],
   "source": [
    "# Calculate MSE\n",
    "mse = tf.metrics.mean_squared_error(y_true = y_test,\n",
    "                                   y_pred = y_preds.squeeze())\n",
    "mse"
   ]
  },
  {
   "cell_type": "markdown",
   "id": "52d24ebc",
   "metadata": {},
   "source": [
    "huber_loss = tf.keras.huber_loss()"
   ]
  },
  {
   "cell_type": "code",
   "execution_count": 54,
   "id": "091b606a",
   "metadata": {
    "scrolled": true
   },
   "outputs": [
    {
     "data": {
      "text/plain": [
       "<tf.Tensor: shape=(), dtype=float32, numpy=2.6006103>"
      ]
     },
     "execution_count": 54,
     "metadata": {},
     "output_type": "execute_result"
    }
   ],
   "source": [
    "# Calculate Huber loss\n",
    "from tensorflow.keras.losses import Huber\n",
    "\n",
    "h = Huber()\n",
    "h(y_test, tf.squeeze(y_preds))"
   ]
  },
  {
   "cell_type": "markdown",
   "id": "ffeaf8b9",
   "metadata": {},
   "source": [
    "Again, it's a good idea to functionize anything you think you might use over again (or find yourself using over and over again).\n",
    "\n",
    "Let's make functions for our evaluation metrics."
   ]
  },
  {
   "cell_type": "code",
   "execution_count": 55,
   "id": "e4448982",
   "metadata": {
    "scrolled": true
   },
   "outputs": [],
   "source": [
    "# Make a fnctions to reuse MAE and MSE\n",
    "def mae(y_true, y_pred):\n",
    "    \n",
    "    return tf.metrics.mean_absolute_error(y_true, tf.squeeze(y_pred))\n",
    "\n",
    "def mse(y_true, y_pred):\n",
    "    return tf.metrics.mean_squared_error(y_true, tf.squeeze(y_pred))\n",
    "                                         "
   ]
  },
  {
   "cell_type": "markdown",
   "id": "91aea298",
   "metadata": {},
   "source": [
    "## Running experiments to improve a model\n",
    "\n",
    "After seeing the evaluation metrics and the predictions your model makes, it's likely you'll want to improve it.\n",
    "\n",
    "Again, there are many different ways you can do this, but 3 of the main ones are:\n",
    "1. **Get more data** - get more examples for your model to train on (more opportunities to learn patterns).\n",
    "2. **Make your model larger (use a more complex model)** - this might come in the form of more layers or more hidden units in each layer.\n",
    "3. **Train for longer** - give your model more of a chance to find the patterns in the data.\n",
    "\n",
    "Since we created our dataset, we could easily make more data but this isn't always the case when you're working with real-world datasets.\n",
    "\n",
    "So let's take a look at how we can improve our model using 2 and 3.\n",
    "\n",
    "To do so, we'll build 3 models and compare their results:\n",
    "1. `model_1` - same as original model, 1 layer, trained for 100 epochs.\n",
    "2. `model_2` - 2 layers, trained for 100 epochs.\n",
    "3. `model_3` - 2 layers, trained for 500 epochs.\n",
    "\n",
    "**Build `model_1`**"
   ]
  },
  {
   "cell_type": "code",
   "execution_count": 56,
   "id": "86f8eaa2",
   "metadata": {
    "scrolled": false
   },
   "outputs": [
    {
     "name": "stdout",
     "output_type": "stream",
     "text": [
      "Epoch 1/100\n",
      "2/2 [==============================] - 0s 2ms/step - loss: 15.9024 - mae: 15.9024\n",
      "Epoch 2/100\n",
      "2/2 [==============================] - 0s 1ms/step - loss: 11.2837 - mae: 11.2837\n",
      "Epoch 3/100\n",
      "2/2 [==============================] - 0s 4ms/step - loss: 11.1075 - mae: 11.1075\n",
      "Epoch 4/100\n",
      "2/2 [==============================] - 0s 3ms/step - loss: 9.2990 - mae: 9.2990\n",
      "Epoch 5/100\n",
      "2/2 [==============================] - 0s 1ms/step - loss: 10.1677 - mae: 10.1677\n",
      "Epoch 6/100\n",
      "2/2 [==============================] - 0s 2ms/step - loss: 9.4303 - mae: 9.4303\n",
      "Epoch 7/100\n",
      "2/2 [==============================] - 0s 2ms/step - loss: 8.5704 - mae: 8.5704\n",
      "Epoch 8/100\n",
      "2/2 [==============================] - 0s 4ms/step - loss: 9.0442 - mae: 9.0442\n",
      "Epoch 9/100\n",
      "2/2 [==============================] - 0s 2ms/step - loss: 18.7517 - mae: 18.7517\n",
      "Epoch 10/100\n",
      "2/2 [==============================] - 0s 2ms/step - loss: 10.1142 - mae: 10.1142\n",
      "Epoch 11/100\n",
      "2/2 [==============================] - 0s 2ms/step - loss: 8.3980 - mae: 8.3980\n",
      "Epoch 12/100\n",
      "2/2 [==============================] - 0s 1ms/step - loss: 10.6639 - mae: 10.6639\n",
      "Epoch 13/100\n",
      "2/2 [==============================] - 0s 2ms/step - loss: 9.7977 - mae: 9.7977\n",
      "Epoch 14/100\n",
      "2/2 [==============================] - 0s 3ms/step - loss: 16.0103 - mae: 16.0103\n",
      "Epoch 15/100\n",
      "2/2 [==============================] - 0s 1ms/step - loss: 11.4068 - mae: 11.4068\n",
      "Epoch 16/100\n",
      "2/2 [==============================] - 0s 2ms/step - loss: 8.5393 - mae: 8.5393\n",
      "Epoch 17/100\n",
      "2/2 [==============================] - 0s 3ms/step - loss: 13.6348 - mae: 13.6348\n",
      "Epoch 18/100\n",
      "2/2 [==============================] - 0s 1ms/step - loss: 11.4629 - mae: 11.4629\n",
      "Epoch 19/100\n",
      "2/2 [==============================] - 0s 3ms/step - loss: 17.9148 - mae: 17.9148\n",
      "Epoch 20/100\n",
      "2/2 [==============================] - 0s 2ms/step - loss: 15.0494 - mae: 15.0494\n",
      "Epoch 21/100\n",
      "2/2 [==============================] - 0s 1ms/step - loss: 11.0216 - mae: 11.0216\n",
      "Epoch 22/100\n",
      "2/2 [==============================] - 0s 4ms/step - loss: 8.1558 - mae: 8.1558\n",
      "Epoch 23/100\n",
      "2/2 [==============================] - 0s 1ms/step - loss: 9.5138 - mae: 9.5138\n",
      "Epoch 24/100\n",
      "2/2 [==============================] - 0s 3ms/step - loss: 7.6617 - mae: 7.6617\n",
      "Epoch 25/100\n",
      "2/2 [==============================] - 0s 2ms/step - loss: 13.1859 - mae: 13.1859\n",
      "Epoch 26/100\n",
      "2/2 [==============================] - 0s 1ms/step - loss: 16.4211 - mae: 16.4211\n",
      "Epoch 27/100\n",
      "2/2 [==============================] - ETA: 0s - loss: 13.9381 - mae: 13.938 - 0s 4ms/step - loss: 13.1660 - mae: 13.1660\n",
      "Epoch 28/100\n",
      "2/2 [==============================] - 0s 1ms/step - loss: 14.2559 - mae: 14.2559\n",
      "Epoch 29/100\n",
      "2/2 [==============================] - 0s 2ms/step - loss: 10.0670 - mae: 10.0670\n",
      "Epoch 30/100\n",
      "2/2 [==============================] - 0s 4ms/step - loss: 16.3409 - mae: 16.3409\n",
      "Epoch 31/100\n",
      "2/2 [==============================] - 0s 999us/step - loss: 23.6444 - mae: 23.6444\n",
      "Epoch 32/100\n",
      "2/2 [==============================] - 0s 3ms/step - loss: 7.6215 - mae: 7.6215\n",
      "Epoch 33/100\n",
      "2/2 [==============================] - 0s 1ms/step - loss: 9.3221 - mae: 9.3221\n",
      "Epoch 34/100\n",
      "2/2 [==============================] - 0s 3ms/step - loss: 13.7313 - mae: 13.7313\n",
      "Epoch 35/100\n",
      "2/2 [==============================] - 0s 1ms/step - loss: 11.1276 - mae: 11.1276\n",
      "Epoch 36/100\n",
      "2/2 [==============================] - 0s 3ms/step - loss: 13.3222 - mae: 13.3222\n",
      "Epoch 37/100\n",
      "2/2 [==============================] - 0s 1ms/step - loss: 9.4763 - mae: 9.4763\n",
      "Epoch 38/100\n",
      "2/2 [==============================] - 0s 6ms/step - loss: 10.1381 - mae: 10.1381\n",
      "Epoch 39/100\n",
      "2/2 [==============================] - 0s 1ms/step - loss: 10.1793 - mae: 10.1793\n",
      "Epoch 40/100\n",
      "2/2 [==============================] - 0s 4ms/step - loss: 10.9137 - mae: 10.9137\n",
      "Epoch 41/100\n",
      "2/2 [==============================] - 0s 998us/step - loss: 7.9063 - mae: 7.9063\n",
      "Epoch 42/100\n",
      "2/2 [==============================] - 0s 2ms/step - loss: 10.0914 - mae: 10.0914\n",
      "Epoch 43/100\n",
      "2/2 [==============================] - 0s 3ms/step - loss: 8.7006 - mae: 8.7006\n",
      "Epoch 44/100\n",
      "2/2 [==============================] - 0s 999us/step - loss: 12.2046 - mae: 12.2046\n",
      "Epoch 45/100\n",
      "2/2 [==============================] - 0s 3ms/step - loss: 13.7970 - mae: 13.7970\n",
      "Epoch 46/100\n",
      "2/2 [==============================] - 0s 1ms/step - loss: 8.4687 - mae: 8.4687\n",
      "Epoch 47/100\n",
      "2/2 [==============================] - 0s 4ms/step - loss: 9.1330 - mae: 9.1330\n",
      "Epoch 48/100\n",
      "2/2 [==============================] - 0s 2ms/step - loss: 10.6190 - mae: 10.6190\n",
      "Epoch 49/100\n",
      "2/2 [==============================] - 0s 1ms/step - loss: 7.7503 - mae: 7.7503\n",
      "Epoch 50/100\n",
      "2/2 [==============================] - 0s 4ms/step - loss: 9.5407 - mae: 9.5407\n",
      "Epoch 51/100\n",
      "2/2 [==============================] - 0s 1ms/step - loss: 9.1584 - mae: 9.1584\n",
      "Epoch 52/100\n",
      "2/2 [==============================] - 0s 1000us/step - loss: 16.3630 - mae: 16.3630\n",
      "Epoch 53/100\n",
      "2/2 [==============================] - 0s 4ms/step - loss: 14.1299 - mae: 14.1299\n",
      "Epoch 54/100\n",
      "2/2 [==============================] - 0s 1ms/step - loss: 21.1247 - mae: 21.1247\n",
      "Epoch 55/100\n",
      "2/2 [==============================] - 0s 5ms/step - loss: 16.3961 - mae: 16.3961\n",
      "Epoch 56/100\n",
      "2/2 [==============================] - 0s 1ms/step - loss: 9.9806 - mae: 9.9806\n",
      "Epoch 57/100\n",
      "2/2 [==============================] - 0s 3ms/step - loss: 9.9606 - mae: 9.9606\n",
      "Epoch 58/100\n",
      "2/2 [==============================] - 0s 2ms/step - loss: 9.2209 - mae: 9.2209\n",
      "Epoch 59/100\n",
      "2/2 [==============================] - 0s 1ms/step - loss: 8.4239 - mae: 8.4239\n",
      "Epoch 60/100\n",
      "2/2 [==============================] - 0s 3ms/step - loss: 9.4869 - mae: 9.4869\n",
      "Epoch 61/100\n",
      "2/2 [==============================] - 0s 1ms/step - loss: 11.4354 - mae: 11.4354\n",
      "Epoch 62/100\n",
      "2/2 [==============================] - 0s 1ms/step - loss: 11.6887 - mae: 11.6887\n",
      "Epoch 63/100\n",
      "2/2 [==============================] - 0s 2ms/step - loss: 7.0838 - mae: 7.0838\n",
      "Epoch 64/100\n",
      "2/2 [==============================] - 0s 999us/step - loss: 16.9675 - mae: 16.9675\n",
      "Epoch 65/100\n",
      "2/2 [==============================] - 0s 2ms/step - loss: 12.4599 - mae: 12.4599\n",
      "Epoch 66/100\n",
      "2/2 [==============================] - 0s 1ms/step - loss: 13.0184 - mae: 13.0184\n",
      "Epoch 67/100\n",
      "2/2 [==============================] - 0s 2ms/step - loss: 8.0600 - mae: 8.0600\n",
      "Epoch 68/100\n",
      "2/2 [==============================] - 0s 1ms/step - loss: 10.1888 - mae: 10.1888\n",
      "Epoch 69/100\n",
      "2/2 [==============================] - 0s 2ms/step - loss: 12.3633 - mae: 12.3633\n",
      "Epoch 70/100\n",
      "2/2 [==============================] - 0s 999us/step - loss: 9.0516 - mae: 9.0516\n",
      "Epoch 71/100\n",
      "2/2 [==============================] - 0s 2ms/step - loss: 10.0378 - mae: 10.0378\n",
      "Epoch 72/100\n",
      "2/2 [==============================] - 0s 1ms/step - loss: 10.0516 - mae: 10.0516\n",
      "Epoch 73/100\n",
      "2/2 [==============================] - 0s 999us/step - loss: 12.6151 - mae: 12.6151\n",
      "Epoch 74/100\n",
      "2/2 [==============================] - 0s 1ms/step - loss: 10.3819 - mae: 10.3819\n",
      "Epoch 75/100\n",
      "2/2 [==============================] - 0s 1ms/step - loss: 9.7229 - mae: 9.7229\n",
      "Epoch 76/100\n",
      "2/2 [==============================] - 0s 1ms/step - loss: 11.2252 - mae: 11.2252\n",
      "Epoch 77/100\n",
      "2/2 [==============================] - 0s 2ms/step - loss: 8.3642 - mae: 8.3642\n",
      "Epoch 78/100\n",
      "2/2 [==============================] - 0s 2ms/step - loss: 9.1274 - mae: 9.1274\n",
      "Epoch 79/100\n",
      "2/2 [==============================] - 0s 1ms/step - loss: 19.5039 - mae: 19.5039\n",
      "Epoch 80/100\n",
      "2/2 [==============================] - 0s 1ms/step - loss: 14.8945 - mae: 14.8945\n",
      "Epoch 81/100\n",
      "2/2 [==============================] - 0s 1ms/step - loss: 9.0034 - mae: 9.0034\n",
      "Epoch 82/100\n",
      "2/2 [==============================] - 0s 1ms/step - loss: 13.0206 - mae: 13.0206\n",
      "Epoch 83/100\n",
      "2/2 [==============================] - 0s 1ms/step - loss: 7.9299 - mae: 7.9299\n",
      "Epoch 84/100\n",
      "2/2 [==============================] - 0s 1ms/step - loss: 7.6872 - mae: 7.6872\n",
      "Epoch 85/100\n",
      "2/2 [==============================] - 0s 1ms/step - loss: 10.0328 - mae: 10.0328\n",
      "Epoch 86/100\n",
      "2/2 [==============================] - 0s 2ms/step - loss: 9.2433 - mae: 9.2433\n",
      "Epoch 87/100\n"
     ]
    },
    {
     "name": "stdout",
     "output_type": "stream",
     "text": [
      "2/2 [==============================] - 0s 999us/step - loss: 12.0209 - mae: 12.0209\n",
      "Epoch 88/100\n",
      "2/2 [==============================] - 0s 2ms/step - loss: 10.6389 - mae: 10.6389\n",
      "Epoch 89/100\n",
      "2/2 [==============================] - 0s 1ms/step - loss: 7.2667 - mae: 7.2667\n",
      "Epoch 90/100\n",
      "2/2 [==============================] - 0s 1ms/step - loss: 12.7786 - mae: 12.7786\n",
      "Epoch 91/100\n",
      "2/2 [==============================] - 0s 2ms/step - loss: 7.3481 - mae: 7.3481\n",
      "Epoch 92/100\n",
      "2/2 [==============================] - 0s 1ms/step - loss: 7.7175 - mae: 7.7175\n",
      "Epoch 93/100\n",
      "2/2 [==============================] - 0s 1ms/step - loss: 7.1263 - mae: 7.1263\n",
      "Epoch 94/100\n",
      "2/2 [==============================] - 0s 2ms/step - loss: 12.6190 - mae: 12.6190\n",
      "Epoch 95/100\n",
      "2/2 [==============================] - 0s 1ms/step - loss: 10.0912 - mae: 10.0912\n",
      "Epoch 96/100\n",
      "2/2 [==============================] - 0s 2ms/step - loss: 9.3558 - mae: 9.3558\n",
      "Epoch 97/100\n",
      "2/2 [==============================] - 0s 1000us/step - loss: 12.6834 - mae: 12.6834\n",
      "Epoch 98/100\n",
      "2/2 [==============================] - 0s 1ms/step - loss: 8.6762 - mae: 8.6762\n",
      "Epoch 99/100\n",
      "2/2 [==============================] - 0s 2ms/step - loss: 9.4693 - mae: 9.4693\n",
      "Epoch 100/100\n",
      "2/2 [==============================] - 0s 1ms/step - loss: 8.7067 - mae: 8.7067\n"
     ]
    },
    {
     "data": {
      "text/plain": [
       "<tensorflow.python.keras.callbacks.History at 0x1eb0841ad90>"
      ]
     },
     "execution_count": 56,
     "metadata": {},
     "output_type": "execute_result"
    }
   ],
   "source": [
    "# Set a random seed\n",
    "tf.random.set_seed(42)\n",
    "\n",
    "# Create a model\n",
    "model_1 = tf.keras.Sequential([\n",
    "    \n",
    "    tf.keras.layers.Dense(1)\n",
    "])\n",
    "\n",
    "# Compile a model\n",
    "model_1.compile(loss = tf.keras.losses.mae,\n",
    "                optimizer = tf.keras.optimizers.SGD(),\n",
    "                metrics = ['mae'])\n",
    "\n",
    "# Fit the model\n",
    "model_1.fit(X_train, y_train, epochs=100)"
   ]
  },
  {
   "cell_type": "code",
   "execution_count": 57,
   "id": "bc96bd7c",
   "metadata": {
    "scrolled": true
   },
   "outputs": [
    {
     "name": "stdout",
     "output_type": "stream",
     "text": [
      "WARNING:tensorflow:8 out of the last 10 calls to <function Model.make_predict_function.<locals>.predict_function at 0x000001EB0837CD30> triggered tf.function retracing. Tracing is expensive and the excessive number of tracings could be due to (1) creating @tf.function repeatedly in a loop, (2) passing tensors with different shapes, (3) passing Python objects instead of tensors. For (1), please define your @tf.function outside of the loop. For (2), @tf.function has experimental_relax_shapes=True option that relaxes argument shapes that can avoid unnecessary retracing. For (3), please refer to https://www.tensorflow.org/tutorials/customization/performance#python_or_tensor_args and https://www.tensorflow.org/api_docs/python/tf/function for  more details.\n"
     ]
    },
    {
     "data": {
      "image/png": "[encoded data removed]",
      "text/plain": [
       "<Figure size 720x504 with 1 Axes>"
      ]
     },
     "metadata": {
      "needs_background": "light"
     },
     "output_type": "display_data"
    }
   ],
   "source": [
    "# Make a plot prediction for model 1\n",
    "y_preds_1 = model_1.predict(X_test)\n",
    "plot_predictions(predictions = y_preds_1)"
   ]
  },
  {
   "cell_type": "code",
   "execution_count": 58,
   "id": "a9646646",
   "metadata": {
    "scrolled": true
   },
   "outputs": [
    {
     "data": {
      "text/plain": [
       "(<tf.Tensor: shape=(), dtype=float32, numpy=18.745327>,\n",
       " <tf.Tensor: shape=(), dtype=float32, numpy=353.57336>)"
      ]
     },
     "execution_count": 58,
     "metadata": {},
     "output_type": "execute_result"
    }
   ],
   "source": [
    "# Calculate model_1 metrics\n",
    "mae_1 = mae(y_test, y_preds_1)\n",
    "mse_1 = mse(y_test, y_preds_1)\n",
    "\n",
    "mae_1, mse_1"
   ]
  },
  {
   "cell_type": "markdown",
   "id": "e4b86909",
   "metadata": {},
   "source": [
    "**Build `model_2`**\n",
    "\n",
    "This time we'll add an extra dense layer (so now our model will have 2 layers) whilst keeping everything else the same."
   ]
  },
  {
   "cell_type": "code",
   "execution_count": 59,
   "id": "950f1787",
   "metadata": {
    "scrolled": true
   },
   "outputs": [
    {
     "data": {
      "text/plain": [
       "<tensorflow.python.keras.callbacks.History at 0x1eb086818b0>"
      ]
     },
     "execution_count": 59,
     "metadata": {},
     "output_type": "execute_result"
    }
   ],
   "source": [
    "# Set random seed\n",
    "tf.random.set_seed(42)\n",
    "\n",
    "# Replicate model_1 and add an extra layer\n",
    "model_2 = tf.keras.Sequential([\n",
    "  tf.keras.layers.Dense(1),\n",
    "  tf.keras.layers.Dense(1) # add a second layer\n",
    "])\n",
    "\n",
    "# Compile the model\n",
    "model_2.compile(loss=tf.keras.losses.mae,\n",
    "                optimizer=tf.keras.optimizers.SGD(),\n",
    "                metrics=['mae'])\n",
    "\n",
    "# Fit the model\n",
    "model_2.fit(tf.expand_dims(X_train, axis=-1), y_train, epochs=100, verbose=0) # set verbose to 0 for less output"
   ]
  },
  {
   "cell_type": "code",
   "execution_count": 60,
   "id": "83d1a9ce",
   "metadata": {
    "scrolled": true
   },
   "outputs": [
    {
     "name": "stdout",
     "output_type": "stream",
     "text": [
      "WARNING:tensorflow:9 out of the last 11 calls to <function Model.make_predict_function.<locals>.predict_function at 0x000001EB08798DC0> triggered tf.function retracing. Tracing is expensive and the excessive number of tracings could be due to (1) creating @tf.function repeatedly in a loop, (2) passing tensors with different shapes, (3) passing Python objects instead of tensors. For (1), please define your @tf.function outside of the loop. For (2), @tf.function has experimental_relax_shapes=True option that relaxes argument shapes that can avoid unnecessary retracing. For (3), please refer to https://www.tensorflow.org/tutorials/customization/performance#python_or_tensor_args and https://www.tensorflow.org/api_docs/python/tf/function for  more details.\n"
     ]
    },
    {
     "data": {
      "image/png": "[encoded data removed]",
      "text/plain": [
       "<Figure size 720x504 with 1 Axes>"
      ]
     },
     "metadata": {
      "needs_background": "light"
     },
     "output_type": "display_data"
    }
   ],
   "source": [
    "# Make and plot predictions for model_2\n",
    "y_preds_2 = model_2.predict(X_test)\n",
    "plot_predictions(predictions=y_preds_2)"
   ]
  },
  {
   "cell_type": "markdown",
   "id": "cd9520b1",
   "metadata": {},
   "source": [
    "Woah, that's looking better already! And all it took was an extra layer."
   ]
  },
  {
   "cell_type": "code",
   "execution_count": 61,
   "id": "cb12461c",
   "metadata": {
    "scrolled": true
   },
   "outputs": [
    {
     "data": {
      "text/plain": [
       "(1.9097328, 5.45877)"
      ]
     },
     "execution_count": 61,
     "metadata": {},
     "output_type": "execute_result"
    }
   ],
   "source": [
    "# Calculate model_2 metrics\n",
    "mae_2 = mae(y_test, y_preds_2.squeeze()).numpy()\n",
    "mse_2 = mse(y_test, y_preds_2.squeeze()).numpy()\n",
    "mae_2, mse_2"
   ]
  },
  {
   "cell_type": "markdown",
   "id": "cdec5cfc",
   "metadata": {},
   "source": [
    "**Build `model_3`**\n",
    "\n",
    "For our 3rd model, we'll keep everything the same as `model_2` except this time we'll train for longer (500 epochs instead of 100).\n",
    "\n",
    "This will give our model more of a chance to learn the patterns in the data."
   ]
  },
  {
   "cell_type": "code",
   "execution_count": 63,
   "id": "f5dc45bf",
   "metadata": {
    "scrolled": false
   },
   "outputs": [
    {
     "name": "stdout",
     "output_type": "stream",
     "text": [
      "Epoch 1/500\n",
      "2/2 [==============================] - 0s 2ms/step - loss: 27.4058 - mse: 1084.1482\n",
      "Epoch 2/500\n",
      "2/2 [==============================] - 0s 1ms/step - loss: 24.6339 - mse: 777.9203\n",
      "Epoch 3/500\n",
      "2/2 [==============================] - 0s 3ms/step - loss: 29.8935 - mse: 1334.8953\n",
      "Epoch 4/500\n",
      "2/2 [==============================] - 0s 2ms/step - loss: 27.4055 - mse: 1106.8035\n",
      "Epoch 5/500\n",
      "2/2 [==============================] - 0s 2ms/step - loss: 14.9463 - mse: 281.1077\n",
      "Epoch 6/500\n",
      "2/2 [==============================] - 0s 999us/step - loss: 11.8819 - mse: 168.6621\n",
      "Epoch 7/500\n",
      "2/2 [==============================] - 0s 3ms/step - loss: 11.1988 - mse: 151.3508\n",
      "Epoch 8/500\n",
      "2/2 [==============================] - 0s 4ms/step - loss: 11.0910 - mse: 160.3745\n",
      "Epoch 9/500\n",
      "2/2 [==============================] - 0s 2ms/step - loss: 40.4763 - mse: 2586.0090\n",
      "Epoch 10/500\n",
      "2/2 [==============================] - 0s 3ms/step - loss: 27.8687 - mse: 1094.4382\n",
      "Epoch 11/500\n",
      "2/2 [==============================] - 0s 1ms/step - loss: 10.2473 - mse: 147.9359\n",
      "Epoch 12/500\n",
      "2/2 [==============================] - 0s 3ms/step - loss: 25.2803 - mse: 890.3867\n",
      "Epoch 13/500\n",
      "2/2 [==============================] - 0s 2ms/step - loss: 16.9897 - mse: 399.9677\n",
      "Epoch 14/500\n",
      "2/2 [==============================] - 0s 3ms/step - loss: 25.9217 - mse: 1049.5515\n",
      "Epoch 15/500\n",
      "2/2 [==============================] - 0s 1ms/step - loss: 17.9948 - mse: 450.2580\n",
      "Epoch 16/500\n",
      "2/2 [==============================] - 0s 4ms/step - loss: 7.3510 - mse: 80.6206\n",
      "Epoch 17/500\n",
      "2/2 [==============================] - 0s 4ms/step - loss: 10.8636 - mse: 174.7868\n",
      "Epoch 18/500\n",
      "2/2 [==============================] - 0s 1ms/step - loss: 19.5304 - mse: 565.8052\n",
      "Epoch 19/500\n",
      "2/2 [==============================] - 0s 3ms/step - loss: 10.3469 - mse: 167.7749\n",
      "Epoch 20/500\n",
      "2/2 [==============================] - 0s 1ms/step - loss: 17.6985 - mse: 455.7096\n",
      "Epoch 21/500\n",
      "2/2 [==============================] - 0s 5ms/step - loss: 15.8985 - mse: 347.1929\n",
      "Epoch 22/500\n",
      "2/2 [==============================] - 0s 3ms/step - loss: 14.1991 - mse: 285.1767\n",
      "Epoch 23/500\n",
      "2/2 [==============================] - 0s 998us/step - loss: 8.7720 - mse: 91.7852\n",
      "Epoch 24/500\n",
      "2/2 [==============================] - 0s 3ms/step - loss: 11.0570 - mse: 153.7430\n",
      "Epoch 25/500\n",
      "2/2 [==============================] - 0s 1ms/step - loss: 12.6838 - mse: 233.2950\n",
      "Epoch 26/500\n",
      "2/2 [==============================] - 0s 999us/step - loss: 26.1877 - mse: 1024.6094\n",
      "Epoch 27/500\n",
      "2/2 [==============================] - 0s 3ms/step - loss: 11.7432 - mse: 194.8453\n",
      "Epoch 28/500\n",
      "2/2 [==============================] - 0s 2ms/step - loss: 22.8730 - mse: 835.6069\n",
      "Epoch 29/500\n",
      "2/2 [==============================] - 0s 2ms/step - loss: 9.2459 - mse: 96.7786\n",
      "Epoch 30/500\n",
      "2/2 [==============================] - 0s 999us/step - loss: 29.2641 - mse: 1535.1335\n",
      "Epoch 31/500\n",
      "2/2 [==============================] - 0s 3ms/step - loss: 53.0224 - mse: 5030.2954\n",
      "Epoch 32/500\n",
      "2/2 [==============================] - 0s 2ms/step - loss: 11.9951 - mse: 211.7023\n",
      "Epoch 33/500\n",
      "2/2 [==============================] - 0s 2ms/step - loss: 15.6357 - mse: 337.3664\n",
      "Epoch 34/500\n",
      "2/2 [==============================] - 0s 2ms/step - loss: 12.6925 - mse: 214.4821\n",
      "Epoch 35/500\n",
      "2/2 [==============================] - 0s 5ms/step - loss: 9.2398 - mse: 92.9126\n",
      "Epoch 36/500\n",
      "2/2 [==============================] - 0s 1ms/step - loss: 16.6497 - mse: 403.6569\n",
      "Epoch 37/500\n",
      "2/2 [==============================] - 0s 3ms/step - loss: 11.0382 - mse: 192.3919\n",
      "Epoch 38/500\n",
      "2/2 [==============================] - 0s 1ms/step - loss: 18.1634 - mse: 433.6718\n",
      "Epoch 39/500\n",
      "2/2 [==============================] - 0s 1ms/step - loss: 19.1013 - mse: 529.6440\n",
      "Epoch 40/500\n",
      "2/2 [==============================] - 0s 1ms/step - loss: 20.4324 - mse: 610.1325\n",
      "Epoch 41/500\n",
      "2/2 [==============================] - 0s 4ms/step - loss: 14.9102 - mse: 279.6183\n",
      "Epoch 42/500\n",
      "2/2 [==============================] - 0s 2ms/step - loss: 12.2809 - mse: 186.6180\n",
      "Epoch 43/500\n",
      "2/2 [==============================] - 0s 4ms/step - loss: 10.7333 - mse: 167.0952\n",
      "Epoch 44/500\n",
      "2/2 [==============================] - 0s 1ms/step - loss: 23.0260 - mse: 830.4244\n",
      "Epoch 45/500\n",
      "2/2 [==============================] - 0s 3ms/step - loss: 10.3897 - mse: 128.9549\n",
      "Epoch 46/500\n",
      "2/2 [==============================] - 0s 998us/step - loss: 11.7904 - mse: 181.9211\n",
      "Epoch 47/500\n",
      "2/2 [==============================] - 0s 3ms/step - loss: 9.6438 - mse: 153.8709\n",
      "Epoch 48/500\n",
      "2/2 [==============================] - 0s 999us/step - loss: 17.2335 - mse: 402.8495\n",
      "Epoch 49/500\n",
      "2/2 [==============================] - 0s 4ms/step - loss: 9.5729 - mse: 99.8336\n",
      "Epoch 50/500\n",
      "2/2 [==============================] - 0s 1ms/step - loss: 13.8185 - mse: 260.3669\n",
      "Epoch 51/500\n",
      "2/2 [==============================] - 0s 3ms/step - loss: 11.5958 - mse: 154.7956\n",
      "Epoch 52/500\n",
      "2/2 [==============================] - 0s 1ms/step - loss: 30.5538 - mse: 1613.0883\n",
      "Epoch 53/500\n",
      "2/2 [==============================] - 0s 1ms/step - loss: 14.3541 - mse: 302.5292\n",
      "Epoch 54/500\n",
      "2/2 [==============================] - 0s 2ms/step - loss: 23.9713 - mse: 859.3983\n",
      "Epoch 55/500\n",
      "2/2 [==============================] - 0s 1ms/step - loss: 23.1938 - mse: 805.5450\n",
      "Epoch 56/500\n",
      "2/2 [==============================] - 0s 1ms/step - loss: 10.8837 - mse: 170.9834\n",
      "Epoch 57/500\n",
      "2/2 [==============================] - 0s 2ms/step - loss: 12.7445 - mse: 198.7014\n",
      "Epoch 58/500\n",
      "2/2 [==============================] - 0s 1ms/step - loss: 9.5995 - mse: 102.5890\n",
      "Epoch 59/500\n",
      "2/2 [==============================] - 0s 3ms/step - loss: 12.5172 - mse: 216.3367\n",
      "Epoch 60/500\n",
      "2/2 [==============================] - 0s 2ms/step - loss: 12.3200 - mse: 208.6370\n",
      "Epoch 61/500\n",
      "2/2 [==============================] - 0s 1ms/step - loss: 17.4604 - mse: 428.6392\n",
      "Epoch 62/500\n",
      "2/2 [==============================] - 0s 4ms/step - loss: 10.6052 - mse: 136.9777\n",
      "Epoch 63/500\n",
      "2/2 [==============================] - 0s 1ms/step - loss: 10.4893 - mse: 152.4554\n",
      "Epoch 64/500\n",
      "2/2 [==============================] - 0s 4ms/step - loss: 24.8450 - mse: 911.7508\n",
      "Epoch 65/500\n",
      "2/2 [==============================] - 0s 2ms/step - loss: 10.6761 - mse: 142.7374\n",
      "Epoch 66/500\n",
      "2/2 [==============================] - 0s 4ms/step - loss: 21.7809 - mse: 704.4487\n",
      "Epoch 67/500\n",
      "2/2 [==============================] - 0s 1ms/step - loss: 10.7136 - mse: 136.0194\n",
      "Epoch 68/500\n",
      "2/2 [==============================] - 0s 2ms/step - loss: 10.6397 - mse: 149.2299\n",
      "Epoch 69/500\n",
      "2/2 [==============================] - 0s 3ms/step - loss: 22.6914 - mse: 742.1759\n",
      "Epoch 70/500\n",
      "2/2 [==============================] - 0s 999us/step - loss: 9.3316 - mse: 166.1627\n",
      "Epoch 71/500\n",
      "2/2 [==============================] - 0s 4ms/step - loss: 15.4355 - mse: 323.0844\n",
      "Epoch 72/500\n",
      "2/2 [==============================] - 0s 2ms/step - loss: 6.7437 - mse: 67.0210\n",
      "Epoch 73/500\n",
      "2/2 [==============================] - ETA: 0s - loss: 8.5643 - mse: 73.51 - 0s 2ms/step - loss: 11.6891 - mse: 183.7296\n",
      "Epoch 74/500\n",
      "2/2 [==============================] - 0s 1ms/step - loss: 24.0400 - mse: 908.8988\n",
      "Epoch 75/500\n",
      "2/2 [==============================] - 0s 4ms/step - loss: 9.5896 - mse: 149.3948\n",
      "Epoch 76/500\n",
      "2/2 [==============================] - 0s 2ms/step - loss: 12.4371 - mse: 188.3310\n",
      "Epoch 77/500\n",
      "2/2 [==============================] - 0s 1ms/step - loss: 16.6488 - mse: 429.2705\n",
      "Epoch 78/500\n",
      "2/2 [==============================] - 0s 2ms/step - loss: 9.0614 - mse: 95.4870\n",
      "Epoch 79/500\n",
      "2/2 [==============================] - 0s 1ms/step - loss: 23.9675 - mse: 864.0859\n",
      "Epoch 80/500\n",
      "2/2 [==============================] - 0s 3ms/step - loss: 26.7463 - mse: 1104.4030\n",
      "Epoch 81/500\n",
      "2/2 [==============================] - 0s 2ms/step - loss: 11.6714 - mse: 170.7055\n",
      "Epoch 82/500\n",
      "2/2 [==============================] - 0s 1ms/step - loss: 12.0228 - mse: 211.9191\n",
      "Epoch 83/500\n",
      "2/2 [==============================] - 0s 4ms/step - loss: 17.4218 - mse: 395.5590\n",
      "Epoch 84/500\n",
      "2/2 [==============================] - 0s 999us/step - loss: 7.2629 - mse: 73.0935\n",
      "Epoch 85/500\n",
      "2/2 [==============================] - 0s 3ms/step - loss: 14.9650 - mse: 312.8361\n"
     ]
    },
    {
     "name": "stdout",
     "output_type": "stream",
     "text": [
      "Epoch 86/500\n",
      "2/2 [==============================] - 0s 2ms/step - loss: 15.2862 - mse: 315.3605\n",
      "Epoch 87/500\n",
      "2/2 [==============================] - 0s 3ms/step - loss: 19.1086 - mse: 521.2535\n",
      "Epoch 88/500\n",
      "2/2 [==============================] - 0s 2ms/step - loss: 29.8228 - mse: 1287.1902\n",
      "Epoch 89/500\n",
      "2/2 [==============================] - 0s 1ms/step - loss: 10.1742 - mse: 124.1342\n",
      "Epoch 90/500\n",
      "2/2 [==============================] - 0s 1ms/step - loss: 21.5240 - mse: 663.8609\n",
      "Epoch 91/500\n",
      "2/2 [==============================] - 0s 4ms/step - loss: 10.5716 - mse: 161.7467\n",
      "Epoch 92/500\n",
      "2/2 [==============================] - 0s 1000us/step - loss: 18.3977 - mse: 464.1323\n",
      "Epoch 93/500\n",
      "2/2 [==============================] - 0s 2ms/step - loss: 7.4138 - mse: 81.9820\n",
      "Epoch 94/500\n",
      "2/2 [==============================] - 0s 2ms/step - loss: 17.7380 - mse: 445.7377\n",
      "Epoch 95/500\n",
      "2/2 [==============================] - 0s 2ms/step - loss: 11.1144 - mse: 164.0820\n",
      "Epoch 96/500\n",
      "2/2 [==============================] - 0s 1ms/step - loss: 19.4346 - mse: 510.5842\n",
      "Epoch 97/500\n",
      "2/2 [==============================] - 0s 2ms/step - loss: 12.1593 - mse: 209.9755\n",
      "Epoch 98/500\n",
      "2/2 [==============================] - 0s 2ms/step - loss: 11.5653 - mse: 169.4051\n",
      "Epoch 99/500\n",
      "2/2 [==============================] - 0s 2ms/step - loss: 13.8827 - mse: 265.4630\n",
      "Epoch 100/500\n",
      "2/2 [==============================] - 0s 1ms/step - loss: 20.2277 - mse: 608.8218\n",
      "Epoch 101/500\n",
      "2/2 [==============================] - 0s 3ms/step - loss: 11.4479 - mse: 177.1446\n",
      "Epoch 102/500\n",
      "2/2 [==============================] - 0s 1ms/step - loss: 17.4842 - mse: 426.5328\n",
      "Epoch 103/500\n",
      "2/2 [==============================] - 0s 2ms/step - loss: 7.0217 - mse: 65.2649\n",
      "Epoch 104/500\n",
      "2/2 [==============================] - 0s 1ms/step - loss: 23.5789 - mse: 757.4908\n",
      "Epoch 105/500\n",
      "2/2 [==============================] - 0s 2ms/step - loss: 16.8932 - mse: 443.0954\n",
      "Epoch 106/500\n",
      "2/2 [==============================] - 0s 3ms/step - loss: 9.2954 - mse: 144.6570\n",
      "Epoch 107/500\n",
      "2/2 [==============================] - 0s 1ms/step - loss: 25.3749 - mse: 934.2097\n",
      "Epoch 108/500\n",
      "2/2 [==============================] - 0s 3ms/step - loss: 13.4621 - mse: 269.8598\n",
      "Epoch 109/500\n",
      "2/2 [==============================] - 0s 1ms/step - loss: 9.5238 - mse: 108.7908\n",
      "Epoch 110/500\n",
      "2/2 [==============================] - 0s 3ms/step - loss: 9.6722 - mse: 128.8767\n",
      "Epoch 111/500\n",
      "2/2 [==============================] - 0s 999us/step - loss: 14.5987 - mse: 295.9862\n",
      "Epoch 112/500\n",
      "2/2 [==============================] - 0s 999us/step - loss: 9.5670 - mse: 123.4114\n",
      "Epoch 113/500\n",
      "2/2 [==============================] - 0s 2ms/step - loss: 17.8092 - mse: 460.3868\n",
      "Epoch 114/500\n",
      "2/2 [==============================] - 0s 5ms/step - loss: 17.1782 - mse: 441.2209\n",
      "Epoch 115/500\n",
      "2/2 [==============================] - 0s 4ms/step - loss: 11.1182 - mse: 155.0962\n",
      "Epoch 116/500\n",
      "2/2 [==============================] - 0s 2ms/step - loss: 23.3071 - mse: 791.7660\n",
      "Epoch 117/500\n",
      "2/2 [==============================] - 0s 999us/step - loss: 9.6144 - mse: 126.1895\n",
      "Epoch 118/500\n",
      "2/2 [==============================] - 0s 3ms/step - loss: 10.6899 - mse: 140.2946\n",
      "Epoch 119/500\n",
      "2/2 [==============================] - 0s 1ms/step - loss: 8.0355 - mse: 78.3508\n",
      "Epoch 120/500\n",
      "2/2 [==============================] - 0s 2ms/step - loss: 29.6859 - mse: 1315.8650\n",
      "Epoch 121/500\n",
      "2/2 [==============================] - 0s 2ms/step - loss: 8.0714 - mse: 70.6648\n",
      "Epoch 122/500\n",
      "2/2 [==============================] - 0s 4ms/step - loss: 28.3086 - mse: 1233.3853\n",
      "Epoch 123/500\n",
      "2/2 [==============================] - 0s 1ms/step - loss: 32.9014 - mse: 1591.9507\n",
      "Epoch 124/500\n",
      "2/2 [==============================] - 0s 4ms/step - loss: 19.6291 - mse: 571.6959\n",
      "Epoch 125/500\n",
      "2/2 [==============================] - 0s 1ms/step - loss: 7.0095 - mse: 72.1092\n",
      "Epoch 126/500\n",
      "2/2 [==============================] - 0s 4ms/step - loss: 21.8056 - mse: 666.4337\n",
      "Epoch 127/500\n",
      "2/2 [==============================] - 0s 1ms/step - loss: 7.9812 - mse: 69.5627\n",
      "Epoch 128/500\n",
      "2/2 [==============================] - 0s 3ms/step - loss: 21.0585 - mse: 653.6483\n",
      "Epoch 129/500\n",
      "2/2 [==============================] - 0s 1ms/step - loss: 9.0107 - mse: 120.8762\n",
      "Epoch 130/500\n",
      "2/2 [==============================] - 0s 1ms/step - loss: 24.0502 - mse: 815.7741\n",
      "Epoch 131/500\n",
      "2/2 [==============================] - 0s 1ms/step - loss: 9.7537 - mse: 133.0194\n",
      "Epoch 132/500\n",
      "2/2 [==============================] - 0s 1ms/step - loss: 18.3052 - mse: 500.9213\n",
      "Epoch 133/500\n",
      "2/2 [==============================] - 0s 1ms/step - loss: 7.5833 - mse: 80.1913\n",
      "Epoch 134/500\n",
      "2/2 [==============================] - 0s 2ms/step - loss: 18.5755 - mse: 506.3341\n",
      "Epoch 135/500\n",
      "2/2 [==============================] - 0s 2ms/step - loss: 10.5360 - mse: 148.5977\n",
      "Epoch 136/500\n",
      "2/2 [==============================] - 0s 1ms/step - loss: 18.2694 - mse: 472.4461\n",
      "Epoch 137/500\n",
      "2/2 [==============================] - 0s 2ms/step - loss: 23.1658 - mse: 724.0383\n",
      "Epoch 138/500\n",
      "2/2 [==============================] - 0s 1ms/step - loss: 9.1362 - mse: 139.5299\n",
      "Epoch 139/500\n",
      "2/2 [==============================] - 0s 2ms/step - loss: 8.9181 - mse: 144.6080\n",
      "Epoch 140/500\n",
      "2/2 [==============================] - 0s 1ms/step - loss: 16.4732 - mse: 389.2470\n",
      "Epoch 141/500\n",
      "2/2 [==============================] - 0s 2ms/step - loss: 8.4208 - mse: 91.7413\n",
      "Epoch 142/500\n",
      "2/2 [==============================] - 0s 998us/step - loss: 36.9540 - mse: 2404.8645\n",
      "Epoch 143/500\n",
      "2/2 [==============================] - 0s 999us/step - loss: 25.5820 - mse: 927.2339\n",
      "Epoch 144/500\n",
      "2/2 [==============================] - 0s 2ms/step - loss: 9.5392 - mse: 144.3266\n",
      "Epoch 145/500\n",
      "2/2 [==============================] - 0s 1ms/step - loss: 26.6058 - mse: 957.1338\n",
      "Epoch 146/500\n",
      "2/2 [==============================] - 0s 2ms/step - loss: 8.7248 - mse: 109.2954\n",
      "Epoch 147/500\n",
      "2/2 [==============================] - 0s 999us/step - loss: 15.6172 - mse: 311.2310\n",
      "Epoch 148/500\n",
      "2/2 [==============================] - 0s 2ms/step - loss: 18.3065 - mse: 464.7855\n",
      "Epoch 149/500\n",
      "2/2 [==============================] - 0s 2ms/step - loss: 8.1994 - mse: 106.4584\n",
      "Epoch 150/500\n",
      "2/2 [==============================] - 0s 2ms/step - loss: 7.4964 - mse: 66.4456\n",
      "Epoch 151/500\n",
      "2/2 [==============================] - 0s 2ms/step - loss: 18.3374 - mse: 485.9980\n",
      "Epoch 152/500\n",
      "2/2 [==============================] - 0s 1ms/step - loss: 10.2895 - mse: 130.5616\n",
      "Epoch 153/500\n",
      "2/2 [==============================] - 0s 3ms/step - loss: 29.6425 - mse: 1268.4641\n",
      "Epoch 154/500\n",
      "2/2 [==============================] - 0s 2ms/step - loss: 10.5556 - mse: 201.2336\n",
      "Epoch 155/500\n",
      "2/2 [==============================] - 0s 2ms/step - loss: 15.4537 - mse: 347.2169\n",
      "Epoch 156/500\n",
      "2/2 [==============================] - 0s 1ms/step - loss: 17.0174 - mse: 438.8493\n",
      "Epoch 157/500\n",
      "2/2 [==============================] - 0s 1ms/step - loss: 32.8218 - mse: 1744.8152\n",
      "Epoch 158/500\n",
      "2/2 [==============================] - 0s 3ms/step - loss: 10.7038 - mse: 151.0814\n",
      "Epoch 159/500\n",
      "2/2 [==============================] - 0s 1ms/step - loss: 8.9054 - mse: 97.7705\n",
      "Epoch 160/500\n",
      "2/2 [==============================] - 0s 1ms/step - loss: 22.1321 - mse: 709.4399\n",
      "Epoch 161/500\n",
      "2/2 [==============================] - 0s 2ms/step - loss: 11.7113 - mse: 202.9613\n",
      "Epoch 162/500\n",
      "2/2 [==============================] - 0s 1ms/step - loss: 21.5734 - mse: 670.2867\n",
      "Epoch 163/500\n",
      "2/2 [==============================] - 0s 2ms/step - loss: 19.2485 - mse: 533.4080\n",
      "Epoch 164/500\n",
      "2/2 [==============================] - 0s 2ms/step - loss: 11.0156 - mse: 177.6828\n",
      "Epoch 165/500\n",
      "2/2 [==============================] - 0s 1ms/step - loss: 9.6187 - mse: 179.8634\n",
      "Epoch 166/500\n",
      "2/2 [==============================] - 0s 1ms/step - loss: 21.5908 - mse: 681.9664\n",
      "Epoch 167/500\n",
      "2/2 [==============================] - 0s 1ms/step - loss: 26.2851 - mse: 1048.8455\n",
      "Epoch 168/500\n",
      "2/2 [==============================] - 0s 2ms/step - loss: 9.8525 - mse: 118.2892\n",
      "Epoch 169/500\n",
      "2/2 [==============================] - 0s 999us/step - loss: 22.5631 - mse: 787.0594\n",
      "Epoch 170/500\n"
     ]
    },
    {
     "name": "stdout",
     "output_type": "stream",
     "text": [
      "2/2 [==============================] - 0s 1ms/step - loss: 10.1499 - mse: 195.9051\n",
      "Epoch 171/500\n",
      "2/2 [==============================] - 0s 4ms/step - loss: 18.0464 - mse: 503.4531\n",
      "Epoch 172/500\n",
      "2/2 [==============================] - 0s 1ms/step - loss: 28.8377 - mse: 1305.7992\n",
      "Epoch 173/500\n",
      "2/2 [==============================] - 0s 1ms/step - loss: 16.5280 - mse: 432.1444\n",
      "Epoch 174/500\n",
      "2/2 [==============================] - 0s 1ms/step - loss: 11.2115 - mse: 199.9692\n",
      "Epoch 175/500\n",
      "2/2 [==============================] - 0s 1ms/step - loss: 27.5839 - mse: 1097.8187\n",
      "Epoch 176/500\n",
      "2/2 [==============================] - 0s 2ms/step - loss: 8.2680 - mse: 77.5372\n",
      "Epoch 177/500\n",
      "2/2 [==============================] - 0s 1ms/step - loss: 9.2580 - mse: 108.9075\n",
      "Epoch 178/500\n",
      "2/2 [==============================] - 0s 1ms/step - loss: 18.1440 - mse: 466.0514\n",
      "Epoch 179/500\n",
      "2/2 [==============================] - 0s 2ms/step - loss: 10.5995 - mse: 147.8543\n",
      "Epoch 180/500\n",
      "2/2 [==============================] - 0s 1ms/step - loss: 7.8992 - mse: 100.6932\n",
      "Epoch 181/500\n",
      "2/2 [==============================] - 0s 1ms/step - loss: 17.4015 - mse: 438.6036\n",
      "Epoch 182/500\n",
      "2/2 [==============================] - ETA: 0s - loss: 9.1552 - mse: 95.46 - 0s 2ms/step - loss: 11.0089 - mse: 157.1596\n",
      "Epoch 183/500\n",
      "2/2 [==============================] - 0s 1ms/step - loss: 11.7027 - mse: 203.9956\n",
      "Epoch 184/500\n",
      "2/2 [==============================] - 0s 1000us/step - loss: 30.4062 - mse: 1387.3848\n",
      "Epoch 185/500\n",
      "2/2 [==============================] - 0s 2ms/step - loss: 7.5557 - mse: 98.6847\n",
      "Epoch 186/500\n",
      "2/2 [==============================] - 0s 2ms/step - loss: 15.9905 - mse: 369.3700\n",
      "Epoch 187/500\n",
      "2/2 [==============================] - 0s 2ms/step - loss: 8.5579 - mse: 85.4846\n",
      "Epoch 188/500\n",
      "2/2 [==============================] - 0s 2ms/step - loss: 28.7339 - mse: 1175.7061\n",
      "Epoch 189/500\n",
      "2/2 [==============================] - 0s 2ms/step - loss: 13.1689 - mse: 271.3447\n",
      "Epoch 190/500\n",
      "2/2 [==============================] - 0s 1ms/step - loss: 18.3101 - mse: 512.5546\n",
      "Epoch 191/500\n",
      "2/2 [==============================] - 0s 999us/step - loss: 13.7376 - mse: 264.9675\n",
      "Epoch 192/500\n",
      "2/2 [==============================] - 0s 3ms/step - loss: 13.7104 - mse: 261.0630\n",
      "Epoch 193/500\n",
      "2/2 [==============================] - 0s 2ms/step - loss: 28.5842 - mse: 1135.1305\n",
      "Epoch 194/500\n",
      "2/2 [==============================] - 0s 999us/step - loss: 7.0707 - mse: 78.6824\n",
      "Epoch 195/500\n",
      "2/2 [==============================] - 0s 1ms/step - loss: 7.0550 - mse: 74.9454\n",
      "Epoch 196/500\n",
      "2/2 [==============================] - 0s 2ms/step - loss: 22.0067 - mse: 709.4540\n",
      "Epoch 197/500\n",
      "2/2 [==============================] - 0s 4ms/step - loss: 20.8443 - mse: 643.6119\n",
      "Epoch 198/500\n",
      "2/2 [==============================] - 0s 2ms/step - loss: 12.4713 - mse: 236.5509\n",
      "Epoch 199/500\n",
      "2/2 [==============================] - 0s 4ms/step - loss: 17.9099 - mse: 460.3528\n",
      "Epoch 200/500\n",
      "2/2 [==============================] - 0s 1ms/step - loss: 13.7493 - mse: 282.2667\n",
      "Epoch 201/500\n",
      "2/2 [==============================] - 0s 3ms/step - loss: 5.4687 - mse: 41.0883\n",
      "Epoch 202/500\n",
      "2/2 [==============================] - 0s 4ms/step - loss: 13.7005 - mse: 293.8445\n",
      "Epoch 203/500\n",
      "2/2 [==============================] - 0s 2ms/step - loss: 9.4142 - mse: 139.9066\n",
      "Epoch 204/500\n",
      "2/2 [==============================] - 0s 4ms/step - loss: 20.9796 - mse: 656.2624\n",
      "Epoch 205/500\n",
      "2/2 [==============================] - 0s 1ms/step - loss: 9.5470 - mse: 127.9145\n",
      "Epoch 206/500\n",
      "2/2 [==============================] - 0s 2ms/step - loss: 11.7256 - mse: 195.6239\n",
      "Epoch 207/500\n",
      "2/2 [==============================] - 0s 2ms/step - loss: 14.3772 - mse: 317.1676\n",
      "Epoch 208/500\n",
      "2/2 [==============================] - 0s 1ms/step - loss: 14.8579 - mse: 323.1452\n",
      "Epoch 209/500\n",
      "2/2 [==============================] - 0s 999us/step - loss: 14.9706 - mse: 345.7375\n",
      "Epoch 210/500\n",
      "2/2 [==============================] - 0s 3ms/step - loss: 17.8998 - mse: 467.4643\n",
      "Epoch 211/500\n",
      "2/2 [==============================] - 0s 1ms/step - loss: 9.8327 - mse: 145.8636\n",
      "Epoch 212/500\n",
      "2/2 [==============================] - 0s 3ms/step - loss: 18.3352 - mse: 507.7762\n",
      "Epoch 213/500\n",
      "2/2 [==============================] - 0s 1ms/step - loss: 15.0383 - mse: 307.6408\n",
      "Epoch 214/500\n",
      "2/2 [==============================] - 0s 2ms/step - loss: 14.5874 - mse: 293.5643\n",
      "Epoch 215/500\n",
      "2/2 [==============================] - 0s 1ms/step - loss: 23.3015 - mse: 799.4149\n",
      "Epoch 216/500\n",
      "2/2 [==============================] - 0s 3ms/step - loss: 13.3613 - mse: 278.0948\n",
      "Epoch 217/500\n",
      "2/2 [==============================] - 0s 1ms/step - loss: 9.8517 - mse: 136.3091\n",
      "Epoch 218/500\n",
      "2/2 [==============================] - 0s 3ms/step - loss: 12.5451 - mse: 206.5810\n",
      "Epoch 219/500\n",
      "2/2 [==============================] - 0s 1ms/step - loss: 4.9472 - mse: 37.4063\n",
      "Epoch 220/500\n",
      "2/2 [==============================] - 0s 3ms/step - loss: 7.1130 - mse: 57.5580\n",
      "Epoch 221/500\n",
      "2/2 [==============================] - 0s 1ms/step - loss: 35.4567 - mse: 2108.1006\n",
      "Epoch 222/500\n",
      "2/2 [==============================] - 0s 1000us/step - loss: 34.8634 - mse: 1966.9600\n",
      "Epoch 223/500\n",
      "2/2 [==============================] - 0s 1ms/step - loss: 7.9846 - mse: 119.7548\n",
      "Epoch 224/500\n",
      "2/2 [==============================] - 0s 2ms/step - loss: 14.7004 - mse: 318.5026\n",
      "Epoch 225/500\n",
      "2/2 [==============================] - 0s 999us/step - loss: 16.7196 - mse: 360.6417\n",
      "Epoch 226/500\n",
      "2/2 [==============================] - 0s 1ms/step - loss: 15.9329 - mse: 369.8892\n",
      "Epoch 227/500\n",
      "2/2 [==============================] - 0s 3ms/step - loss: 16.1644 - mse: 369.5818\n",
      "Epoch 228/500\n",
      "2/2 [==============================] - 0s 998us/step - loss: 13.9324 - mse: 282.1422\n",
      "Epoch 229/500\n",
      "2/2 [==============================] - 0s 3ms/step - loss: 18.0504 - mse: 457.4228\n",
      "Epoch 230/500\n",
      "2/2 [==============================] - 0s 1ms/step - loss: 15.6120 - mse: 314.6218\n",
      "Epoch 231/500\n",
      "2/2 [==============================] - 0s 5ms/step - loss: 21.2041 - mse: 670.7589\n",
      "Epoch 232/500\n",
      "2/2 [==============================] - 0s 3ms/step - loss: 25.2732 - mse: 913.5802\n",
      "Epoch 233/500\n",
      "2/2 [==============================] - 0s 2ms/step - loss: 16.3176 - mse: 387.7157\n",
      "Epoch 234/500\n",
      "2/2 [==============================] - 0s 2ms/step - loss: 7.2729 - mse: 66.5098\n",
      "Epoch 235/500\n",
      "2/2 [==============================] - 0s 4ms/step - loss: 16.9688 - mse: 403.1293\n",
      "Epoch 236/500\n",
      "2/2 [==============================] - 0s 2ms/step - loss: 7.1225 - mse: 69.7516\n",
      "Epoch 237/500\n",
      "2/2 [==============================] - 0s 3ms/step - loss: 9.2058 - mse: 118.9100\n",
      "Epoch 238/500\n",
      "2/2 [==============================] - 0s 5ms/step - loss: 8.0961 - mse: 86.7115\n",
      "Epoch 239/500\n",
      "2/2 [==============================] - 0s 2ms/step - loss: 17.0538 - mse: 438.0265\n",
      "Epoch 240/500\n",
      "2/2 [==============================] - 0s 1ms/step - loss: 8.8627 - mse: 107.8191\n",
      "Epoch 241/500\n",
      "2/2 [==============================] - 0s 1ms/step - loss: 13.1711 - mse: 273.2420\n",
      "Epoch 242/500\n",
      "2/2 [==============================] - 0s 999us/step - loss: 8.7886 - mse: 104.8365\n",
      "Epoch 243/500\n",
      "2/2 [==============================] - 0s 5ms/step - loss: 18.8161 - mse: 541.4709\n",
      "Epoch 244/500\n",
      "2/2 [==============================] - 0s 1ms/step - loss: 14.0531 - mse: 275.3817\n",
      "Epoch 245/500\n",
      "2/2 [==============================] - 0s 1ms/step - loss: 14.6831 - mse: 290.1829\n",
      "Epoch 246/500\n",
      "2/2 [==============================] - 0s 3ms/step - loss: 15.8045 - mse: 370.7156\n",
      "Epoch 247/500\n",
      "2/2 [==============================] - 0s 1ms/step - loss: 17.6810 - mse: 421.4948\n",
      "Epoch 248/500\n",
      "2/2 [==============================] - 0s 2ms/step - loss: 13.2367 - mse: 251.7198\n",
      "Epoch 249/500\n",
      "2/2 [==============================] - 0s 1ms/step - loss: 14.5070 - mse: 288.7693\n",
      "Epoch 250/500\n",
      "2/2 [==============================] - 0s 1ms/step - loss: 23.2322 - mse: 793.2505\n",
      "Epoch 251/500\n",
      "2/2 [==============================] - 0s 2ms/step - loss: 9.3009 - mse: 119.0355\n",
      "Epoch 252/500\n",
      "2/2 [==============================] - 0s 999us/step - loss: 36.6568 - mse: 2195.6155\n",
      "Epoch 253/500\n",
      "2/2 [==============================] - 0s 2ms/step - loss: 21.8205 - mse: 667.9622\n",
      "Epoch 254/500\n"
     ]
    },
    {
     "name": "stdout",
     "output_type": "stream",
     "text": [
      "2/2 [==============================] - 0s 2ms/step - loss: 7.2792 - mse: 77.8094\n",
      "Epoch 255/500\n",
      "2/2 [==============================] - 0s 2ms/step - loss: 24.7126 - mse: 882.9651\n",
      "Epoch 256/500\n",
      "2/2 [==============================] - ETA: 0s - loss: 9.9454 - mse: 137.306 - 0s 2ms/step - loss: 12.4220 - mse: 220.3513\n",
      "Epoch 257/500\n",
      "2/2 [==============================] - 0s 1ms/step - loss: 10.5823 - mse: 164.0438\n",
      "Epoch 258/500\n",
      "2/2 [==============================] - 0s 3ms/step - loss: 14.4883 - mse: 322.3508\n",
      "Epoch 259/500\n",
      "2/2 [==============================] - 0s 1ms/step - loss: 8.6132 - mse: 98.6931\n",
      "Epoch 260/500\n",
      "2/2 [==============================] - 0s 1ms/step - loss: 43.0580 - mse: 2975.2290\n",
      "Epoch 261/500\n",
      "2/2 [==============================] - 0s 4ms/step - loss: 18.4611 - mse: 493.6656\n",
      "Epoch 262/500\n",
      "2/2 [==============================] - 0s 2ms/step - loss: 6.8820 - mse: 94.3407\n",
      "Epoch 263/500\n",
      "2/2 [==============================] - 0s 3ms/step - loss: 13.7211 - mse: 268.5680\n",
      "Epoch 264/500\n",
      "2/2 [==============================] - 0s 5ms/step - loss: 21.0154 - mse: 653.9620\n",
      "Epoch 265/500\n",
      "2/2 [==============================] - 0s 2ms/step - loss: 19.3730 - mse: 545.6235\n",
      "Epoch 266/500\n",
      "2/2 [==============================] - 0s 3ms/step - loss: 11.4735 - mse: 234.7202\n",
      "Epoch 267/500\n",
      "2/2 [==============================] - 0s 2ms/step - loss: 7.5302 - mse: 112.0906\n",
      "Epoch 268/500\n",
      "2/2 [==============================] - 0s 4ms/step - loss: 21.6453 - mse: 670.2257\n",
      "Epoch 269/500\n",
      "2/2 [==============================] - 0s 2ms/step - loss: 33.1785 - mse: 1653.7346\n",
      "Epoch 270/500\n",
      "2/2 [==============================] - 0s 1ms/step - loss: 10.0833 - mse: 148.7349\n",
      "Epoch 271/500\n",
      "2/2 [==============================] - 0s 3ms/step - loss: 12.1012 - mse: 303.1721\n",
      "Epoch 272/500\n",
      "2/2 [==============================] - 0s 1ms/step - loss: 26.1372 - mse: 944.6783\n",
      "Epoch 273/500\n",
      "2/2 [==============================] - 0s 2ms/step - loss: 12.1751 - mse: 228.8029\n",
      "Epoch 274/500\n",
      "2/2 [==============================] - 0s 1ms/step - loss: 13.3272 - mse: 282.3030\n",
      "Epoch 275/500\n",
      "2/2 [==============================] - 0s 1ms/step - loss: 29.3775 - mse: 1229.1169\n",
      "Epoch 276/500\n",
      "2/2 [==============================] - 0s 3ms/step - loss: 7.3329 - mse: 104.3414\n",
      "Epoch 277/500\n",
      "2/2 [==============================] - 0s 3ms/step - loss: 31.1362 - mse: 1360.7686\n",
      "Epoch 278/500\n",
      "2/2 [==============================] - 0s 2ms/step - loss: 12.3016 - mse: 234.6619\n",
      "Epoch 279/500\n",
      "2/2 [==============================] - 0s 2ms/step - loss: 16.4103 - mse: 416.9119\n",
      "Epoch 280/500\n",
      "2/2 [==============================] - 0s 2ms/step - loss: 21.9118 - mse: 716.7850\n",
      "Epoch 281/500\n",
      "2/2 [==============================] - 0s 2ms/step - loss: 22.1500 - mse: 745.2045\n",
      "Epoch 282/500\n",
      "2/2 [==============================] - 0s 2ms/step - loss: 7.7429 - mse: 90.5224\n",
      "Epoch 283/500\n",
      "2/2 [==============================] - 0s 1ms/step - loss: 8.1429 - mse: 87.9049\n",
      "Epoch 284/500\n",
      "2/2 [==============================] - 0s 1ms/step - loss: 24.9434 - mse: 936.1583\n",
      "Epoch 285/500\n",
      "2/2 [==============================] - 0s 1ms/step - loss: 13.6958 - mse: 299.3606\n",
      "Epoch 286/500\n",
      "2/2 [==============================] - 0s 2ms/step - loss: 6.8926 - mse: 81.2997\n",
      "Epoch 287/500\n",
      "2/2 [==============================] - 0s 1ms/step - loss: 24.5352 - mse: 862.2885\n",
      "Epoch 288/500\n",
      "2/2 [==============================] - 0s 1ms/step - loss: 20.1721 - mse: 605.2863\n",
      "Epoch 289/500\n",
      "2/2 [==============================] - 0s 2ms/step - loss: 11.9658 - mse: 244.8305\n",
      "Epoch 290/500\n",
      "2/2 [==============================] - 0s 3ms/step - loss: 16.5391 - mse: 366.5722\n",
      "Epoch 291/500\n",
      "2/2 [==============================] - 0s 2ms/step - loss: 16.8017 - mse: 414.8180\n",
      "Epoch 292/500\n",
      "2/2 [==============================] - 0s 3ms/step - loss: 9.4642 - mse: 213.4542\n",
      "Epoch 293/500\n",
      "2/2 [==============================] - 0s 2ms/step - loss: 15.2711 - mse: 318.1686\n",
      "Epoch 294/500\n",
      "2/2 [==============================] - 0s 2ms/step - loss: 22.7179 - mse: 780.8715\n",
      "Epoch 295/500\n",
      "2/2 [==============================] - 0s 1ms/step - loss: 17.9234 - mse: 458.5727\n",
      "Epoch 296/500\n",
      "2/2 [==============================] - 0s 3ms/step - loss: 6.1742 - mse: 59.0634\n",
      "Epoch 297/500\n",
      "2/2 [==============================] - 0s 1ms/step - loss: 10.9440 - mse: 254.2859\n",
      "Epoch 298/500\n",
      "2/2 [==============================] - 0s 3ms/step - loss: 23.1530 - mse: 785.9871\n",
      "Epoch 299/500\n",
      "2/2 [==============================] - 0s 1ms/step - loss: 17.7331 - mse: 469.9261\n",
      "Epoch 300/500\n",
      "2/2 [==============================] - 0s 1ms/step - loss: 6.9824 - mse: 65.0501\n",
      "Epoch 301/500\n",
      "2/2 [==============================] - 0s 1ms/step - loss: 25.1857 - mse: 898.2772\n",
      "Epoch 302/500\n",
      "2/2 [==============================] - 0s 2ms/step - loss: 8.9025 - mse: 116.0075\n",
      "Epoch 303/500\n",
      "2/2 [==============================] - 0s 1ms/step - loss: 17.7668 - mse: 461.9366\n",
      "Epoch 304/500\n",
      "2/2 [==============================] - 0s 1ms/step - loss: 11.0002 - mse: 173.9247\n",
      "Epoch 305/500\n",
      "2/2 [==============================] - 0s 2ms/step - loss: 12.9191 - mse: 271.8379\n",
      "Epoch 306/500\n",
      "2/2 [==============================] - 0s 2ms/step - loss: 8.4033 - mse: 94.4443\n",
      "Epoch 307/500\n",
      "2/2 [==============================] - 0s 1ms/step - loss: 13.6094 - mse: 279.1168\n",
      "Epoch 308/500\n",
      "2/2 [==============================] - 0s 1ms/step - loss: 7.4404 - mse: 78.3838\n",
      "Epoch 309/500\n",
      "2/2 [==============================] - 0s 1ms/step - loss: 9.4642 - mse: 138.8856\n",
      "Epoch 310/500\n",
      "2/2 [==============================] - 0s 2ms/step - loss: 10.7099 - mse: 198.2183\n",
      "Epoch 311/500\n",
      "2/2 [==============================] - 0s 999us/step - loss: 13.2814 - mse: 254.2446\n",
      "Epoch 312/500\n",
      "2/2 [==============================] - 0s 2ms/step - loss: 29.9763 - mse: 1241.6277\n",
      "Epoch 313/500\n",
      "2/2 [==============================] - 0s 4ms/step - loss: 7.6304 - mse: 104.4099\n",
      "Epoch 314/500\n",
      "2/2 [==============================] - 0s 2ms/step - loss: 9.9106 - mse: 239.5552\n",
      "Epoch 315/500\n",
      "2/2 [==============================] - 0s 1ms/step - loss: 23.7669 - mse: 820.7440\n",
      "Epoch 316/500\n",
      "2/2 [==============================] - 0s 999us/step - loss: 16.3936 - mse: 404.4792\n",
      "Epoch 317/500\n",
      "2/2 [==============================] - 0s 3ms/step - loss: 21.0758 - mse: 606.4598\n",
      "Epoch 318/500\n",
      "2/2 [==============================] - 0s 2ms/step - loss: 7.9367 - mse: 81.3764\n",
      "Epoch 319/500\n",
      "2/2 [==============================] - 0s 1ms/step - loss: 17.9731 - mse: 479.6086\n",
      "Epoch 320/500\n",
      "2/2 [==============================] - 0s 1ms/step - loss: 10.2375 - mse: 174.0453\n",
      "Epoch 321/500\n",
      "2/2 [==============================] - 0s 2ms/step - loss: 8.3338 - mse: 110.8493\n",
      "Epoch 322/500\n",
      "2/2 [==============================] - 0s 4ms/step - loss: 5.0621 - mse: 39.6195\n",
      "Epoch 323/500\n",
      "2/2 [==============================] - 0s 1ms/step - loss: 23.5109 - mse: 802.4886\n",
      "Epoch 324/500\n",
      "2/2 [==============================] - 0s 1ms/step - loss: 6.8309 - mse: 57.6745\n",
      "Epoch 325/500\n",
      "2/2 [==============================] - 0s 1ms/step - loss: 16.3863 - mse: 384.4402\n",
      "Epoch 326/500\n",
      "2/2 [==============================] - 0s 1ms/step - loss: 7.5019 - mse: 78.7650\n",
      "Epoch 327/500\n",
      "2/2 [==============================] - 0s 2ms/step - loss: 20.0573 - mse: 568.8239\n",
      "Epoch 328/500\n",
      "2/2 [==============================] - 0s 2ms/step - loss: 13.7661 - mse: 265.8646\n",
      "Epoch 329/500\n",
      "2/2 [==============================] - 0s 1000us/step - loss: 16.8282 - mse: 430.9921\n",
      "Epoch 330/500\n",
      "2/2 [==============================] - 0s 3ms/step - loss: 7.0514 - mse: 81.9922\n",
      "Epoch 331/500\n",
      "2/2 [==============================] - 0s 1ms/step - loss: 21.4846 - mse: 704.3916\n",
      "Epoch 332/500\n",
      "2/2 [==============================] - 0s 1ms/step - loss: 12.2880 - mse: 236.5700\n",
      "Epoch 333/500\n",
      "2/2 [==============================] - 0s 2ms/step - loss: 11.8117 - mse: 222.0920\n",
      "Epoch 334/500\n",
      "2/2 [==============================] - 0s 1ms/step - loss: 8.3600 - mse: 169.8893\n",
      "Epoch 335/500\n",
      "2/2 [==============================] - 0s 1ms/step - loss: 12.4833 - mse: 276.8587\n",
      "Epoch 336/500\n",
      "2/2 [==============================] - 0s 1ms/step - loss: 32.2171 - mse: 1416.1726\n",
      "Epoch 337/500\n",
      "2/2 [==============================] - 0s 1ms/step - loss: 10.4477 - mse: 180.3261\n",
      "Epoch 338/500\n"
     ]
    },
    {
     "name": "stdout",
     "output_type": "stream",
     "text": [
      "2/2 [==============================] - 0s 999us/step - loss: 19.6832 - mse: 573.4708\n",
      "Epoch 339/500\n",
      "2/2 [==============================] - 0s 1ms/step - loss: 35.0762 - mse: 1849.1559\n",
      "Epoch 340/500\n",
      "2/2 [==============================] - 0s 2ms/step - loss: 10.4192 - mse: 181.4145\n",
      "Epoch 341/500\n",
      "2/2 [==============================] - 0s 2ms/step - loss: 9.7625 - mse: 156.3231\n",
      "Epoch 342/500\n",
      "2/2 [==============================] - 0s 1ms/step - loss: 11.9500 - mse: 188.5578\n",
      "Epoch 343/500\n",
      "2/2 [==============================] - 0s 1000us/step - loss: 9.3943 - mse: 145.3949\n",
      "Epoch 344/500\n",
      "2/2 [==============================] - 0s 999us/step - loss: 5.6071 - mse: 44.6760\n",
      "Epoch 345/500\n",
      "2/2 [==============================] - 0s 3ms/step - loss: 37.4876 - mse: 2291.7803\n",
      "Epoch 346/500\n",
      "2/2 [==============================] - 0s 999us/step - loss: 16.8830 - mse: 411.1354\n",
      "Epoch 347/500\n",
      "2/2 [==============================] - 0s 3ms/step - loss: 12.8748 - mse: 281.5984\n",
      "Epoch 348/500\n",
      "2/2 [==============================] - 0s 999us/step - loss: 8.1960 - mse: 162.6964\n",
      "Epoch 349/500\n",
      "2/2 [==============================] - 0s 1ms/step - loss: 13.5568 - mse: 261.1368\n",
      "Epoch 350/500\n",
      "2/2 [==============================] - 0s 2ms/step - loss: 15.4354 - mse: 333.2079\n",
      "Epoch 351/500\n",
      "2/2 [==============================] - 0s 1ms/step - loss: 32.9626 - mse: 1524.7930\n",
      "Epoch 352/500\n",
      "2/2 [==============================] - 0s 3ms/step - loss: 14.2040 - mse: 282.7505\n",
      "Epoch 353/500\n",
      "2/2 [==============================] - 0s 2ms/step - loss: 15.9196 - mse: 374.1913\n",
      "Epoch 354/500\n",
      "2/2 [==============================] - 0s 1ms/step - loss: 19.0878 - mse: 534.9767\n",
      "Epoch 355/500\n",
      "2/2 [==============================] - 0s 1ms/step - loss: 34.1178 - mse: 1782.7047\n",
      "Epoch 356/500\n",
      "2/2 [==============================] - 0s 2ms/step - loss: 7.6798 - mse: 90.9119\n",
      "Epoch 357/500\n",
      "2/2 [==============================] - 0s 3ms/step - loss: 25.2287 - mse: 974.0955\n",
      "Epoch 358/500\n",
      "2/2 [==============================] - 0s 999us/step - loss: 22.6759 - mse: 742.0947\n",
      "Epoch 359/500\n",
      "2/2 [==============================] - 0s 3ms/step - loss: 8.8765 - mse: 198.2594\n",
      "Epoch 360/500\n",
      "2/2 [==============================] - 0s 2ms/step - loss: 21.4709 - mse: 687.3273\n",
      "Epoch 361/500\n",
      "2/2 [==============================] - 0s 2ms/step - loss: 20.6073 - mse: 616.7955\n",
      "Epoch 362/500\n",
      "2/2 [==============================] - 0s 999us/step - loss: 7.0611 - mse: 69.3817\n",
      "Epoch 363/500\n",
      "2/2 [==============================] - 0s 2ms/step - loss: 25.8117 - mse: 994.8207\n",
      "Epoch 364/500\n",
      "2/2 [==============================] - 0s 1ms/step - loss: 32.2247 - mse: 1527.6089\n",
      "Epoch 365/500\n",
      "2/2 [==============================] - 0s 1ms/step - loss: 10.0205 - mse: 161.6851\n",
      "Epoch 366/500\n",
      "2/2 [==============================] - 0s 2ms/step - loss: 9.6722 - mse: 227.5728\n",
      "Epoch 367/500\n",
      "2/2 [==============================] - 0s 1ms/step - loss: 30.4171 - mse: 1294.6041\n",
      "Epoch 368/500\n",
      "2/2 [==============================] - 0s 2ms/step - loss: 10.5020 - mse: 236.3137\n",
      "Epoch 369/500\n",
      "2/2 [==============================] - 0s 2ms/step - loss: 14.9909 - mse: 330.8540\n",
      "Epoch 370/500\n",
      "2/2 [==============================] - 0s 3ms/step - loss: 14.6580 - mse: 308.0733\n",
      "Epoch 371/500\n",
      "2/2 [==============================] - 0s 2ms/step - loss: 23.3672 - mse: 789.0350\n",
      "Epoch 372/500\n",
      "2/2 [==============================] - 0s 2ms/step - loss: 13.1025 - mse: 290.2273\n",
      "Epoch 373/500\n",
      "2/2 [==============================] - 0s 1ms/step - loss: 9.2586 - mse: 140.7055\n",
      "Epoch 374/500\n",
      "2/2 [==============================] - 0s 2ms/step - loss: 9.6648 - mse: 194.1148\n",
      "Epoch 375/500\n",
      "2/2 [==============================] - 0s 1ms/step - loss: 13.0041 - mse: 237.9866\n",
      "Epoch 376/500\n",
      "2/2 [==============================] - 0s 1ms/step - loss: 14.8863 - mse: 324.7534\n",
      "Epoch 377/500\n",
      "2/2 [==============================] - 0s 1ms/step - loss: 14.7932 - mse: 297.2056\n",
      "Epoch 378/500\n",
      "2/2 [==============================] - 0s 2ms/step - loss: 16.2751 - mse: 418.5629\n",
      "Epoch 379/500\n",
      "2/2 [==============================] - 0s 2ms/step - loss: 20.8307 - mse: 596.8128\n",
      "Epoch 380/500\n",
      "2/2 [==============================] - 0s 1ms/step - loss: 33.5318 - mse: 1684.8971\n",
      "Epoch 381/500\n",
      "2/2 [==============================] - 0s 1ms/step - loss: 8.2166 - mse: 100.6387\n",
      "Epoch 382/500\n",
      "2/2 [==============================] - 0s 2ms/step - loss: 13.0960 - mse: 282.0389\n",
      "Epoch 383/500\n",
      "2/2 [==============================] - 0s 1ms/step - loss: 8.3999 - mse: 126.0927\n",
      "Epoch 384/500\n",
      "2/2 [==============================] - 0s 1ms/step - loss: 7.1283 - mse: 72.4400\n",
      "Epoch 385/500\n",
      "2/2 [==============================] - 0s 999us/step - loss: 10.9390 - mse: 249.4379\n",
      "Epoch 386/500\n",
      "2/2 [==============================] - 0s 2ms/step - loss: 19.7654 - mse: 601.5789\n",
      "Epoch 387/500\n",
      "2/2 [==============================] - 0s 1ms/step - loss: 24.8625 - mse: 896.3714\n",
      "Epoch 388/500\n",
      "2/2 [==============================] - 0s 3ms/step - loss: 8.7422 - mse: 128.0919\n",
      "Epoch 389/500\n",
      "2/2 [==============================] - 0s 1ms/step - loss: 5.9488 - mse: 48.1570\n",
      "Epoch 390/500\n",
      "2/2 [==============================] - 0s 999us/step - loss: 24.4401 - mse: 881.1058\n",
      "Epoch 391/500\n",
      "2/2 [==============================] - 0s 2ms/step - loss: 5.9771 - mse: 73.2798\n",
      "Epoch 392/500\n",
      "2/2 [==============================] - 0s 999us/step - loss: 16.3250 - mse: 379.2600\n",
      "Epoch 393/500\n",
      "2/2 [==============================] - 0s 1ms/step - loss: 6.0917 - mse: 76.7832\n",
      "Epoch 394/500\n",
      "2/2 [==============================] - 0s 999us/step - loss: 11.0963 - mse: 204.7653\n",
      "Epoch 395/500\n",
      "2/2 [==============================] - 0s 1ms/step - loss: 14.9601 - mse: 336.1571\n",
      "Epoch 396/500\n",
      "2/2 [==============================] - 0s 2ms/step - loss: 7.6462 - mse: 103.3248\n",
      "Epoch 397/500\n",
      "2/2 [==============================] - 0s 1ms/step - loss: 8.7654 - mse: 136.5435\n",
      "Epoch 398/500\n",
      "2/2 [==============================] - 0s 3ms/step - loss: 14.5992 - mse: 320.4543\n",
      "Epoch 399/500\n",
      "2/2 [==============================] - 0s 1ms/step - loss: 11.3166 - mse: 280.6894\n",
      "Epoch 400/500\n",
      "2/2 [==============================] - 0s 1ms/step - loss: 21.9080 - mse: 741.3456\n",
      "Epoch 401/500\n",
      "2/2 [==============================] - 0s 2ms/step - loss: 14.8654 - mse: 348.6730\n",
      "Epoch 402/500\n",
      "2/2 [==============================] - 0s 1ms/step - loss: 8.4970 - mse: 115.5855\n",
      "Epoch 403/500\n",
      "2/2 [==============================] - 0s 1ms/step - loss: 10.3957 - mse: 191.0405\n",
      "Epoch 404/500\n",
      "2/2 [==============================] - 0s 2ms/step - loss: 10.2556 - mse: 207.5720\n",
      "Epoch 405/500\n",
      "2/2 [==============================] - 0s 2ms/step - loss: 6.3392 - mse: 68.2857\n",
      "Epoch 406/500\n",
      "2/2 [==============================] - 0s 1ms/step - loss: 17.4602 - mse: 460.2060\n",
      "Epoch 407/500\n",
      "2/2 [==============================] - 0s 2ms/step - loss: 11.4627 - mse: 284.7281\n",
      "Epoch 408/500\n",
      "2/2 [==============================] - 0s 2ms/step - loss: 20.7294 - mse: 662.1494\n",
      "Epoch 409/500\n",
      "2/2 [==============================] - 0s 1ms/step - loss: 31.3339 - mse: 1522.7717\n",
      "Epoch 410/500\n",
      "2/2 [==============================] - 0s 999us/step - loss: 9.2542 - mse: 221.9491\n",
      "Epoch 411/500\n",
      "2/2 [==============================] - 0s 3ms/step - loss: 14.8621 - mse: 285.8413\n",
      "Epoch 412/500\n",
      "2/2 [==============================] - 0s 1ms/step - loss: 21.7182 - mse: 721.0385\n",
      "Epoch 413/500\n",
      "2/2 [==============================] - 0s 1ms/step - loss: 12.6615 - mse: 248.9699\n",
      "Epoch 414/500\n",
      "2/2 [==============================] - 0s 1ms/step - loss: 6.0687 - mse: 88.3709\n",
      "Epoch 415/500\n",
      "2/2 [==============================] - 0s 2ms/step - loss: 13.2201 - mse: 239.8953\n",
      "Epoch 416/500\n",
      "2/2 [==============================] - 0s 1ms/step - loss: 27.4244 - mse: 1037.9574\n",
      "Epoch 417/500\n",
      "2/2 [==============================] - 0s 1ms/step - loss: 10.6407 - mse: 207.4824\n",
      "Epoch 418/500\n",
      "2/2 [==============================] - 0s 999us/step - loss: 12.8230 - mse: 236.7906\n",
      "Epoch 419/500\n",
      "2/2 [==============================] - 0s 1ms/step - loss: 15.8836 - mse: 374.5479\n",
      "Epoch 420/500\n",
      "2/2 [==============================] - 0s 1ms/step - loss: 24.7510 - mse: 849.5324\n",
      "Epoch 421/500\n",
      "2/2 [==============================] - 0s 1ms/step - loss: 17.3753 - mse: 444.1840\n",
      "Epoch 422/500\n"
     ]
    },
    {
     "name": "stdout",
     "output_type": "stream",
     "text": [
      "2/2 [==============================] - 0s 3ms/step - loss: 7.8241 - mse: 157.5332\n",
      "Epoch 423/500\n",
      "2/2 [==============================] - 0s 2ms/step - loss: 25.3789 - mse: 907.6134\n",
      "Epoch 424/500\n",
      "2/2 [==============================] - 0s 1ms/step - loss: 15.1031 - mse: 369.3296\n",
      "Epoch 425/500\n",
      "2/2 [==============================] - 0s 2ms/step - loss: 7.1643 - mse: 75.3718\n",
      "Epoch 426/500\n",
      "2/2 [==============================] - 0s 1ms/step - loss: 20.3318 - mse: 572.0366\n",
      "Epoch 427/500\n",
      "2/2 [==============================] - 0s 1ms/step - loss: 6.3283 - mse: 84.9744\n",
      "Epoch 428/500\n",
      "2/2 [==============================] - 0s 3ms/step - loss: 12.9962 - mse: 288.4222\n",
      "Epoch 429/500\n",
      "2/2 [==============================] - 0s 1ms/step - loss: 10.7869 - mse: 192.7745\n",
      "Epoch 430/500\n",
      "2/2 [==============================] - 0s 1ms/step - loss: 11.4007 - mse: 248.2727\n",
      "Epoch 431/500\n",
      "2/2 [==============================] - 0s 1ms/step - loss: 10.6153 - mse: 218.3400\n",
      "Epoch 432/500\n",
      "2/2 [==============================] - 0s 3ms/step - loss: 11.4582 - mse: 239.2202\n",
      "Epoch 433/500\n",
      "2/2 [==============================] - 0s 1ms/step - loss: 11.3851 - mse: 296.6790\n",
      "Epoch 434/500\n",
      "2/2 [==============================] - 0s 999us/step - loss: 30.3986 - mse: 1296.5627\n",
      "Epoch 435/500\n",
      "2/2 [==============================] - 0s 2ms/step - loss: 10.5052 - mse: 283.6821\n",
      "Epoch 436/500\n",
      "2/2 [==============================] - 0s 1ms/step - loss: 28.8810 - mse: 1216.2332\n",
      "Epoch 437/500\n",
      "2/2 [==============================] - 0s 3ms/step - loss: 8.5916 - mse: 209.5437\n",
      "Epoch 438/500\n",
      "2/2 [==============================] - 0s 999us/step - loss: 12.7378 - mse: 264.4514\n",
      "Epoch 439/500\n",
      "2/2 [==============================] - 0s 2ms/step - loss: 33.6754 - mse: 1570.2357\n",
      "Epoch 440/500\n",
      "2/2 [==============================] - 0s 1ms/step - loss: 15.0962 - mse: 294.7130\n",
      "Epoch 441/500\n",
      "2/2 [==============================] - 0s 2ms/step - loss: 17.4813 - mse: 487.0568\n",
      "Epoch 442/500\n",
      "2/2 [==============================] - 0s 3ms/step - loss: 22.3049 - mse: 750.9300\n",
      "Epoch 443/500\n",
      "2/2 [==============================] - 0s 1ms/step - loss: 23.5841 - mse: 784.1396\n",
      "Epoch 444/500\n",
      "2/2 [==============================] - 0s 2ms/step - loss: 11.0008 - mse: 203.7588\n",
      "Epoch 445/500\n",
      "2/2 [==============================] - 0s 1ms/step - loss: 14.9175 - mse: 316.4787\n",
      "Epoch 446/500\n",
      "2/2 [==============================] - 0s 2ms/step - loss: 17.9979 - mse: 515.1707\n",
      "Epoch 447/500\n",
      "2/2 [==============================] - 0s 2ms/step - loss: 5.4482 - mse: 51.4485\n",
      "Epoch 448/500\n",
      "2/2 [==============================] - 0s 3ms/step - loss: 10.0527 - mse: 253.4832\n",
      "Epoch 449/500\n",
      "2/2 [==============================] - 0s 999us/step - loss: 14.0052 - mse: 277.3351\n",
      "Epoch 450/500\n",
      "2/2 [==============================] - 0s 3ms/step - loss: 16.7782 - mse: 424.4224\n",
      "Epoch 451/500\n",
      "2/2 [==============================] - 0s 2ms/step - loss: 14.2937 - mse: 303.4475\n",
      "Epoch 452/500\n",
      "2/2 [==============================] - 0s 3ms/step - loss: 30.6192 - mse: 1329.8262\n",
      "Epoch 453/500\n",
      "2/2 [==============================] - 0s 2ms/step - loss: 7.6541 - mse: 159.0381\n",
      "Epoch 454/500\n",
      "2/2 [==============================] - 0s 1ms/step - loss: 28.1428 - mse: 1104.4135\n",
      "Epoch 455/500\n",
      "2/2 [==============================] - 0s 2ms/step - loss: 8.0017 - mse: 119.3277\n",
      "Epoch 456/500\n",
      "2/2 [==============================] - 0s 1ms/step - loss: 10.3933 - mse: 289.6396\n",
      "Epoch 457/500\n",
      "2/2 [==============================] - 0s 2ms/step - loss: 15.0242 - mse: 318.3532\n",
      "Epoch 458/500\n",
      "2/2 [==============================] - 0s 999us/step - loss: 16.5653 - mse: 439.8002\n",
      "Epoch 459/500\n",
      "2/2 [==============================] - 0s 3ms/step - loss: 26.8566 - mse: 1033.5481\n",
      "Epoch 460/500\n",
      "2/2 [==============================] - 0s 1ms/step - loss: 12.4852 - mse: 251.1166\n",
      "Epoch 461/500\n",
      "2/2 [==============================] - 0s 4ms/step - loss: 12.4784 - mse: 272.9072\n",
      "Epoch 462/500\n",
      "2/2 [==============================] - 0s 2ms/step - loss: 13.3186 - mse: 245.2334\n",
      "Epoch 463/500\n",
      "2/2 [==============================] - 0s 3ms/step - loss: 29.5524 - mse: 1219.8655\n",
      "Epoch 464/500\n",
      "2/2 [==============================] - 0s 1ms/step - loss: 3.4664 - mse: 22.0146\n",
      "Epoch 465/500\n",
      "2/2 [==============================] - 0s 1ms/step - loss: 15.2136 - mse: 352.9364\n",
      "Epoch 466/500\n",
      "2/2 [==============================] - 0s 3ms/step - loss: 20.8327 - mse: 651.1586\n",
      "Epoch 467/500\n",
      "2/2 [==============================] - 0s 2ms/step - loss: 30.5108 - mse: 1421.0046\n",
      "Epoch 468/500\n",
      "2/2 [==============================] - 0s 1ms/step - loss: 11.0598 - mse: 236.2268\n",
      "Epoch 469/500\n",
      "2/2 [==============================] - 0s 999us/step - loss: 12.8372 - mse: 278.2050\n",
      "Epoch 470/500\n",
      "2/2 [==============================] - 0s 1ms/step - loss: 3.2398 - mse: 14.0654\n",
      "Epoch 471/500\n",
      "2/2 [==============================] - 0s 1ms/step - loss: 16.6964 - mse: 372.9562\n",
      "Epoch 472/500\n",
      "2/2 [==============================] - 0s 1ms/step - loss: 13.3883 - mse: 253.4231\n",
      "Epoch 473/500\n",
      "2/2 [==============================] - 0s 3ms/step - loss: 15.2771 - mse: 396.6104\n",
      "Epoch 474/500\n",
      "2/2 [==============================] - 0s 1ms/step - loss: 11.7448 - mse: 305.3253\n",
      "Epoch 475/500\n",
      "2/2 [==============================] - 0s 3ms/step - loss: 16.4113 - mse: 397.1608\n",
      "Epoch 476/500\n",
      "2/2 [==============================] - 0s 2ms/step - loss: 13.8785 - mse: 273.7974\n",
      "Epoch 477/500\n",
      "2/2 [==============================] - 0s 2ms/step - loss: 30.6702 - mse: 1309.4620\n",
      "Epoch 478/500\n",
      "2/2 [==============================] - 0s 999us/step - loss: 8.5880 - mse: 188.9075\n",
      "Epoch 479/500\n",
      "2/2 [==============================] - 0s 3ms/step - loss: 10.7384 - mse: 261.5207\n",
      "Epoch 480/500\n",
      "2/2 [==============================] - 0s 2ms/step - loss: 17.9051 - mse: 484.4149\n",
      "Epoch 481/500\n",
      "2/2 [==============================] - 0s 1ms/step - loss: 15.8094 - mse: 368.1040\n",
      "Epoch 482/500\n",
      "2/2 [==============================] - 0s 1ms/step - loss: 21.3054 - mse: 698.1629\n",
      "Epoch 483/500\n",
      "2/2 [==============================] - 0s 2ms/step - loss: 25.3845 - mse: 955.1268\n",
      "Epoch 484/500\n",
      "2/2 [==============================] - 0s 2ms/step - loss: 23.9816 - mse: 811.2802\n",
      "Epoch 485/500\n",
      "2/2 [==============================] - 0s 1ms/step - loss: 5.7734 - mse: 53.7612\n",
      "Epoch 486/500\n",
      "2/2 [==============================] - 0s 2ms/step - loss: 20.0011 - mse: 565.2890\n",
      "Epoch 487/500\n",
      "2/2 [==============================] - 0s 999us/step - loss: 14.0419 - mse: 286.2682\n",
      "Epoch 488/500\n",
      "2/2 [==============================] - 0s 1ms/step - loss: 30.6088 - mse: 1334.5725\n",
      "Epoch 489/500\n",
      "2/2 [==============================] - 0s 2ms/step - loss: 11.9409 - mse: 237.4729\n",
      "Epoch 490/500\n",
      "2/2 [==============================] - 0s 1ms/step - loss: 12.7352 - mse: 252.5675\n",
      "Epoch 491/500\n",
      "2/2 [==============================] - 0s 1ms/step - loss: 23.6139 - mse: 837.7731\n",
      "Epoch 492/500\n",
      "2/2 [==============================] - 0s 1ms/step - loss: 20.5365 - mse: 592.2194\n",
      "Epoch 493/500\n",
      "2/2 [==============================] - 0s 1ms/step - loss: 4.9942 - mse: 48.0281\n",
      "Epoch 494/500\n",
      "2/2 [==============================] - 0s 2ms/step - loss: 12.7987 - mse: 247.7650\n",
      "Epoch 495/500\n",
      "2/2 [==============================] - 0s 2ms/step - loss: 13.3772 - mse: 239.0899\n",
      "Epoch 496/500\n",
      "2/2 [==============================] - 0s 1ms/step - loss: 12.6727 - mse: 241.5636\n",
      "Epoch 497/500\n",
      "2/2 [==============================] - 0s 1ms/step - loss: 17.6192 - mse: 515.3856\n",
      "Epoch 498/500\n",
      "2/2 [==============================] - 0s 1ms/step - loss: 23.5629 - mse: 816.5515\n",
      "Epoch 499/500\n",
      "2/2 [==============================] - 0s 2ms/step - loss: 9.3755 - mse: 136.1010\n",
      "Epoch 500/500\n",
      "2/2 [==============================] - 0s 1ms/step - loss: 14.6316 - mse: 295.2642\n"
     ]
    },
    {
     "data": {
      "text/plain": [
       "<tensorflow.python.keras.callbacks.History at 0x1eb0b7c0af0>"
      ]
     },
     "execution_count": 63,
     "metadata": {},
     "output_type": "execute_result"
    }
   ],
   "source": [
    "# Set seed \n",
    "tf.random.set_seed(42)\n",
    "\n",
    "# Create a model\n",
    "model_3 = tf.keras.Sequential([\n",
    "    \n",
    "    tf.keras.layers.Dense(10),\n",
    "    tf.keras.layers.Dense(1)\n",
    "])\n",
    "\n",
    "# Compile a model\n",
    "model_3.compile(loss = tf.keras.losses.mae,\n",
    "                optimizer = tf.keras.optimizers.SGD(),\n",
    "                metrics = ['mse'])\n",
    "\n",
    "# Fit the model\n",
    "model_3.fit(X_train, y_train, epochs = 500)"
   ]
  },
  {
   "cell_type": "code",
   "execution_count": 64,
   "id": "f1f68a74",
   "metadata": {
    "scrolled": true
   },
   "outputs": [
    {
     "name": "stdout",
     "output_type": "stream",
     "text": [
      "WARNING:tensorflow:9 out of the last 11 calls to <function Model.make_predict_function.<locals>.predict_function at 0x000001EB0806C700> triggered tf.function retracing. Tracing is expensive and the excessive number of tracings could be due to (1) creating @tf.function repeatedly in a loop, (2) passing tensors with different shapes, (3) passing Python objects instead of tensors. For (1), please define your @tf.function outside of the loop. For (2), @tf.function has experimental_relax_shapes=True option that relaxes argument shapes that can avoid unnecessary retracing. For (3), please refer to https://www.tensorflow.org/tutorials/customization/performance#python_or_tensor_args and https://www.tensorflow.org/api_docs/python/tf/function for  more details.\n"
     ]
    },
    {
     "data": {
      "image/png": "[encoded data removed]",
      "text/plain": [
       "<Figure size 720x504 with 1 Axes>"
      ]
     },
     "metadata": {
      "needs_background": "light"
     },
     "output_type": "display_data"
    }
   ],
   "source": [
    "# Make and plot predictions for model_3\n",
    "y_preds_3 = model_3.predict(X_test)\n",
    "\n",
    "plot_predictions(predictions=y_preds_3)"
   ]
  },
  {
   "cell_type": "code",
   "execution_count": 65,
   "id": "90da8057",
   "metadata": {
    "scrolled": true
   },
   "outputs": [
    {
     "data": {
      "text/plain": [
       "(<tf.Tensor: shape=(), dtype=float32, numpy=68.713615>,\n",
       " <tf.Tensor: shape=(), dtype=float32, numpy=4808.0273>)"
      ]
     },
     "execution_count": 65,
     "metadata": {},
     "output_type": "execute_result"
    }
   ],
   "source": [
    "# Calculate model_3 evaluation metics\n",
    "mae_3 = mae(y_test, y_preds_3)\n",
    "mse_3 = mse(y_test, y_preds_3)\n",
    "\n",
    "mae_3, mse_3"
   ]
  },
  {
   "cell_type": "markdown",
   "id": "09d5a300",
   "metadata": {},
   "source": [
    "## Comparing results\n",
    "\n",
    "Now we've got results for 3 similar but slightly different results, let's compare them."
   ]
  },
  {
   "cell_type": "code",
   "execution_count": 68,
   "id": "8254f17a",
   "metadata": {
    "scrolled": true
   },
   "outputs": [],
   "source": [
    "model_results = [[\"model_1\", mae_1.numpy(), mse_1.numpy()],\n",
    "                 [\"model_2\", mae_2, mse_2],\n",
    "                 [\"model_3\", mae_3.numpy(), mae_3.numpy()]]"
   ]
  },
  {
   "cell_type": "code",
   "execution_count": 70,
   "id": "a515ca10",
   "metadata": {
    "scrolled": false
   },
   "outputs": [
    {
     "data": {
      "text/html": [
       "<div>\n",
       "<style scoped>\n",
       "    .dataframe tbody tr th:only-of-type {\n",
       "        vertical-align: middle;\n",
       "    }\n",
       "\n",
       "    .dataframe tbody tr th {\n",
       "        vertical-align: top;\n",
       "    }\n",
       "\n",
       "    .dataframe thead th {\n",
       "        text-align: right;\n",
       "    }\n",
       "</style>\n",
       "<table border=\"1\" class=\"dataframe\">\n",
       "  <thead>\n",
       "    <tr style=\"text-align: right;\">\n",
       "      <th></th>\n",
       "      <th>model</th>\n",
       "      <th>mae</th>\n",
       "      <th>mse</th>\n",
       "    </tr>\n",
       "  </thead>\n",
       "  <tbody>\n",
       "    <tr>\n",
       "      <th>0</th>\n",
       "      <td>model_1</td>\n",
       "      <td>18.745327</td>\n",
       "      <td>353.573364</td>\n",
       "    </tr>\n",
       "    <tr>\n",
       "      <th>1</th>\n",
       "      <td>model_2</td>\n",
       "      <td>1.909733</td>\n",
       "      <td>5.458770</td>\n",
       "    </tr>\n",
       "    <tr>\n",
       "      <th>2</th>\n",
       "      <td>model_3</td>\n",
       "      <td>68.713615</td>\n",
       "      <td>68.713615</td>\n",
       "    </tr>\n",
       "  </tbody>\n",
       "</table>\n",
       "</div>"
      ],
      "text/plain": [
       "     model        mae         mse\n",
       "0  model_1  18.745327  353.573364\n",
       "1  model_2   1.909733    5.458770\n",
       "2  model_3  68.713615   68.713615"
      ]
     },
     "execution_count": 70,
     "metadata": {},
     "output_type": "execute_result"
    }
   ],
   "source": [
    "model_results = pd.DataFrame(model_results, columns=[\"model\", \"mae\", \"mse\"])\n",
    "\n",
    "model_results"
   ]
  },
  {
   "cell_type": "code",
   "execution_count": 71,
   "id": "b7bd860a",
   "metadata": {
    "scrolled": true
   },
   "outputs": [
    {
     "name": "stdout",
     "output_type": "stream",
     "text": [
      "Model: \"sequential_8\"\n",
      "_________________________________________________________________\n",
      "Layer (type)                 Output Shape              Param #   \n",
      "=================================================================\n",
      "dense_21 (Dense)             (None, 1)                 2         \n",
      "_________________________________________________________________\n",
      "dense_22 (Dense)             (None, 1)                 2         \n",
      "=================================================================\n",
      "Total params: 4\n",
      "Trainable params: 4\n",
      "Non-trainable params: 0\n",
      "_________________________________________________________________\n"
     ]
    }
   ],
   "source": [
    "model_2.summary()"
   ]
  },
  {
   "cell_type": "markdown",
   "id": "3b43f5ae",
   "metadata": {},
   "source": [
    "From our experiments, it looks like `model_2` performed the best.\n",
    "\n",
    "And now, you might be thinking, \"wow, comparing models is tedious...\" and it definitely can be, we've only compared 3 models here. \n",
    "\n",
    "But this is part of what machine learning modelling is about, trying many different combinations of models and seeing which performs best.\n",
    "\n",
    "Each model you build is a small experiment. \n",
    "\n",
    "> 🔑 **Note:** One of your main goals should be to minimize the time between your experiments. The more experiments you do, the more things you'll figure out which don't work and in turn, get closer to figuring out what does work. Remember the machine learning practitioner's motto: \"experiment, experiment, experiment\".\n",
    "\n",
    "Another thing you'll also find is what you thought may work (such as training a model for longer) may not always work and the exact opposite is also often the case.\n",
    "\n",
    "## Tracking your experiments\n",
    "\n",
    "One really good habit to get into is tracking your modelling experiments to see which perform better than others.\n",
    "\n",
    "We've done a simple version of this above (keeping the results in different variables).\n",
    "\n",
    "> 📖 **Resource:** But as you build more models, you'll want to look into using tools such as:\n",
    "* [**TensorBoard**](https://tensorboard.dev/) - a component of the TensorFlow library to help track modelling experiments (we'll see this later).\n",
    "* [**Weights & Biases**](https://www.wandb.com/) - a tool for tracking all kinds of machine learning experiments (the good news for Weights & Biases is it plugs into TensorBoard)."
   ]
  },
  {
   "cell_type": "markdown",
   "id": "cd580805",
   "metadata": {},
   "source": [
    "## Saving a model\n",
    "\n",
    "Once you've trained a model and found one which performs to your liking, you'll probably want to save it for use elsewhere (like a web application or mobile device).\n",
    "\n",
    "You can save a TensorFlow/Keras model using [`model.save()`](https://www.tensorflow.org/tutorials/keras/save_and_load#save_the_entire_model).\n",
    "\n",
    "There are two ways to save a model in TensorFlow:\n",
    "1. The [SavedModel format](https://www.tensorflow.org/tutorials/keras/save_and_load#savedmodel_format) (default).\n",
    "2. The [HDF5 format](https://www.tensorflow.org/tutorials/keras/save_and_load#hdf5_format).\n",
    "\n",
    "The main difference between the two is the SavedModel is automatically able to save custom objects (such as special layers) without additional modifications when loading the model back in.\n",
    "\n",
    "Which one should you use?\n",
    "\n",
    "It depends on your situation but the SavedModel format will suffice most of the time.\n",
    "\n",
    "Both methods use the same method call."
   ]
  },
  {
   "cell_type": "code",
   "execution_count": 72,
   "id": "913ba2c7",
   "metadata": {
    "scrolled": true
   },
   "outputs": [
    {
     "name": "stdout",
     "output_type": "stream",
     "text": [
      "WARNING:tensorflow:From E:\\Anaconda3\\lib\\site-packages\\tensorflow\\python\\training\\tracking\\tracking.py:111: Model.state_updates (from tensorflow.python.keras.engine.training) is deprecated and will be removed in a future version.\n",
      "Instructions for updating:\n",
      "This property should not be used in TensorFlow 2.0, as updates are applied automatically.\n",
      "WARNING:tensorflow:From E:\\Anaconda3\\lib\\site-packages\\tensorflow\\python\\training\\tracking\\tracking.py:111: Layer.updates (from tensorflow.python.keras.engine.base_layer) is deprecated and will be removed in a future version.\n",
      "Instructions for updating:\n",
      "This property should not be used in TensorFlow 2.0, as updates are applied automatically.\n",
      "INFO:tensorflow:Assets written to: practice_model_2\\assets\n"
     ]
    }
   ],
   "source": [
    "# Save a model using the SavedModel format\n",
    "model_2.save(\"practice_model_2\")"
   ]
  },
  {
   "cell_type": "markdown",
   "id": "03c8a262",
   "metadata": {},
   "source": [
    "Now let's save the model in the HDF5 format, we'll use the same method but with a different filename."
   ]
  },
  {
   "cell_type": "code",
   "execution_count": 78,
   "id": "06be53f9",
   "metadata": {
    "scrolled": true
   },
   "outputs": [],
   "source": [
    "# Save a model using the HDF5 format\n",
    "model_2.save(\"best_mode_2.h5\") # note the addition of '.h5' on the end"
   ]
  },
  {
   "cell_type": "markdown",
   "id": "15ca4f58",
   "metadata": {},
   "source": [
    "## Loading a model\n",
    "\n",
    "We can load a saved model using the [`load_model()`](https://www.tensorflow.org/api_docs/python/tf/keras/models/load_model) method.\n",
    "\n",
    "Loading a model for the different formats (SavedModel and HDF5) is the same (as long as the pathnames to the particular formats are correct)."
   ]
  },
  {
   "cell_type": "code",
   "execution_count": 89,
   "id": "15cb01a9",
   "metadata": {
    "scrolled": true
   },
   "outputs": [],
   "source": [
    "# Load a model from the SavedModel format\n",
    "loaded_saved_model = tf.keras.models.load_model(\"best_mode_2.h5\")"
   ]
  },
  {
   "cell_type": "code",
   "execution_count": 90,
   "id": "61fd201c",
   "metadata": {
    "scrolled": true
   },
   "outputs": [
    {
     "name": "stdout",
     "output_type": "stream",
     "text": [
      "Model: \"sequential_8\"\n",
      "_________________________________________________________________\n",
      "Layer (type)                 Output Shape              Param #   \n",
      "=================================================================\n",
      "dense_21 (Dense)             (None, 1)                 2         \n",
      "_________________________________________________________________\n",
      "dense_22 (Dense)             (None, 1)                 2         \n",
      "=================================================================\n",
      "Total params: 4\n",
      "Trainable params: 4\n",
      "Non-trainable params: 0\n",
      "_________________________________________________________________\n"
     ]
    }
   ],
   "source": [
    " loaded_saved_model.summary()"
   ]
  },
  {
   "cell_type": "markdown",
   "id": "e841283b",
   "metadata": {},
   "source": [
    "Now let's test it out."
   ]
  },
  {
   "cell_type": "code",
   "execution_count": 93,
   "id": "aba7ba8e",
   "metadata": {
    "scrolled": true
   },
   "outputs": [
    {
     "data": {
      "text/plain": [
       "array([[ True],\n",
       "       [ True],\n",
       "       [ True],\n",
       "       [ True],\n",
       "       [ True],\n",
       "       [ True],\n",
       "       [ True],\n",
       "       [ True],\n",
       "       [ True],\n",
       "       [ True]])"
      ]
     },
     "execution_count": 93,
     "metadata": {},
     "output_type": "execute_result"
    }
   ],
   "source": [
    "# Compare model_2 with the SavedModel version (should return True)\n",
    "model_2_preds = model_2.predict(X_test)\n",
    "\n",
    "saved_model_preds = loaded_saved_model.predict(X_test)\n",
    "\n",
    "# check they are equal or not\n",
    "model_2_preds == saved_model_preds"
   ]
  },
  {
   "cell_type": "code",
   "execution_count": 94,
   "id": "52229e83",
   "metadata": {
    "scrolled": true
   },
   "outputs": [
    {
     "data": {
      "text/plain": [
       "True"
      ]
     },
     "execution_count": 94,
     "metadata": {},
     "output_type": "execute_result"
    }
   ],
   "source": [
    "mae(y_test, saved_model_preds.squeeze()).numpy() == mae(y_test, model_2_preds.squeeze()).numpy()"
   ]
  },
  {
   "cell_type": "markdown",
   "id": "f190fe1b",
   "metadata": {},
   "source": [
    "## Downloading a model (from Google Colab)\n",
    "\n",
    "Say you wanted to get your model from Google Colab to your local machine, you can do one of the following things:\n",
    "* Right click on the file in the files pane and click 'download'.\n",
    "* Use the code below."
   ]
  },
  {
   "cell_type": "code",
   "execution_count": 95,
   "id": "d595ae17",
   "metadata": {
    "scrolled": true
   },
   "outputs": [],
   "source": [
    "# # Download the model (or any file) from Google Colab\n",
    "# from google.colab import files\n",
    "# files.download(\"best_model_HDF5_format.h5\")"
   ]
  },
  {
   "cell_type": "markdown",
   "id": "015df39c",
   "metadata": {},
   "source": [
    "## A larger example\n",
    "\n",
    "Alright, we've seen the fundamentals of building neural network regression models in TensorFlow.\n",
    "\n",
    "Let's step it up a notch and build a model for a more feature rich dataset.\n",
    "\n",
    "More specifically we're going to try predict the cost of medical insurance for individuals based on a number of different parameters such as, `age`, `sex`, `bmi`, `children`, `smoking_status` and `residential_region`.\n",
    "\n",
    "To do, we'll leverage the pubically available [Medical Cost dataset](https://www.kaggle.com/mirichoi0218/insurance) available from Kaggle and [hosted on GitHub](https://github.com/stedy/Machine-Learning-with-R-datasets/blob/master/insurance.csv).\n",
    "\n",
    "> 🔑 **Note:** When learning machine learning paradigms, you'll often go through a series of foundational techniques and then practice them by working with open-source datasets and examples. Just as we're doing now, learn foundations, put them to work with different problems. Every time you work on something new, it's a good idea to search for something like \"problem X example with Python/TensorFlow\" where you substitute X for your problem."
   ]
  },
  {
   "cell_type": "code",
   "execution_count": 96,
   "id": "7ced8007",
   "metadata": {},
   "outputs": [],
   "source": [
    "# Import required libraries\n",
    "import tensorflow as tf\n",
    "import pandas as pd\n",
    "import matplotlib.pyplot as plt"
   ]
  },
  {
   "cell_type": "code",
   "execution_count": 97,
   "id": "b476784f",
   "metadata": {},
   "outputs": [],
   "source": [
    "# Read in the insurance dataset\n",
    "insurance = pd.read_csv(\"https://raw.githubusercontent.com/stedy/Machine-Learning-with-R-datasets/master/insurance.csv\")"
   ]
  },
  {
   "cell_type": "code",
   "execution_count": 98,
   "id": "7e5d7c6a",
   "metadata": {},
   "outputs": [
    {
     "data": {
      "text/html": [
       "<div>\n",
       "<style scoped>\n",
       "    .dataframe tbody tr th:only-of-type {\n",
       "        vertical-align: middle;\n",
       "    }\n",
       "\n",
       "    .dataframe tbody tr th {\n",
       "        vertical-align: top;\n",
       "    }\n",
       "\n",
       "    .dataframe thead th {\n",
       "        text-align: right;\n",
       "    }\n",
       "</style>\n",
       "<table border=\"1\" class=\"dataframe\">\n",
       "  <thead>\n",
       "    <tr style=\"text-align: right;\">\n",
       "      <th></th>\n",
       "      <th>age</th>\n",
       "      <th>sex</th>\n",
       "      <th>bmi</th>\n",
       "      <th>children</th>\n",
       "      <th>smoker</th>\n",
       "      <th>region</th>\n",
       "      <th>charges</th>\n",
       "    </tr>\n",
       "  </thead>\n",
       "  <tbody>\n",
       "    <tr>\n",
       "      <th>0</th>\n",
       "      <td>19</td>\n",
       "      <td>female</td>\n",
       "      <td>27.900</td>\n",
       "      <td>0</td>\n",
       "      <td>yes</td>\n",
       "      <td>southwest</td>\n",
       "      <td>16884.92400</td>\n",
       "    </tr>\n",
       "    <tr>\n",
       "      <th>1</th>\n",
       "      <td>18</td>\n",
       "      <td>male</td>\n",
       "      <td>33.770</td>\n",
       "      <td>1</td>\n",
       "      <td>no</td>\n",
       "      <td>southeast</td>\n",
       "      <td>1725.55230</td>\n",
       "    </tr>\n",
       "    <tr>\n",
       "      <th>2</th>\n",
       "      <td>28</td>\n",
       "      <td>male</td>\n",
       "      <td>33.000</td>\n",
       "      <td>3</td>\n",
       "      <td>no</td>\n",
       "      <td>southeast</td>\n",
       "      <td>4449.46200</td>\n",
       "    </tr>\n",
       "    <tr>\n",
       "      <th>3</th>\n",
       "      <td>33</td>\n",
       "      <td>male</td>\n",
       "      <td>22.705</td>\n",
       "      <td>0</td>\n",
       "      <td>no</td>\n",
       "      <td>northwest</td>\n",
       "      <td>21984.47061</td>\n",
       "    </tr>\n",
       "    <tr>\n",
       "      <th>4</th>\n",
       "      <td>32</td>\n",
       "      <td>male</td>\n",
       "      <td>28.880</td>\n",
       "      <td>0</td>\n",
       "      <td>no</td>\n",
       "      <td>northwest</td>\n",
       "      <td>3866.85520</td>\n",
       "    </tr>\n",
       "  </tbody>\n",
       "</table>\n",
       "</div>"
      ],
      "text/plain": [
       "   age     sex     bmi  children smoker     region      charges\n",
       "0   19  female  27.900         0    yes  southwest  16884.92400\n",
       "1   18    male  33.770         1     no  southeast   1725.55230\n",
       "2   28    male  33.000         3     no  southeast   4449.46200\n",
       "3   33    male  22.705         0     no  northwest  21984.47061\n",
       "4   32    male  28.880         0     no  northwest   3866.85520"
      ]
     },
     "execution_count": 98,
     "metadata": {},
     "output_type": "execute_result"
    }
   ],
   "source": [
    "insurance.head()"
   ]
  },
  {
   "cell_type": "markdown",
   "id": "dede2182",
   "metadata": {},
   "source": [
    "We're going to have to turn the non-numerical columns into numbers (because a neural network can't handle non-numerical inputs).\n",
    "\n",
    "To do so, we'll use the [`get_dummies()`](https://pandas.pydata.org/pandas-docs/stable/reference/api/pandas.get_dummies.html) method in pandas.\n",
    "\n",
    "It converts categorical variables (like the `sex`, `smoker` and `region` columns) into numerical variables using one-hot encoding."
   ]
  },
  {
   "cell_type": "code",
   "execution_count": 99,
   "id": "6c15ce8f",
   "metadata": {},
   "outputs": [
    {
     "data": {
      "text/html": [
       "<div>\n",
       "<style scoped>\n",
       "    .dataframe tbody tr th:only-of-type {\n",
       "        vertical-align: middle;\n",
       "    }\n",
       "\n",
       "    .dataframe tbody tr th {\n",
       "        vertical-align: top;\n",
       "    }\n",
       "\n",
       "    .dataframe thead th {\n",
       "        text-align: right;\n",
       "    }\n",
       "</style>\n",
       "<table border=\"1\" class=\"dataframe\">\n",
       "  <thead>\n",
       "    <tr style=\"text-align: right;\">\n",
       "      <th></th>\n",
       "      <th>age</th>\n",
       "      <th>bmi</th>\n",
       "      <th>children</th>\n",
       "      <th>charges</th>\n",
       "      <th>sex_female</th>\n",
       "      <th>sex_male</th>\n",
       "      <th>smoker_no</th>\n",
       "      <th>smoker_yes</th>\n",
       "      <th>region_northeast</th>\n",
       "      <th>region_northwest</th>\n",
       "      <th>region_southeast</th>\n",
       "      <th>region_southwest</th>\n",
       "    </tr>\n",
       "  </thead>\n",
       "  <tbody>\n",
       "    <tr>\n",
       "      <th>0</th>\n",
       "      <td>19</td>\n",
       "      <td>27.900</td>\n",
       "      <td>0</td>\n",
       "      <td>16884.92400</td>\n",
       "      <td>1</td>\n",
       "      <td>0</td>\n",
       "      <td>0</td>\n",
       "      <td>1</td>\n",
       "      <td>0</td>\n",
       "      <td>0</td>\n",
       "      <td>0</td>\n",
       "      <td>1</td>\n",
       "    </tr>\n",
       "    <tr>\n",
       "      <th>1</th>\n",
       "      <td>18</td>\n",
       "      <td>33.770</td>\n",
       "      <td>1</td>\n",
       "      <td>1725.55230</td>\n",
       "      <td>0</td>\n",
       "      <td>1</td>\n",
       "      <td>1</td>\n",
       "      <td>0</td>\n",
       "      <td>0</td>\n",
       "      <td>0</td>\n",
       "      <td>1</td>\n",
       "      <td>0</td>\n",
       "    </tr>\n",
       "    <tr>\n",
       "      <th>2</th>\n",
       "      <td>28</td>\n",
       "      <td>33.000</td>\n",
       "      <td>3</td>\n",
       "      <td>4449.46200</td>\n",
       "      <td>0</td>\n",
       "      <td>1</td>\n",
       "      <td>1</td>\n",
       "      <td>0</td>\n",
       "      <td>0</td>\n",
       "      <td>0</td>\n",
       "      <td>1</td>\n",
       "      <td>0</td>\n",
       "    </tr>\n",
       "    <tr>\n",
       "      <th>3</th>\n",
       "      <td>33</td>\n",
       "      <td>22.705</td>\n",
       "      <td>0</td>\n",
       "      <td>21984.47061</td>\n",
       "      <td>0</td>\n",
       "      <td>1</td>\n",
       "      <td>1</td>\n",
       "      <td>0</td>\n",
       "      <td>0</td>\n",
       "      <td>1</td>\n",
       "      <td>0</td>\n",
       "      <td>0</td>\n",
       "    </tr>\n",
       "    <tr>\n",
       "      <th>4</th>\n",
       "      <td>32</td>\n",
       "      <td>28.880</td>\n",
       "      <td>0</td>\n",
       "      <td>3866.85520</td>\n",
       "      <td>0</td>\n",
       "      <td>1</td>\n",
       "      <td>1</td>\n",
       "      <td>0</td>\n",
       "      <td>0</td>\n",
       "      <td>1</td>\n",
       "      <td>0</td>\n",
       "      <td>0</td>\n",
       "    </tr>\n",
       "  </tbody>\n",
       "</table>\n",
       "</div>"
      ],
      "text/plain": [
       "   age     bmi  children      charges  sex_female  sex_male  smoker_no  \\\n",
       "0   19  27.900         0  16884.92400           1         0          0   \n",
       "1   18  33.770         1   1725.55230           0         1          1   \n",
       "2   28  33.000         3   4449.46200           0         1          1   \n",
       "3   33  22.705         0  21984.47061           0         1          1   \n",
       "4   32  28.880         0   3866.85520           0         1          1   \n",
       "\n",
       "   smoker_yes  region_northeast  region_northwest  region_southeast  \\\n",
       "0           1                 0                 0                 0   \n",
       "1           0                 0                 0                 1   \n",
       "2           0                 0                 0                 1   \n",
       "3           0                 0                 1                 0   \n",
       "4           0                 0                 1                 0   \n",
       "\n",
       "   region_southwest  \n",
       "0                 1  \n",
       "1                 0  \n",
       "2                 0  \n",
       "3                 0  \n",
       "4                 0  "
      ]
     },
     "execution_count": 99,
     "metadata": {},
     "output_type": "execute_result"
    }
   ],
   "source": [
    "# Turn all categories into numbers\n",
    "insurance_one_hot = pd.get_dummies(insurance)\n",
    "insurance_one_hot.head()"
   ]
  },
  {
   "cell_type": "markdown",
   "id": "2a5b82dc",
   "metadata": {},
   "source": [
    "Now we'll split data into features (`X`) and labels (`y`)."
   ]
  },
  {
   "cell_type": "code",
   "execution_count": 102,
   "id": "750e0325",
   "metadata": {},
   "outputs": [
    {
     "data": {
      "text/plain": [
       "((1338, 11), (1338,))"
      ]
     },
     "execution_count": 102,
     "metadata": {},
     "output_type": "execute_result"
    }
   ],
   "source": [
    "X = insurance_one_hot.drop(\"charges\", axis=1)\n",
    "y = insurance_one_hot[\"charges\"]\n",
    "\n",
    "X.shape, y.shape"
   ]
  },
  {
   "cell_type": "markdown",
   "id": "01bc0642",
   "metadata": {},
   "source": [
    "And create training and test sets. We could do this manually, but to make it easier, we'll leverage the already available [`train_test_split`](https://scikit-learn.org/stable/modules/generated/sklearn.model_selection.train_test_split.html) function available from Scikit-Learn."
   ]
  },
  {
   "cell_type": "code",
   "execution_count": 103,
   "id": "9b26ecaf",
   "metadata": {},
   "outputs": [],
   "source": [
    "from sklearn.model_selection import train_test_split\n",
    "\n",
    "X_train, X_test, y_train, y_test = train_test_split(X,\n",
    "                                                    y,\n",
    "                                                    test_size=0.2,\n",
    "                                                    random_state=42)"
   ]
  },
  {
   "cell_type": "code",
   "execution_count": 104,
   "id": "3c1deab6",
   "metadata": {},
   "outputs": [
    {
     "data": {
      "text/plain": [
       "((1070, 11), (268, 11), (1070,), (268,))"
      ]
     },
     "execution_count": 104,
     "metadata": {},
     "output_type": "execute_result"
    }
   ],
   "source": [
    "X_train.shape, X_test.shape, y_train.shape, y_test.shape"
   ]
  },
  {
   "cell_type": "markdown",
   "id": "6ee1ce84",
   "metadata": {},
   "source": [
    "Now we can build and fit a model (we'll make it the same as `model_2`)."
   ]
  },
  {
   "cell_type": "code",
   "execution_count": 106,
   "id": "6d051f0f",
   "metadata": {},
   "outputs": [
    {
     "data": {
      "text/plain": [
       "TensorShape([1070, 11])"
      ]
     },
     "execution_count": 106,
     "metadata": {},
     "output_type": "execute_result"
    }
   ],
   "source": [
    "tf.constant(X_train).shape"
   ]
  },
  {
   "cell_type": "code",
   "execution_count": 112,
   "id": "291b2995",
   "metadata": {
    "scrolled": true
   },
   "outputs": [
    {
     "name": "stdout",
     "output_type": "stream",
     "text": [
      "Epoch 1/100\n",
      "WARNING:tensorflow:Layer dense_57 is casting an input tensor from dtype float64 to the layer's dtype of float32, which is new behavior in TensorFlow 2.  The layer has dtype float32 because its dtype defaults to floatx.\n",
      "\n",
      "If you intended to run this layer in float32, you can safely ignore this warning. If in doubt, this warning is likely only an issue if you are porting a TensorFlow 1.X model to TensorFlow 2.\n",
      "\n",
      "To change all layers to have dtype float64 by default, call `tf.keras.backend.set_floatx('float64')`. To change just this layer, pass dtype='float64' to the layer constructor. If you are the author of this layer, you can disable autocasting by passing autocast=False to the base Layer constructor.\n",
      "\n",
      "34/34 [==============================] - 0s 1ms/step - loss: 8484.2939 - mae: 8484.2939\n",
      "Epoch 2/100\n",
      "34/34 [==============================] - 0s 1ms/step - loss: 6574.1372 - mae: 6574.1372\n",
      "Epoch 3/100\n",
      "34/34 [==============================] - 0s 2ms/step - loss: 5852.4258 - mae: 5852.4258\n",
      "Epoch 4/100\n",
      "34/34 [==============================] - 0s 2ms/step - loss: 4635.2241 - mae: 4635.2241\n",
      "Epoch 5/100\n",
      "34/34 [==============================] - 0s 2ms/step - loss: 3868.5911 - mae: 3868.5911\n",
      "Epoch 6/100\n",
      "34/34 [==============================] - 0s 2ms/step - loss: 3911.0381 - mae: 3911.0381\n",
      "Epoch 7/100\n",
      "34/34 [==============================] - 0s 2ms/step - loss: 3972.2444 - mae: 3972.2444\n",
      "Epoch 8/100\n",
      "34/34 [==============================] - 0s 2ms/step - loss: 3853.7822 - mae: 3853.7822\n",
      "Epoch 9/100\n",
      "34/34 [==============================] - 0s 2ms/step - loss: 3758.8975 - mae: 3758.8975\n",
      "Epoch 10/100\n",
      "34/34 [==============================] - 0s 2ms/step - loss: 3873.0449 - mae: 3873.0449\n",
      "Epoch 11/100\n",
      "34/34 [==============================] - 0s 2ms/step - loss: 4018.6677 - mae: 4018.6677\n",
      "Epoch 12/100\n",
      "34/34 [==============================] - 0s 2ms/step - loss: 3847.4209 - mae: 3847.4209\n",
      "Epoch 13/100\n",
      "34/34 [==============================] - 0s 2ms/step - loss: 3850.0457 - mae: 3850.0457\n",
      "Epoch 14/100\n",
      "34/34 [==============================] - 0s 2ms/step - loss: 4177.1836 - mae: 4177.1836\n",
      "Epoch 15/100\n",
      "34/34 [==============================] - 0s 1ms/step - loss: 3881.2178 - mae: 3881.2178\n",
      "Epoch 16/100\n",
      "34/34 [==============================] - 0s 1ms/step - loss: 3916.9194 - mae: 3916.9194\n",
      "Epoch 17/100\n",
      "34/34 [==============================] - 0s 2ms/step - loss: 3875.5981 - mae: 3875.5981\n",
      "Epoch 18/100\n",
      "34/34 [==============================] - 0s 2ms/step - loss: 3895.6470 - mae: 3895.6470\n",
      "Epoch 19/100\n",
      "34/34 [==============================] - 0s 2ms/step - loss: 3937.9202 - mae: 3937.9202\n",
      "Epoch 20/100\n",
      "34/34 [==============================] - 0s 2ms/step - loss: 3850.1514 - mae: 3850.1514\n",
      "Epoch 21/100\n",
      "34/34 [==============================] - 0s 2ms/step - loss: 4111.8579 - mae: 4111.8579\n",
      "Epoch 22/100\n",
      "34/34 [==============================] - 0s 2ms/step - loss: 3939.0093 - mae: 3939.0093\n",
      "Epoch 23/100\n",
      "34/34 [==============================] - 0s 2ms/step - loss: 4017.3308 - mae: 4017.3308\n",
      "Epoch 24/100\n",
      "34/34 [==============================] - 0s 2ms/step - loss: 3665.3186 - mae: 3665.3186\n",
      "Epoch 25/100\n",
      "34/34 [==============================] - 0s 2ms/step - loss: 3871.5098 - mae: 3871.5098\n",
      "Epoch 26/100\n",
      "34/34 [==============================] - 0s 2ms/step - loss: 3618.7290 - mae: 3618.7290\n",
      "Epoch 27/100\n",
      "34/34 [==============================] - 0s 2ms/step - loss: 3798.6660 - mae: 3798.6660\n",
      "Epoch 28/100\n",
      "34/34 [==============================] - 0s 2ms/step - loss: 3662.8411 - mae: 3662.8411\n",
      "Epoch 29/100\n",
      "34/34 [==============================] - 0s 2ms/step - loss: 3638.1899 - mae: 3638.1899\n",
      "Epoch 30/100\n",
      "34/34 [==============================] - 0s 2ms/step - loss: 3989.3594 - mae: 3989.3594\n",
      "Epoch 31/100\n",
      "34/34 [==============================] - 0s 2ms/step - loss: 3771.6584 - mae: 3771.6584\n",
      "Epoch 32/100\n",
      "34/34 [==============================] - 0s 3ms/step - loss: 3732.6157 - mae: 3732.6157A: 0s - loss: 3850.2693 - mae: 3850.269\n",
      "Epoch 33/100\n",
      "34/34 [==============================] - 0s 2ms/step - loss: 3669.1177 - mae: 3669.1177\n",
      "Epoch 34/100\n",
      "34/34 [==============================] - 0s 2ms/step - loss: 3814.7168 - mae: 3814.7168\n",
      "Epoch 35/100\n",
      "34/34 [==============================] - 0s 2ms/step - loss: 3793.9180 - mae: 3793.9180\n",
      "Epoch 36/100\n",
      "34/34 [==============================] - 0s 2ms/step - loss: 3760.4868 - mae: 3760.4868\n",
      "Epoch 37/100\n",
      "34/34 [==============================] - 0s 2ms/step - loss: 3760.8794 - mae: 3760.8794\n",
      "Epoch 38/100\n",
      "34/34 [==============================] - 0s 2ms/step - loss: 3984.7019 - mae: 3984.7019\n",
      "Epoch 39/100\n",
      "34/34 [==============================] - 0s 2ms/step - loss: 3645.0391 - mae: 3645.0391\n",
      "Epoch 40/100\n",
      "34/34 [==============================] - 0s 1ms/step - loss: 3735.8823 - mae: 3735.8823\n",
      "Epoch 41/100\n",
      "34/34 [==============================] - 0s 1ms/step - loss: 3702.7144 - mae: 3702.7144\n",
      "Epoch 42/100\n",
      "34/34 [==============================] - 0s 1ms/step - loss: 3929.7961 - mae: 3929.7961\n",
      "Epoch 43/100\n",
      "34/34 [==============================] - 0s 1ms/step - loss: 3649.8970 - mae: 3649.8970\n",
      "Epoch 44/100\n",
      "34/34 [==============================] - 0s 2ms/step - loss: 3672.8457 - mae: 3672.8457\n",
      "Epoch 45/100\n",
      "34/34 [==============================] - 0s 2ms/step - loss: 3623.8386 - mae: 3623.8386\n",
      "Epoch 46/100\n",
      "34/34 [==============================] - 0s 2ms/step - loss: 3746.8127 - mae: 3746.8127\n",
      "Epoch 47/100\n",
      "34/34 [==============================] - 0s 2ms/step - loss: 3749.4858 - mae: 3749.4858\n",
      "Epoch 48/100\n",
      "34/34 [==============================] - 0s 2ms/step - loss: 3750.9446 - mae: 3750.9446\n",
      "Epoch 49/100\n",
      "34/34 [==============================] - 0s 2ms/step - loss: 3647.0061 - mae: 3647.0061\n",
      "Epoch 50/100\n",
      "34/34 [==============================] - 0s 2ms/step - loss: 3622.5132 - mae: 3622.5132\n",
      "Epoch 51/100\n",
      "34/34 [==============================] - 0s 2ms/step - loss: 3636.7405 - mae: 3636.7405\n",
      "Epoch 52/100\n",
      "34/34 [==============================] - 0s 2ms/step - loss: 3696.1152 - mae: 3696.1152\n",
      "Epoch 53/100\n",
      "34/34 [==============================] - 0s 2ms/step - loss: 3632.5552 - mae: 3632.5552\n",
      "Epoch 54/100\n",
      "34/34 [==============================] - 0s 2ms/step - loss: 3665.9966 - mae: 3665.9966\n",
      "Epoch 55/100\n",
      "34/34 [==============================] - 0s 2ms/step - loss: 3772.0596 - mae: 3772.0596\n",
      "Epoch 56/100\n",
      "34/34 [==============================] - 0s 2ms/step - loss: 3759.3611 - mae: 3759.3611\n",
      "Epoch 57/100\n",
      "34/34 [==============================] - 0s 2ms/step - loss: 3756.1113 - mae: 3756.1113\n",
      "Epoch 58/100\n",
      "34/34 [==============================] - 0s 2ms/step - loss: 3618.6414 - mae: 3618.6414\n",
      "Epoch 59/100\n",
      "34/34 [==============================] - 0s 2ms/step - loss: 3541.1353 - mae: 3541.1353\n",
      "Epoch 60/100\n",
      "34/34 [==============================] - 0s 2ms/step - loss: 3618.2551 - mae: 3618.2551\n",
      "Epoch 61/100\n",
      "34/34 [==============================] - 0s 2ms/step - loss: 3776.2539 - mae: 3776.2539\n",
      "Epoch 62/100\n",
      "34/34 [==============================] - 0s 2ms/step - loss: 3645.3018 - mae: 3645.3018\n",
      "Epoch 63/100\n",
      "34/34 [==============================] - 0s 2ms/step - loss: 3597.6455 - mae: 3597.6455\n",
      "Epoch 64/100\n",
      "34/34 [==============================] - 0s 2ms/step - loss: 3605.7556 - mae: 3605.7556\n",
      "Epoch 65/100\n",
      "34/34 [==============================] - 0s 2ms/step - loss: 3573.1121 - mae: 3573.1121\n",
      "Epoch 66/100\n",
      "34/34 [==============================] - 0s 2ms/step - loss: 3653.4272 - mae: 3653.4272\n",
      "Epoch 67/100\n",
      "34/34 [==============================] - 0s 2ms/step - loss: 3667.0315 - mae: 3667.0315\n",
      "Epoch 68/100\n",
      "34/34 [==============================] - 0s 2ms/step - loss: 3973.7136 - mae: 3973.7136\n",
      "Epoch 69/100\n",
      "34/34 [==============================] - 0s 2ms/step - loss: 3637.2373 - mae: 3637.2373\n",
      "Epoch 70/100\n",
      "34/34 [==============================] - 0s 2ms/step - loss: 3882.3164 - mae: 3882.3164\n",
      "Epoch 71/100\n",
      "34/34 [==============================] - 0s 2ms/step - loss: 3720.1992 - mae: 3720.1992\n",
      "Epoch 72/100\n",
      "34/34 [==============================] - 0s 2ms/step - loss: 3704.2981 - mae: 3704.2981\n",
      "Epoch 73/100\n",
      "34/34 [==============================] - 0s 2ms/step - loss: 3692.5178 - mae: 3692.5178\n",
      "Epoch 74/100\n"
     ]
    },
    {
     "name": "stdout",
     "output_type": "stream",
     "text": [
      "34/34 [==============================] - 0s 2ms/step - loss: 3686.8936 - mae: 3686.8936\n",
      "Epoch 75/100\n",
      "34/34 [==============================] - 0s 2ms/step - loss: 3666.4624 - mae: 3666.4624\n",
      "Epoch 76/100\n",
      "34/34 [==============================] - 0s 2ms/step - loss: 3670.6782 - mae: 3670.6782\n",
      "Epoch 77/100\n",
      "34/34 [==============================] - 0s 2ms/step - loss: 3596.1414 - mae: 3596.1414\n",
      "Epoch 78/100\n",
      "34/34 [==============================] - 0s 2ms/step - loss: 3731.8479 - mae: 3731.8479\n",
      "Epoch 79/100\n",
      "34/34 [==============================] - 0s 1ms/step - loss: 3978.2336 - mae: 3978.2336\n",
      "Epoch 80/100\n",
      "34/34 [==============================] - 0s 1ms/step - loss: 3672.6899 - mae: 3672.6899\n",
      "Epoch 81/100\n",
      "34/34 [==============================] - 0s 1ms/step - loss: 3712.2166 - mae: 3712.2166\n",
      "Epoch 82/100\n",
      "34/34 [==============================] - 0s 1ms/step - loss: 3840.4839 - mae: 3840.4839\n",
      "Epoch 83/100\n",
      "34/34 [==============================] - 0s 1ms/step - loss: 3852.8979 - mae: 3852.8979\n",
      "Epoch 84/100\n",
      "34/34 [==============================] - 0s 1ms/step - loss: 3678.3154 - mae: 3678.3154\n",
      "Epoch 85/100\n",
      "34/34 [==============================] - 0s 2ms/step - loss: 3683.2271 - mae: 3683.2271\n",
      "Epoch 86/100\n",
      "34/34 [==============================] - 0s 2ms/step - loss: 3562.2346 - mae: 3562.2346\n",
      "Epoch 87/100\n",
      "34/34 [==============================] - 0s 2ms/step - loss: 3857.8323 - mae: 3857.8323\n",
      "Epoch 88/100\n",
      "34/34 [==============================] - 0s 2ms/step - loss: 3643.1938 - mae: 3643.1938\n",
      "Epoch 89/100\n",
      "34/34 [==============================] - 0s 1ms/step - loss: 3691.7637 - mae: 3691.7637\n",
      "Epoch 90/100\n",
      "34/34 [==============================] - 0s 1ms/step - loss: 3657.1248 - mae: 3657.1248\n",
      "Epoch 91/100\n",
      "34/34 [==============================] - 0s 1ms/step - loss: 3602.4307 - mae: 3602.4307\n",
      "Epoch 92/100\n",
      "34/34 [==============================] - 0s 1ms/step - loss: 3763.1025 - mae: 3763.1025\n",
      "Epoch 93/100\n",
      "34/34 [==============================] - 0s 1ms/step - loss: 3835.4009 - mae: 3835.4009\n",
      "Epoch 94/100\n",
      "34/34 [==============================] - 0s 1ms/step - loss: 4019.5911 - mae: 4019.5911\n",
      "Epoch 95/100\n",
      "34/34 [==============================] - 0s 2ms/step - loss: 3769.6621 - mae: 3769.6621\n",
      "Epoch 96/100\n",
      "34/34 [==============================] - 0s 3ms/step - loss: 3624.1348 - mae: 3624.1348\n",
      "Epoch 97/100\n",
      "34/34 [==============================] - 0s 2ms/step - loss: 3701.3127 - mae: 3701.3127\n",
      "Epoch 98/100\n",
      "34/34 [==============================] - 0s 1ms/step - loss: 3574.2581 - mae: 3574.2581\n",
      "Epoch 99/100\n",
      "34/34 [==============================] - 0s 1ms/step - loss: 3806.7290 - mae: 3806.7290\n",
      "Epoch 100/100\n",
      "34/34 [==============================] - 0s 1ms/step - loss: 3649.2805 - mae: 3649.2805\n"
     ]
    },
    {
     "data": {
      "text/plain": [
       "<tensorflow.python.keras.callbacks.History at 0x1eb1204d160>"
      ]
     },
     "execution_count": 112,
     "metadata": {},
     "output_type": "execute_result"
    }
   ],
   "source": [
    "# set random seed\n",
    "tf.random.set_seed(42)\n",
    "\n",
    "# Build a model\n",
    "insurance_model = tf.keras.Sequential([\n",
    "    \n",
    "    tf.keras.layers.Dense(100),\n",
    "    tf.keras.layers.Dense(10),\n",
    "    tf.keras.layers.Dense(1)\n",
    "])\n",
    "\n",
    "# Compile a model\n",
    "insurance_model.compile(loss = tf.keras.losses.mae,\n",
    "                        optimizer = tf.keras.optimizers.Adam(lr=0.1),\n",
    "                        metrics = [\"mae\"])\n",
    "\n",
    "# Fit a model\n",
    "insurance_model.fit(X_train, y_train, epochs=100)"
   ]
  },
  {
   "cell_type": "code",
   "execution_count": 113,
   "id": "ddf3cf56",
   "metadata": {},
   "outputs": [
    {
     "name": "stdout",
     "output_type": "stream",
     "text": [
      "9/9 [==============================] - 0s 889us/step - loss: 3486.8049 - mae: 3486.8049\n"
     ]
    },
    {
     "data": {
      "text/plain": [
       "[3486.804931640625, 3486.804931640625]"
      ]
     },
     "execution_count": 113,
     "metadata": {},
     "output_type": "execute_result"
    }
   ],
   "source": [
    "# Check the results of the insurance model\n",
    "insurance_model.evaluate(X_test, y_test)"
   ]
  },
  {
   "cell_type": "markdown",
   "id": "3115d5f9",
   "metadata": {},
   "source": [
    "Our model didn't perform very well, let's try a bigger model.\n",
    "\n",
    "We'll try 3 things:\n",
    "- Increasing the number of layers (2 -> 3).\n",
    "- Increasing the number of units in each layer (except for the output layer).\n",
    "- Changing the optimizer (from SGD to Adam).\n",
    "\n",
    "Everything else will stay the same."
   ]
  },
  {
   "cell_type": "code",
   "execution_count": 116,
   "id": "ad1405c1",
   "metadata": {},
   "outputs": [
    {
     "name": "stdout",
     "output_type": "stream",
     "text": [
      "Epoch 1/100\n",
      "WARNING:tensorflow:Layer dense_65 is casting an input tensor from dtype float64 to the layer's dtype of float32, which is new behavior in TensorFlow 2.  The layer has dtype float32 because its dtype defaults to floatx.\n",
      "\n",
      "If you intended to run this layer in float32, you can safely ignore this warning. If in doubt, this warning is likely only an issue if you are porting a TensorFlow 1.X model to TensorFlow 2.\n",
      "\n",
      "To change all layers to have dtype float64 by default, call `tf.keras.backend.set_floatx('float64')`. To change just this layer, pass dtype='float64' to the layer constructor. If you are the author of this layer, you can disable autocasting by passing autocast=False to the base Layer constructor.\n",
      "\n",
      "34/34 [==============================] - 0s 1ms/step - loss: 13073.3975 - mae: 13073.3975\n",
      "Epoch 2/100\n",
      "34/34 [==============================] - 0s 1ms/step - loss: 10220.4141 - mae: 10220.4141\n",
      "Epoch 3/100\n",
      "34/34 [==============================] - 0s 2ms/step - loss: 7427.3428 - mae: 7427.3428\n",
      "Epoch 4/100\n",
      "34/34 [==============================] - 0s 2ms/step - loss: 7281.5991 - mae: 7281.5991\n",
      "Epoch 5/100\n",
      "34/34 [==============================] - 0s 2ms/step - loss: 7206.6201 - mae: 7206.6201\n",
      "Epoch 6/100\n",
      "34/34 [==============================] - 0s 1ms/step - loss: 7107.5156 - mae: 7107.5156\n",
      "Epoch 7/100\n",
      "34/34 [==============================] - 0s 2ms/step - loss: 7006.1816 - mae: 7006.1816\n",
      "Epoch 8/100\n",
      "34/34 [==============================] - 0s 2ms/step - loss: 6879.4946 - mae: 6879.4946\n",
      "Epoch 9/100\n",
      "34/34 [==============================] - 0s 3ms/step - loss: 6747.8857 - mae: 6747.8857\n",
      "Epoch 10/100\n",
      "34/34 [==============================] - 0s 3ms/step - loss: 6654.1157 - mae: 6654.1157\n",
      "Epoch 11/100\n",
      "34/34 [==============================] - 0s 2ms/step - loss: 6633.1704 - mae: 6633.1704\n",
      "Epoch 12/100\n",
      "34/34 [==============================] - 0s 2ms/step - loss: 6583.1929 - mae: 6583.1929\n",
      "Epoch 13/100\n",
      "34/34 [==============================] - 0s 2ms/step - loss: 6521.1875 - mae: 6521.1875\n",
      "Epoch 14/100\n",
      "34/34 [==============================] - 0s 2ms/step - loss: 6488.0142 - mae: 6488.0142\n",
      "Epoch 15/100\n",
      "34/34 [==============================] - 0s 2ms/step - loss: 6457.2769 - mae: 6457.2769\n",
      "Epoch 16/100\n",
      "34/34 [==============================] - 0s 2ms/step - loss: 6406.9214 - mae: 6406.9214\n",
      "Epoch 17/100\n",
      "34/34 [==============================] - 0s 2ms/step - loss: 6364.1201 - mae: 6364.1201\n",
      "Epoch 18/100\n",
      "34/34 [==============================] - 0s 2ms/step - loss: 6319.9189 - mae: 6319.9189\n",
      "Epoch 19/100\n",
      "34/34 [==============================] - 0s 2ms/step - loss: 6268.3491 - mae: 6268.3491\n",
      "Epoch 20/100\n",
      "34/34 [==============================] - 0s 2ms/step - loss: 6215.2817 - mae: 6215.2817\n",
      "Epoch 21/100\n",
      "34/34 [==============================] - 0s 2ms/step - loss: 6129.4585 - mae: 6129.4585\n",
      "Epoch 22/100\n",
      "34/34 [==============================] - 0s 2ms/step - loss: 6062.4321 - mae: 6062.4321\n",
      "Epoch 23/100\n",
      "34/34 [==============================] - 0s 2ms/step - loss: 5959.1338 - mae: 5959.1338\n",
      "Epoch 24/100\n",
      "34/34 [==============================] - 0s 2ms/step - loss: 5830.2217 - mae: 5830.2217\n",
      "Epoch 25/100\n",
      "34/34 [==============================] - 0s 2ms/step - loss: 5683.4204 - mae: 5683.4204\n",
      "Epoch 26/100\n",
      "34/34 [==============================] - 0s 2ms/step - loss: 5458.4580 - mae: 5458.4580\n",
      "Epoch 27/100\n",
      "34/34 [==============================] - 0s 2ms/step - loss: 5165.3760 - mae: 5165.3760\n",
      "Epoch 28/100\n",
      "34/34 [==============================] - 0s 2ms/step - loss: 4737.2407 - mae: 4737.2407\n",
      "Epoch 29/100\n",
      "34/34 [==============================] - 0s 2ms/step - loss: 4189.8164 - mae: 4189.8164\n",
      "Epoch 30/100\n",
      "34/34 [==============================] - 0s 2ms/step - loss: 3917.5244 - mae: 3917.5244\n",
      "Epoch 31/100\n",
      "34/34 [==============================] - 0s 2ms/step - loss: 3878.7324 - mae: 3878.7324\n",
      "Epoch 32/100\n",
      "34/34 [==============================] - 0s 2ms/step - loss: 3859.5408 - mae: 3859.5408\n",
      "Epoch 33/100\n",
      "34/34 [==============================] - 0s 2ms/step - loss: 3819.8608 - mae: 3819.8608\n",
      "Epoch 34/100\n",
      "34/34 [==============================] - 0s 2ms/step - loss: 3905.5471 - mae: 3905.5471\n",
      "Epoch 35/100\n",
      "34/34 [==============================] - 0s 2ms/step - loss: 3818.3225 - mae: 3818.3225\n",
      "Epoch 36/100\n",
      "34/34 [==============================] - 0s 2ms/step - loss: 3806.6577 - mae: 3806.6577\n",
      "Epoch 37/100\n",
      "34/34 [==============================] - 0s 2ms/step - loss: 3779.8872 - mae: 3779.8872\n",
      "Epoch 38/100\n",
      "34/34 [==============================] - 0s 2ms/step - loss: 3776.9744 - mae: 3776.9744\n",
      "Epoch 39/100\n",
      "34/34 [==============================] - 0s 2ms/step - loss: 3777.3887 - mae: 3777.3887\n",
      "Epoch 40/100\n",
      "34/34 [==============================] - 0s 1ms/step - loss: 3764.1570 - mae: 3764.1570\n",
      "Epoch 41/100\n",
      "34/34 [==============================] - 0s 2ms/step - loss: 3825.1064 - mae: 3825.1064\n",
      "Epoch 42/100\n",
      "34/34 [==============================] - 0s 2ms/step - loss: 3856.0776 - mae: 3856.0776\n",
      "Epoch 43/100\n",
      "34/34 [==============================] - 0s 2ms/step - loss: 3785.8347 - mae: 3785.8347\n",
      "Epoch 44/100\n",
      "34/34 [==============================] - 0s 2ms/step - loss: 3811.4209 - mae: 3811.4209\n",
      "Epoch 45/100\n",
      "34/34 [==============================] - 0s 2ms/step - loss: 3734.4739 - mae: 3734.4739\n",
      "Epoch 46/100\n",
      "34/34 [==============================] - 0s 2ms/step - loss: 3715.1072 - mae: 3715.1072\n",
      "Epoch 47/100\n",
      "34/34 [==============================] - 0s 2ms/step - loss: 3756.2378 - mae: 3756.2378\n",
      "Epoch 48/100\n",
      "34/34 [==============================] - 0s 2ms/step - loss: 3715.3340 - mae: 3715.3340\n",
      "Epoch 49/100\n",
      "34/34 [==============================] - 0s 2ms/step - loss: 3700.9749 - mae: 3700.9749\n",
      "Epoch 50/100\n",
      "34/34 [==============================] - 0s 2ms/step - loss: 3711.4646 - mae: 3711.4646\n",
      "Epoch 51/100\n",
      "34/34 [==============================] - 0s 2ms/step - loss: 3682.9253 - mae: 3682.9253\n",
      "Epoch 52/100\n",
      "34/34 [==============================] - 0s 2ms/step - loss: 3665.8855 - mae: 3665.8855\n",
      "Epoch 53/100\n",
      "34/34 [==============================] - 0s 2ms/step - loss: 3695.9756 - mae: 3695.9756\n",
      "Epoch 54/100\n",
      "34/34 [==============================] - 0s 3ms/step - loss: 3698.5352 - mae: 3698.5352\n",
      "Epoch 55/100\n",
      "34/34 [==============================] - 0s 2ms/step - loss: 3715.3428 - mae: 3715.3428\n",
      "Epoch 56/100\n",
      "34/34 [==============================] - 0s 2ms/step - loss: 3645.4414 - mae: 3645.4414\n",
      "Epoch 57/100\n",
      "34/34 [==============================] - 0s 2ms/step - loss: 3652.7554 - mae: 3652.7554\n",
      "Epoch 58/100\n",
      "34/34 [==============================] - 0s 2ms/step - loss: 3655.2537 - mae: 3655.2537\n",
      "Epoch 59/100\n",
      "34/34 [==============================] - 0s 2ms/step - loss: 3628.4976 - mae: 3628.4976\n",
      "Epoch 60/100\n",
      "34/34 [==============================] - 0s 2ms/step - loss: 3650.5957 - mae: 3650.5957\n",
      "Epoch 61/100\n",
      "34/34 [==============================] - 0s 2ms/step - loss: 3629.7466 - mae: 3629.7466\n",
      "Epoch 62/100\n",
      "34/34 [==============================] - 0s 2ms/step - loss: 3608.6040 - mae: 3608.6040\n",
      "Epoch 63/100\n",
      "34/34 [==============================] - 0s 2ms/step - loss: 3611.5571 - mae: 3611.5571\n",
      "Epoch 64/100\n",
      "34/34 [==============================] - 0s 2ms/step - loss: 3603.0901 - mae: 3603.0901\n",
      "Epoch 65/100\n",
      "34/34 [==============================] - 0s 3ms/step - loss: 3572.9211 - mae: 3572.9211\n",
      "Epoch 66/100\n",
      "34/34 [==============================] - 0s 2ms/step - loss: 3635.4419 - mae: 3635.4419\n",
      "Epoch 67/100\n",
      "34/34 [==============================] - 0s 2ms/step - loss: 3600.4800 - mae: 3600.4800\n",
      "Epoch 68/100\n",
      "34/34 [==============================] - 0s 2ms/step - loss: 3597.0164 - mae: 3597.0164\n",
      "Epoch 69/100\n",
      "34/34 [==============================] - 0s 2ms/step - loss: 3564.0571 - mae: 3564.0571\n",
      "Epoch 70/100\n",
      "34/34 [==============================] - 0s 2ms/step - loss: 3569.6277 - mae: 3569.6277\n",
      "Epoch 71/100\n",
      "34/34 [==============================] - 0s 2ms/step - loss: 3542.1936 - mae: 3542.1936\n",
      "Epoch 72/100\n",
      "34/34 [==============================] - 0s 2ms/step - loss: 3547.7769 - mae: 3547.7769\n",
      "Epoch 73/100\n",
      "34/34 [==============================] - 0s 2ms/step - loss: 3537.5540 - mae: 3537.5540\n",
      "Epoch 74/100\n",
      "34/34 [==============================] - 0s 2ms/step - loss: 3518.1348 - mae: 3518.1348\n",
      "Epoch 75/100\n"
     ]
    },
    {
     "name": "stdout",
     "output_type": "stream",
     "text": [
      "34/34 [==============================] - 0s 2ms/step - loss: 3532.6777 - mae: 3532.6777\n",
      "Epoch 76/100\n",
      "34/34 [==============================] - 0s 2ms/step - loss: 3531.5601 - mae: 3531.5601\n",
      "Epoch 77/100\n",
      "34/34 [==============================] - 0s 2ms/step - loss: 3571.2722 - mae: 3571.2722\n",
      "Epoch 78/100\n",
      "34/34 [==============================] - 0s 1ms/step - loss: 3521.7271 - mae: 3521.7271\n",
      "Epoch 79/100\n",
      "34/34 [==============================] - 0s 1ms/step - loss: 3560.5342 - mae: 3560.5342\n",
      "Epoch 80/100\n",
      "34/34 [==============================] - 0s 1ms/step - loss: 3530.7593 - mae: 3530.7593\n",
      "Epoch 81/100\n",
      "34/34 [==============================] - 0s 1ms/step - loss: 3542.1323 - mae: 3542.1323\n",
      "Epoch 82/100\n",
      "34/34 [==============================] - 0s 1ms/step - loss: 3539.8235 - mae: 3539.8235\n",
      "Epoch 83/100\n",
      "34/34 [==============================] - 0s 1ms/step - loss: 3517.6492 - mae: 3517.6492\n",
      "Epoch 84/100\n",
      "34/34 [==============================] - 0s 1ms/step - loss: 3510.4861 - mae: 3510.4861\n",
      "Epoch 85/100\n",
      "34/34 [==============================] - 0s 1ms/step - loss: 3492.6582 - mae: 3492.6582\n",
      "Epoch 86/100\n",
      "34/34 [==============================] - 0s 1ms/step - loss: 3511.6938 - mae: 3511.6938\n",
      "Epoch 87/100\n",
      "34/34 [==============================] - 0s 1ms/step - loss: 3514.4290 - mae: 3514.4290\n",
      "Epoch 88/100\n",
      "34/34 [==============================] - 0s 1ms/step - loss: 3541.6855 - mae: 3541.6855\n",
      "Epoch 89/100\n",
      "34/34 [==============================] - 0s 1ms/step - loss: 3505.0542 - mae: 3505.0542\n",
      "Epoch 90/100\n",
      "34/34 [==============================] - 0s 1ms/step - loss: 3525.4375 - mae: 3525.4375\n",
      "Epoch 91/100\n",
      "34/34 [==============================] - 0s 1ms/step - loss: 3554.9226 - mae: 3554.9226\n",
      "Epoch 92/100\n",
      "34/34 [==============================] - 0s 1ms/step - loss: 3595.0386 - mae: 3595.0386\n",
      "Epoch 93/100\n",
      "34/34 [==============================] - 0s 1ms/step - loss: 3523.4465 - mae: 3523.4465\n",
      "Epoch 94/100\n",
      "34/34 [==============================] - 0s 1ms/step - loss: 3524.0417 - mae: 3524.0417\n",
      "Epoch 95/100\n",
      "34/34 [==============================] - 0s 1ms/step - loss: 3561.0732 - mae: 3561.0732\n",
      "Epoch 96/100\n",
      "34/34 [==============================] - 0s 1ms/step - loss: 3512.7012 - mae: 3512.7012\n",
      "Epoch 97/100\n",
      "34/34 [==============================] - 0s 1ms/step - loss: 3522.2217 - mae: 3522.2217\n",
      "Epoch 98/100\n",
      "34/34 [==============================] - 0s 1ms/step - loss: 3526.1123 - mae: 3526.1123\n",
      "Epoch 99/100\n",
      "34/34 [==============================] - 0s 1ms/step - loss: 3497.7678 - mae: 3497.7678\n",
      "Epoch 100/100\n",
      "34/34 [==============================] - 0s 1ms/step - loss: 3490.8347 - mae: 3490.8347\n"
     ]
    }
   ],
   "source": [
    "# set seed\n",
    "tf.random.set_seed(42)\n",
    "\n",
    "insurance_model_2 = tf.keras.Sequential([\n",
    "    \n",
    "    tf.keras.layers.Dense(100),\n",
    "    tf.keras.layers.Dense(50),\n",
    "    tf.keras.layers.Dense(25),\n",
    "    tf.keras.layers.Dense(10),\n",
    "    tf.keras.layers.Dense(1),\n",
    "])\n",
    "\n",
    "# Compile a model\n",
    "insurance_model_2.compile(loss = tf.keras.losses.mae,\n",
    "                        optimizer = tf.keras.optimizers.Adam(),\n",
    "                        metrics = [\"mae\"])\n",
    "\n",
    "# Fit a model\n",
    "history = insurance_model_2.fit(X_train, y_train, epochs=100)"
   ]
  },
  {
   "cell_type": "code",
   "execution_count": 117,
   "id": "f500ff25",
   "metadata": {},
   "outputs": [
    {
     "name": "stdout",
     "output_type": "stream",
     "text": [
      "9/9 [==============================] - 0s 1000us/step - loss: 3167.6304 - mae: 3167.6304\n"
     ]
    },
    {
     "data": {
      "text/plain": [
       "[3167.63037109375, 3167.63037109375]"
      ]
     },
     "execution_count": 117,
     "metadata": {},
     "output_type": "execute_result"
    }
   ],
   "source": [
    "# Evaluate our larger model\n",
    "insurance_model_2.evaluate(X_test, y_test)"
   ]
  },
  {
   "cell_type": "markdown",
   "id": "f66b3887",
   "metadata": {},
   "source": [
    "Much better! Using a larger model and the Adam optimizer results in almost half the error as the previous model.\n",
    "\n",
    "> 🔑 **Note:** For many problems, the [Adam optimizer](https://www.tensorflow.org/api_docs/python/tf/keras/optimizers/Adam) is a great starting choice. See Andrei Karpathy's \"Adam is safe\" point from [*A Recipe for Training Neural Networks*](http://karpathy.github.io/2019/04/25/recipe/) for more. \n",
    "\n",
    "Let's check out the loss curves of our model, we should see a downward trend."
   ]
  },
  {
   "cell_type": "code",
   "execution_count": 118,
   "id": "4ec5e33a",
   "metadata": {},
   "outputs": [
    {
     "data": {
      "image/png": "[encoded data removed]",
      "text/plain": [
       "<Figure size 432x288 with 1 Axes>"
      ]
     },
     "metadata": {
      "needs_background": "light"
     },
     "output_type": "display_data"
    }
   ],
   "source": [
    "# Plot history (also known as a loss curve)\n",
    "pd.DataFrame(history.history).plot()\n",
    "plt.ylabel(\"loss\")\n",
    "plt.xlabel(\"epochs\");"
   ]
  },
  {
   "cell_type": "markdown",
   "id": "6cb8de61",
   "metadata": {},
   "source": [
    "From this, it looks like our model's loss (and MAE) were both still decreasing (in our case, MAE and loss are the same, hence the lines in the plot overlap eachother).\n",
    "\n",
    "What this tells us is the loss might go down if we try training it for longer.\n",
    "\n",
    "> 🤔 **Question:** How long should you train for? \n",
    "\n",
    "> It depends on what problem you're working on. Sometimes training won't take very long, other times it'll take longer than you expect. A common method is to set your model training for a very long time (e.g. 1000's of epochs) but set it up with an [EarlyStopping callback](https://www.tensorflow.org/api_docs/python/tf/keras/callbacks/EarlyStopping) so it stops automatically when it stops improving. We'll see this in another module.\n",
    "\n",
    "Let's train the same model as above for a little longer. We can do this but calling fit on it again."
   ]
  },
  {
   "cell_type": "markdown",
   "id": "59936405",
   "metadata": {},
   "source": [
    "## Preprocessing data (normalization and standardization)\n",
    "\n",
    "A common practice when working with neural networks is to make sure all of the data you pass to them is in the range 0 to 1.\n",
    "\n",
    "This practice is called **normalization** (scaling all values from their original range to, e.g. between 0 and 100,000 to be between 0 and 1).\n",
    "\n",
    "There is another process call **standardization** which converts all of your data to unit variance and 0 mean.\n",
    "\n",
    "These two practices are often part of a preprocessing pipeline (a series of functions to prepare your data for use with neural networks).\n",
    "\n",
    "Knowing this, some of the major steps you'll take to preprocess your data for a neural network include:\n",
    "* Turning all of your data to numbers (a neural network can't handle strings).\n",
    "* Making sure your data is in the right shape (verifying input and output shapes).\n",
    "* [**Feature scaling**](https://scikit-learn.org/stable/modules/preprocessing.html#preprocessing-scaler):\n",
    "    * Normalizing data (making sure all values are between 0 and 1). This is done by subtracting the minimum value then dividing by the maximum value minus the minmum. This is also referred to as min-max scaling.\n",
    "    * Standardization (making sure all values have a mean of 0 and a variance of 1). This is done by substracting the mean value from the target feature and then dividing it by the standard deviation.\n",
    "    * Which one should you use?\n",
    "      * **With neural networks you'll tend to favour normalization** as they tend to prefer values between 0 and 1 (you'll see this espcially with image processing), however, you'll often find a neural network can perform pretty well with minimal feature scaling.\n",
    "\n",
    "> 📖 **Resource:** For more on preprocessing data, I'd recommend reading the following resources:\n",
    "* [Scikit-Learn's documentation on preprocessing data](https://scikit-learn.org/stable/modules/preprocessing.html#preprocessing-data).\n",
    "* [Scale, Standardize or Normalize with Scikit-Learn by Jeff Hale](https://towardsdatascience.com/scale-standardize-or-normalize-with-scikit-learn-6ccc7d176a02).\n",
    "\n",
    "We've already turned our data into numbers using `get_dummies()`, let's see how we'd normalize it as well."
   ]
  },
  {
   "cell_type": "code",
   "execution_count": 119,
   "id": "88020bfd",
   "metadata": {},
   "outputs": [],
   "source": [
    "# lecture - 26"
   ]
  },
  {
   "cell_type": "code",
   "execution_count": null,
   "id": "7d74cfc0",
   "metadata": {},
   "outputs": [],
   "source": []
  }
 ],
 "metadata": {
  "kernelspec": {
   "display_name": "Python 3",
   "language": "python",
   "name": "python3"
  },
  "language_info": {
   "codemirror_mode": {
    "name": "ipython",
    "version": 3
   },
   "file_extension": ".py",
   "mimetype": "text/x-python",
   "name": "python",
   "nbconvert_exporter": "python",
   "pygments_lexer": "ipython3",
   "version": "3.8.8"
  }
 },
 "nbformat": 4,
 "nbformat_minor": 5
}
