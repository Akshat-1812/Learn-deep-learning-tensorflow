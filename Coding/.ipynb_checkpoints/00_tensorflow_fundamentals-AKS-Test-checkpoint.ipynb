{
 "cells": [
  {
   "cell_type": "markdown",
   "id": "19d1ad7f",
   "metadata": {},
   "source": [
    "# 00. TensorFlow Fundamentals Exercises"
   ]
  },
  {
   "cell_type": "code",
   "execution_count": 1,
   "id": "08e10fa1",
   "metadata": {},
   "outputs": [],
   "source": [
    "import tensorflow as tf"
   ]
  },
  {
   "cell_type": "markdown",
   "id": "f6ab31b1",
   "metadata": {},
   "source": [
    "### 1. Create a vector, scalar, matrix and tensor with values of your choosing using tf.constant()."
   ]
  },
  {
   "cell_type": "code",
   "execution_count": 4,
   "id": "e157a264",
   "metadata": {},
   "outputs": [
    {
     "data": {
      "text/plain": [
       "<tf.Tensor: shape=(5,), dtype=int32, numpy=array([1, 2, 3, 4, 5])>"
      ]
     },
     "execution_count": 4,
     "metadata": {},
     "output_type": "execute_result"
    }
   ],
   "source": [
    "vector = tf.constant([1, 2, 3, 4, 5])\n",
    "vector"
   ]
  },
  {
   "cell_type": "code",
   "execution_count": 5,
   "id": "375b414c",
   "metadata": {},
   "outputs": [
    {
     "data": {
      "text/plain": [
       "1"
      ]
     },
     "execution_count": 5,
     "metadata": {},
     "output_type": "execute_result"
    }
   ],
   "source": [
    "vector.ndim"
   ]
  },
  {
   "cell_type": "code",
   "execution_count": 8,
   "id": "8ffb15e3",
   "metadata": {},
   "outputs": [
    {
     "data": {
      "text/plain": [
       "<tf.Tensor: shape=(), dtype=int32, numpy=1>"
      ]
     },
     "execution_count": 8,
     "metadata": {},
     "output_type": "execute_result"
    }
   ],
   "source": [
    "scalar = tf.constant(1)\n",
    "scalar"
   ]
  },
  {
   "cell_type": "code",
   "execution_count": 9,
   "id": "ffbbe670",
   "metadata": {},
   "outputs": [
    {
     "data": {
      "text/plain": [
       "0"
      ]
     },
     "execution_count": 9,
     "metadata": {},
     "output_type": "execute_result"
    }
   ],
   "source": [
    "scalar.ndim"
   ]
  },
  {
   "cell_type": "code",
   "execution_count": 10,
   "id": "f12ae91b",
   "metadata": {},
   "outputs": [
    {
     "data": {
      "text/plain": [
       "<tf.Tensor: shape=(2, 2), dtype=int32, numpy=\n",
       "array([[10,  7],\n",
       "       [ 7, 10]])>"
      ]
     },
     "execution_count": 10,
     "metadata": {},
     "output_type": "execute_result"
    }
   ],
   "source": [
    "matrix = tf.constant([[10, 7],\n",
    "                      [7, 10]])\n",
    "matrix"
   ]
  },
  {
   "cell_type": "code",
   "execution_count": 11,
   "id": "09e0454d",
   "metadata": {},
   "outputs": [
    {
     "data": {
      "text/plain": [
       "2"
      ]
     },
     "execution_count": 11,
     "metadata": {},
     "output_type": "execute_result"
    }
   ],
   "source": [
    "matrix.ndim"
   ]
  },
  {
   "cell_type": "code",
   "execution_count": 12,
   "id": "b9dcd08e",
   "metadata": {},
   "outputs": [
    {
     "data": {
      "text/plain": [
       "<tf.Tensor: shape=(2, 2, 2), dtype=int32, numpy=\n",
       "array([[[ 1,  2],\n",
       "        [ 3,  4]],\n",
       "\n",
       "       [[11, 12],\n",
       "        [13, 14]]])>"
      ]
     },
     "execution_count": 12,
     "metadata": {},
     "output_type": "execute_result"
    }
   ],
   "source": [
    "tensor = tf.constant([[[1,2],\n",
    "                       [3,4]],\n",
    "                      \n",
    "                      [[11,12],\n",
    "                       [13,14]]\n",
    "                     ])\n",
    "tensor"
   ]
  },
  {
   "cell_type": "code",
   "execution_count": 13,
   "id": "d1dce63f",
   "metadata": {},
   "outputs": [
    {
     "data": {
      "text/plain": [
       "3"
      ]
     },
     "execution_count": 13,
     "metadata": {},
     "output_type": "execute_result"
    }
   ],
   "source": [
    "tensor.ndim"
   ]
  },
  {
   "cell_type": "markdown",
   "id": "50bc2088",
   "metadata": {},
   "source": [
    "### 2. Find the shape, rank and size of the tensors you created in 1"
   ]
  },
  {
   "cell_type": "code",
   "execution_count": 16,
   "id": "dbc89500",
   "metadata": {},
   "outputs": [
    {
     "data": {
      "text/plain": [
       "(TensorShape([2, 2, 2]),\n",
       " <tf.Tensor: shape=(), dtype=int32, numpy=3>,\n",
       " <tf.Tensor: shape=(), dtype=int32, numpy=8>)"
      ]
     },
     "execution_count": 16,
     "metadata": {},
     "output_type": "execute_result"
    }
   ],
   "source": [
    "tensor.shape, tf.rank(tensor), tf.size(tensor)"
   ]
  },
  {
   "cell_type": "markdown",
   "id": "646bc7ea",
   "metadata": {},
   "source": [
    "### 3. Create two tensors containing random values between 0 and 1 with shape `[5, 300]`."
   ]
  },
  {
   "cell_type": "code",
   "execution_count": 18,
   "id": "28ed9109",
   "metadata": {},
   "outputs": [],
   "source": [
    "tf.random.set_seed(42)\n",
    "\n",
    "random_1 = tf.random.uniform(shape=(5,300))\n",
    "random_2 = tf.random.uniform(shape=(5,300))"
   ]
  },
  {
   "cell_type": "code",
   "execution_count": 19,
   "id": "1757c6ae",
   "metadata": {},
   "outputs": [
    {
     "data": {
      "text/plain": [
       "(<tf.Tensor: shape=(5, 300), dtype=float32, numpy=\n",
       " array([[0.6645621 , 0.44100678, 0.3528825 , ..., 0.31410468, 0.7593535 ,\n",
       "         0.03699052],\n",
       "        [0.532024  , 0.29129946, 0.10571766, ..., 0.54052293, 0.31425726,\n",
       "         0.2200619 ],\n",
       "        [0.08404207, 0.03614604, 0.97732127, ..., 0.21516645, 0.9786098 ,\n",
       "         0.00726748],\n",
       "        [0.7396945 , 0.6653172 , 0.0787828 , ..., 0.7117733 , 0.07013571,\n",
       "         0.9409125 ],\n",
       "        [0.15861344, 0.12024033, 0.27218235, ..., 0.8824879 , 0.1432488 ,\n",
       "         0.44135118]], dtype=float32)>,\n",
       " <tf.Tensor: shape=(5, 300), dtype=float32, numpy=\n",
       " array([[0.68789124, 0.48447883, 0.9309944 , ..., 0.6920762 , 0.33180213,\n",
       "         0.9212563 ],\n",
       "        [0.27369928, 0.10631859, 0.6218617 , ..., 0.4382149 , 0.30427706,\n",
       "         0.51477313],\n",
       "        [0.00920248, 0.37280262, 0.8177401 , ..., 0.56786287, 0.49201214,\n",
       "         0.9892651 ],\n",
       "        [0.88608265, 0.08672249, 0.12160683, ..., 0.91770685, 0.72545695,\n",
       "         0.8280058 ],\n",
       "        [0.36690474, 0.9200133 , 0.9646884 , ..., 0.69012   , 0.7137332 ,\n",
       "         0.2584542 ]], dtype=float32)>)"
      ]
     },
     "execution_count": 19,
     "metadata": {},
     "output_type": "execute_result"
    }
   ],
   "source": [
    "random_1, random_2"
   ]
  },
  {
   "cell_type": "code",
   "execution_count": 20,
   "id": "78fc5dd0",
   "metadata": {},
   "outputs": [
    {
     "data": {
      "text/plain": [
       "(TensorShape([5, 300]), TensorShape([5, 300]))"
      ]
     },
     "execution_count": 20,
     "metadata": {},
     "output_type": "execute_result"
    }
   ],
   "source": [
    "random_1.shape, random_2.shape"
   ]
  },
  {
   "cell_type": "markdown",
   "id": "fcd961ad",
   "metadata": {},
   "source": [
    "### 4. Multiply the two tensors you created in 3 using matrix multiplication."
   ]
  },
  {
   "cell_type": "code",
   "execution_count": 22,
   "id": "7103c860",
   "metadata": {},
   "outputs": [
    {
     "data": {
      "text/plain": [
       "<tf.Tensor: shape=(5, 5), dtype=float32, numpy=\n",
       "array([[80.33345 , 73.40499 , 77.159615, 73.98369 , 80.90053 ],\n",
       "       [75.146355, 68.80437 , 74.24302 , 71.841835, 75.602066],\n",
       "       [79.7594  , 75.644554, 77.79758 , 74.74873 , 80.55984 ],\n",
       "       [75.08526 , 69.064064, 74.30776 , 72.27615 , 76.05669 ],\n",
       "       [85.05688 , 74.26627 , 78.00686 , 74.88679 , 83.13417 ]],\n",
       "      dtype=float32)>"
      ]
     },
     "execution_count": 22,
     "metadata": {},
     "output_type": "execute_result"
    }
   ],
   "source": [
    "tf.matmul(random_1, tf.transpose(random_2) )"
   ]
  },
  {
   "cell_type": "markdown",
   "id": "467f032f",
   "metadata": {},
   "source": [
    "### 5. Multiply the two tensors you created in 3 using dot product."
   ]
  },
  {
   "cell_type": "code",
   "execution_count": 26,
   "id": "62e379e5",
   "metadata": {},
   "outputs": [
    {
     "data": {
      "text/plain": [
       "<tf.Tensor: shape=(5, 5), dtype=float32, numpy=\n",
       "array([[80.33345 , 73.40499 , 77.159615, 73.98369 , 80.90053 ],\n",
       "       [75.146355, 68.80437 , 74.24302 , 71.841835, 75.602066],\n",
       "       [79.7594  , 75.644554, 77.79758 , 74.74873 , 80.55984 ],\n",
       "       [75.08526 , 69.064064, 74.30776 , 72.27615 , 76.05669 ],\n",
       "       [85.05688 , 74.26627 , 78.00686 , 74.88679 , 83.13417 ]],\n",
       "      dtype=float32)>"
      ]
     },
     "execution_count": 26,
     "metadata": {},
     "output_type": "execute_result"
    }
   ],
   "source": [
    "tf.tensordot(random_1, tf.transpose(random_2), axes = 1)"
   ]
  },
  {
   "cell_type": "markdown",
   "id": "038e67a9",
   "metadata": {},
   "source": [
    "### 6. Create a tensor with random values between 0 and 1 with shape `[224, 224, 3]`."
   ]
  },
  {
   "cell_type": "code",
   "execution_count": 27,
   "id": "91c4c864",
   "metadata": {},
   "outputs": [
    {
     "data": {
      "text/plain": [
       "<tf.Tensor: shape=(224, 224, 3), dtype=float32, numpy=\n",
       "array([[[0.7413678 , 0.62854624, 0.01738465],\n",
       "        [0.3431449 , 0.51063764, 0.3777541 ],\n",
       "        [0.07321596, 0.02137029, 0.2871771 ],\n",
       "        ...,\n",
       "        [0.98953485, 0.45382905, 0.2006687 ],\n",
       "        [0.6295223 , 0.4937899 , 0.01816809],\n",
       "        [0.95386636, 0.11542463, 0.85691285]],\n",
       "\n",
       "       [[0.78435016, 0.7826872 , 0.87936425],\n",
       "        [0.24906898, 0.3207239 , 0.10955775],\n",
       "        [0.543224  , 0.7151396 , 0.40334642],\n",
       "        ...,\n",
       "        [0.2445668 , 0.01746976, 0.9036933 ],\n",
       "        [0.02975535, 0.592268  , 0.9877522 ],\n",
       "        [0.36701274, 0.33112562, 0.5638567 ]],\n",
       "\n",
       "       [[0.15829337, 0.7288823 , 0.3366307 ],\n",
       "        [0.70792687, 0.16910625, 0.9429966 ],\n",
       "        [0.10120225, 0.5919596 , 0.8687303 ],\n",
       "        ...,\n",
       "        [0.28134012, 0.10011208, 0.37038183],\n",
       "        [0.77874243, 0.05421627, 0.4664607 ],\n",
       "        [0.2549187 , 0.7968637 , 0.83405185]],\n",
       "\n",
       "       ...,\n",
       "\n",
       "       [[0.32922816, 0.06343532, 0.23936498],\n",
       "        [0.42692196, 0.3615111 , 0.901929  ],\n",
       "        [0.8320831 , 0.21068895, 0.08272386],\n",
       "        ...,\n",
       "        [0.65110314, 0.40780962, 0.25967455],\n",
       "        [0.9018173 , 0.8245677 , 0.16757596],\n",
       "        [0.41854453, 0.19092035, 0.2523303 ]],\n",
       "\n",
       "       [[0.7064005 , 0.222404  , 0.82219553],\n",
       "        [0.8235872 , 0.76544905, 0.80999327],\n",
       "        [0.1100682 , 0.00520217, 0.6127168 ],\n",
       "        ...,\n",
       "        [0.98068535, 0.8958733 , 0.17706168],\n",
       "        [0.4252876 , 0.02087164, 0.496238  ],\n",
       "        [0.6599953 , 0.58505726, 0.7089884 ]],\n",
       "\n",
       "       [[0.90045786, 0.45803344, 0.9050728 ],\n",
       "        [0.92233   , 0.38456154, 0.30329156],\n",
       "        [0.03238845, 0.18773472, 0.9096625 ],\n",
       "        ...,\n",
       "        [0.4445815 , 0.04578841, 0.21090853],\n",
       "        [0.25966525, 0.24412918, 0.76123405],\n",
       "        [0.9643831 , 0.32687283, 0.4828869 ]]], dtype=float32)>"
      ]
     },
     "execution_count": 27,
     "metadata": {},
     "output_type": "execute_result"
    }
   ],
   "source": [
    "random_3 = tf.random.uniform(shape=(224,224,3))\n",
    "random_3"
   ]
  },
  {
   "cell_type": "markdown",
   "id": "4b3a2b6e",
   "metadata": {},
   "source": [
    "### 7. Find the min and max values of the tensor you created in 6 along the first axis."
   ]
  },
  {
   "cell_type": "code",
   "execution_count": 30,
   "id": "54c9364b",
   "metadata": {},
   "outputs": [
    {
     "data": {
      "text/plain": [
       "<tf.Tensor: shape=(), dtype=float32, numpy=2.3841858e-07>"
      ]
     },
     "execution_count": 30,
     "metadata": {},
     "output_type": "execute_result"
    }
   ],
   "source": [
    "tf.reduce_min(random_3)"
   ]
  },
  {
   "cell_type": "code",
   "execution_count": 31,
   "id": "37e03b6c",
   "metadata": {},
   "outputs": [
    {
     "data": {
      "text/plain": [
       "<tf.Tensor: shape=(), dtype=float32, numpy=0.9999918>"
      ]
     },
     "execution_count": 31,
     "metadata": {},
     "output_type": "execute_result"
    }
   ],
   "source": [
    "tf.reduce_max(random_3)"
   ]
  },
  {
   "cell_type": "markdown",
   "id": "48cb288b",
   "metadata": {},
   "source": [
    "### 8. Created a tensor with random values of shape `[1, 224, 224, 3]` then squeeze it to change the shape to `[224, 224, 3]`."
   ]
  },
  {
   "cell_type": "code",
   "execution_count": 32,
   "id": "6cd33152",
   "metadata": {},
   "outputs": [
    {
     "data": {
      "text/plain": [
       "TensorShape([1, 224, 224, 3])"
      ]
     },
     "execution_count": 32,
     "metadata": {},
     "output_type": "execute_result"
    }
   ],
   "source": [
    "ten = tf.random.uniform(shape=(1,224,224,3))\n",
    "ten.shape"
   ]
  },
  {
   "cell_type": "code",
   "execution_count": 33,
   "id": "8df5c81c",
   "metadata": {},
   "outputs": [
    {
     "data": {
      "text/plain": [
       "TensorShape([224, 224, 3])"
      ]
     },
     "execution_count": 33,
     "metadata": {},
     "output_type": "execute_result"
    }
   ],
   "source": [
    "ten_squeezed = tf.squeeze(ten)\n",
    "ten_squeezed.shape"
   ]
  },
  {
   "cell_type": "markdown",
   "id": "422dd9ed",
   "metadata": {},
   "source": [
    "### 9. Create a tensor with shape `[10]` using your own choice of values, then find the index which has the maximum value."
   ]
  },
  {
   "cell_type": "code",
   "execution_count": 34,
   "id": "f376c979",
   "metadata": {},
   "outputs": [],
   "source": [
    "import numpy as np"
   ]
  },
  {
   "cell_type": "code",
   "execution_count": 35,
   "id": "2def4b1e",
   "metadata": {},
   "outputs": [
    {
     "data": {
      "text/plain": [
       "<tf.Tensor: shape=(10,), dtype=float64, numpy=\n",
       "array([0.56389655, 0.16388109, 0.9065678 , 0.91986917, 0.10156039,\n",
       "       0.35448341, 0.03437443, 0.85241231, 0.91554875, 0.67414422])>"
      ]
     },
     "execution_count": 35,
     "metadata": {},
     "output_type": "execute_result"
    }
   ],
   "source": [
    "my_ten = tf.constant(np.random.random(10))\n",
    "my_ten"
   ]
  },
  {
   "cell_type": "code",
   "execution_count": 36,
   "id": "b9460d8e",
   "metadata": {},
   "outputs": [
    {
     "data": {
      "text/plain": [
       "<tf.Tensor: shape=(), dtype=int64, numpy=3>"
      ]
     },
     "execution_count": 36,
     "metadata": {},
     "output_type": "execute_result"
    }
   ],
   "source": [
    "tf.argmax(my_ten)"
   ]
  },
  {
   "cell_type": "code",
   "execution_count": 37,
   "id": "ae94b493",
   "metadata": {},
   "outputs": [
    {
     "data": {
      "text/plain": [
       "<tf.Tensor: shape=(), dtype=float64, numpy=0.9198691733811569>"
      ]
     },
     "execution_count": 37,
     "metadata": {},
     "output_type": "execute_result"
    }
   ],
   "source": [
    "tf.reduce_max(my_ten)"
   ]
  },
  {
   "cell_type": "code",
   "execution_count": 38,
   "id": "521c66c2",
   "metadata": {},
   "outputs": [
    {
     "data": {
      "text/plain": [
       "<tf.Tensor: shape=(), dtype=float64, numpy=0.9198691733811569>"
      ]
     },
     "execution_count": 38,
     "metadata": {},
     "output_type": "execute_result"
    }
   ],
   "source": [
    "my_ten[tf.argmax(my_ten)]"
   ]
  },
  {
   "cell_type": "markdown",
   "id": "2f690561",
   "metadata": {},
   "source": [
    "### 10. One-hot encode the tensor you created in 9."
   ]
  },
  {
   "cell_type": "code",
   "execution_count": 45,
   "id": "29087239",
   "metadata": {},
   "outputs": [
    {
     "data": {
      "text/plain": [
       "<tf.Tensor: shape=(5, 5), dtype=float32, numpy=\n",
       "array([[0., 1., 0., 0., 0.],\n",
       "       [0., 0., 0., 1., 0.],\n",
       "       [0., 0., 0., 0., 0.],\n",
       "       [0., 0., 0., 0., 0.],\n",
       "       [0., 0., 0., 0., 0.]], dtype=float32)>"
      ]
     },
     "execution_count": 45,
     "metadata": {},
     "output_type": "execute_result"
    }
   ],
   "source": [
    "tf.one_hot(np.arange(1,10,2), depth=5)"
   ]
  },
  {
   "cell_type": "code",
   "execution_count": 48,
   "id": "101726ad",
   "metadata": {},
   "outputs": [
    {
     "data": {
      "text/plain": [
       "<tf.Tensor: shape=(2, 2), dtype=int32, numpy=\n",
       "array([[10,  4],\n",
       "       [ 6, 10]])>"
      ]
     },
     "execution_count": 48,
     "metadata": {},
     "output_type": "execute_result"
    }
   ],
   "source": [
    "t1 = tf.constant([[10,7],\n",
    "                  [7,10]])\n",
    "\n",
    "t2 = tf.constant([[10, 20],\n",
    "                 [30, 10]])\n",
    "\n",
    "# Elementwise computes the bitwise AND of x and y.\n",
    "tf.bitwise.bitwise_and(t1, t2)"
   ]
  },
  {
   "cell_type": "code",
   "execution_count": 49,
   "id": "7adc535d",
   "metadata": {},
   "outputs": [],
   "source": [
    "month_purches = tf.constant([[2, 3, 5],\n",
    "                             [5, 1, 2],\n",
    "                             [14, 3, 9]])\n",
    "\n",
    "price = tf.constant([10,6,8])"
   ]
  },
  {
   "cell_type": "code",
   "execution_count": 53,
   "id": "3161f392",
   "metadata": {},
   "outputs": [
    {
     "data": {
      "text/plain": [
       "<tf.Tensor: shape=(3,), dtype=int32, numpy=array([162,  60, 134])>"
      ]
     },
     "execution_count": 53,
     "metadata": {},
     "output_type": "execute_result"
    }
   ],
   "source": [
    "# bill per month\n",
    "month_bill = tf.tensordot(price, month_purches, axes=1)\n",
    "month_bill"
   ]
  },
  {
   "cell_type": "code",
   "execution_count": 54,
   "id": "d4093f5d",
   "metadata": {},
   "outputs": [],
   "source": [
    "# total bill of 3 month\n",
    "total_3 = tf.reduce_sum(month_bill)"
   ]
  },
  {
   "cell_type": "code",
   "execution_count": 55,
   "id": "ab42e992",
   "metadata": {},
   "outputs": [
    {
     "data": {
      "text/plain": [
       "<tf.Tensor: shape=(), dtype=int32, numpy=356>"
      ]
     },
     "execution_count": 55,
     "metadata": {},
     "output_type": "execute_result"
    }
   ],
   "source": [
    "total_3"
   ]
  },
  {
   "cell_type": "code",
   "execution_count": null,
   "id": "77670065",
   "metadata": {},
   "outputs": [],
   "source": []
  }
 ],
 "metadata": {
  "kernelspec": {
   "display_name": "Python 3",
   "language": "python",
   "name": "python3"
  },
  "language_info": {
   "codemirror_mode": {
    "name": "ipython",
    "version": 3
   },
   "file_extension": ".py",
   "mimetype": "text/x-python",
   "name": "python",
   "nbconvert_exporter": "python",
   "pygments_lexer": "ipython3",
   "version": "3.8.8"
  }
 },
 "nbformat": 4,
 "nbformat_minor": 5
}
